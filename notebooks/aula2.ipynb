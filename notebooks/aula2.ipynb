{
 "cells": [
  {
   "cell_type": "markdown",
   "metadata": {},
   "source": [
    "# Processamento e análise de dados com Python"
   ]
  },
  {
   "cell_type": "markdown",
   "metadata": {},
   "source": [
    "## Contexto e casos de uso\n",
    "- Porque `pandas` em vez de Excel e planilhas em geral?\n",
    "  - separação entre código e dados\n",
    "  - transparência procedimental -> notebooks\n",
    "  - reprodutibilidade -> `docker`, `virtualenv` etc.\n",
    "  - automação -> `cron`, `Airflow`, `Prefect` etc.\n",
    "  - custo -> open-source\n",
    "  - big data\n",
    "    - `Dask`\n",
    "    - `vaex`\n",
    "    - `Spark`*\n",
    "  - type safety\n",
    "  - ecossistema pythônico\n",
    "    - automação de workflows: `Airflow`, `Prefect`\n",
    "    - ciência de dados: `scikit-learn`, `Tensorflow`, `PyTorch`, `numpy`, `statsmodels`, `gensim`, `nltk`, `spaCy` etc.\n",
    "    - web e APIs: `FastAPI`, `django`, `flask` etc.\n",
    "    - libs de big data citadas acima\n",
    "    - muito mais\n",
    "- Casos de uso\n",
    "  - análise exploratória de dados\n",
    "  - processamento automatizado de dados\n",
    "    - limpeza de dados\n",
    "    - transformações de dados: operações de agregação, pivot tables etc.\n",
    "  - machine learning\n",
    "    - feature engineering\n",
    "    - treinamento de modelos de machine learning\n",
    "  - muito mais\n",
    "\n",
    "Dica de palestra do cientista de dados Vincent D. Warmerdam sobre o assunto na PyData Eindhoven 2021: [https://www.youtube.com/watch?v=yXGCKqo5cEY](https://www.youtube.com/watch?v=yXGCKqo5cEY)"
   ]
  },
  {
   "cell_type": "markdown",
   "metadata": {},
   "source": [
    "## Conceitos: vetorização e DataFrames"
   ]
  },
  {
   "cell_type": "markdown",
   "metadata": {},
   "source": [
    "### Vetorização\n",
    "![Vetorização](vetorizacao.png \"Vetorização\")\n",
    "\n",
    "Fonte: [https://datascience.blog.wzb.eu/2018/02/02/vectorization-and-parallelization-in-python-with-numpy-and-pandas/](https://datascience.blog.wzb.eu/2018/02/02/vectorization-and-parallelization-in-python-with-numpy-and-pandas/)"
   ]
  },
  {
   "cell_type": "code",
   "execution_count": 2,
   "metadata": {},
   "outputs": [
    {
     "name": "stdout",
     "output_type": "stream",
     "text": [
      "67.2 ms ± 1.41 ms per loop (mean ± std. dev. of 7 runs, 10 loops each)\n"
     ]
    }
   ],
   "source": [
    "import random\n",
    "\n",
    "a = [random.randint(1, 100) for _ in range(1000000)]\n",
    "b = [random.randint(1, 100) for _ in range(1000000)]\n",
    "%timeit res = [x * y for x, y in zip(a, b)]"
   ]
  },
  {
   "cell_type": "code",
   "execution_count": 3,
   "metadata": {},
   "outputs": [
    {
     "name": "stdout",
     "output_type": "stream",
     "text": [
      "1.53 ms ± 45.8 µs per loop (mean ± std. dev. of 7 runs, 1000 loops each)\n"
     ]
    }
   ],
   "source": [
    "import numpy as np\n",
    "\n",
    "a = np.random.randint(1, 100, 1000000)\n",
    "b = np.random.randint(1, 100, 1000000)\n",
    "%timeit a * b"
   ]
  },
  {
   "cell_type": "code",
   "execution_count": 4,
   "metadata": {},
   "outputs": [
    {
     "name": "stdout",
     "output_type": "stream",
     "text": [
      "1.61 ms ± 25.5 µs per loop (mean ± std. dev. of 7 runs, 1000 loops each)\n"
     ]
    }
   ],
   "source": [
    "import pandas as pd\n",
    "\n",
    "s1 = pd.Series(a)\n",
    "s2 = pd.Series(b)\n",
    "%timeit s1 * s2"
   ]
  },
  {
   "cell_type": "markdown",
   "metadata": {},
   "source": [
    "### DataFrame\n",
    "De acordo com a [documentação](https://pandas.pydata.org/pandas-docs/stable/user_guide/dsintro.html#dataframe) do `pandas`:\n",
    "> DataFrame is a 2-dimensional labeled data structure with columns of potentially different types.\n",
    "\n",
    "Características gerais:\n",
    "- dados são carregados na memória\n",
    "- vetorização\n",
    "- tipagem de colunas\n",
    "- índices\n",
    "- flexibilidade de input: `json`, `csv`, `xlsx`, `sql` etc."
   ]
  },
  {
   "cell_type": "markdown",
   "metadata": {},
   "source": [
    "## Colocando a mão na massa"
   ]
  },
  {
   "cell_type": "code",
   "execution_count": 5,
   "metadata": {},
   "outputs": [
    {
     "name": "stdout",
     "output_type": "stream",
     "text": [
      "Requirement already satisfied: pandas in ./.venv/lib/python3.8/site-packages (1.3.4)\n",
      "Requirement already satisfied: pytz>=2017.3 in ./.venv/lib/python3.8/site-packages (from pandas) (2021.3)\n",
      "Requirement already satisfied: numpy>=1.17.3 in ./.venv/lib/python3.8/site-packages (from pandas) (1.21.3)\n",
      "Requirement already satisfied: python-dateutil>=2.7.3 in ./.venv/lib/python3.8/site-packages (from pandas) (2.8.2)\n",
      "Requirement already satisfied: six>=1.5 in ./.venv/lib/python3.8/site-packages (from python-dateutil>=2.7.3->pandas) (1.16.0)\n",
      "\u001b[33mWARNING: You are using pip version 21.1.1; however, version 21.3.1 is available.\n",
      "You should consider upgrading via the '/home/vmussa/dev/alexandria/notebooks/.venv/bin/python -m pip install --upgrade pip' command.\u001b[0m\n"
     ]
    }
   ],
   "source": [
    "!pip install pandas"
   ]
  },
  {
   "cell_type": "code",
   "execution_count": 6,
   "metadata": {},
   "outputs": [],
   "source": [
    "import pandas as pd"
   ]
  },
  {
   "cell_type": "markdown",
   "metadata": {},
   "source": [
    "### Criando um `DataFrame`"
   ]
  },
  {
   "cell_type": "code",
   "execution_count": 7,
   "metadata": {},
   "outputs": [
    {
     "name": "stdout",
     "output_type": "stream",
     "text": [
      "\u001b[0;31mInit signature:\u001b[0m\n",
      "\u001b[0mpd\u001b[0m\u001b[0;34m.\u001b[0m\u001b[0mDataFrame\u001b[0m\u001b[0;34m(\u001b[0m\u001b[0;34m\u001b[0m\n",
      "\u001b[0;34m\u001b[0m    \u001b[0mdata\u001b[0m\u001b[0;34m=\u001b[0m\u001b[0;32mNone\u001b[0m\u001b[0;34m,\u001b[0m\u001b[0;34m\u001b[0m\n",
      "\u001b[0;34m\u001b[0m    \u001b[0mindex\u001b[0m\u001b[0;34m:\u001b[0m \u001b[0;34m'Axes | None'\u001b[0m \u001b[0;34m=\u001b[0m \u001b[0;32mNone\u001b[0m\u001b[0;34m,\u001b[0m\u001b[0;34m\u001b[0m\n",
      "\u001b[0;34m\u001b[0m    \u001b[0mcolumns\u001b[0m\u001b[0;34m:\u001b[0m \u001b[0;34m'Axes | None'\u001b[0m \u001b[0;34m=\u001b[0m \u001b[0;32mNone\u001b[0m\u001b[0;34m,\u001b[0m\u001b[0;34m\u001b[0m\n",
      "\u001b[0;34m\u001b[0m    \u001b[0mdtype\u001b[0m\u001b[0;34m:\u001b[0m \u001b[0;34m'Dtype | None'\u001b[0m \u001b[0;34m=\u001b[0m \u001b[0;32mNone\u001b[0m\u001b[0;34m,\u001b[0m\u001b[0;34m\u001b[0m\n",
      "\u001b[0;34m\u001b[0m    \u001b[0mcopy\u001b[0m\u001b[0;34m:\u001b[0m \u001b[0;34m'bool | None'\u001b[0m \u001b[0;34m=\u001b[0m \u001b[0;32mNone\u001b[0m\u001b[0;34m,\u001b[0m\u001b[0;34m\u001b[0m\n",
      "\u001b[0;34m\u001b[0m\u001b[0;34m)\u001b[0m\u001b[0;34m\u001b[0m\u001b[0;34m\u001b[0m\u001b[0m\n",
      "\u001b[0;31mDocstring:\u001b[0m     \n",
      "Two-dimensional, size-mutable, potentially heterogeneous tabular data.\n",
      "\n",
      "Data structure also contains labeled axes (rows and columns).\n",
      "Arithmetic operations align on both row and column labels. Can be\n",
      "thought of as a dict-like container for Series objects. The primary\n",
      "pandas data structure.\n",
      "\n",
      "Parameters\n",
      "----------\n",
      "data : ndarray (structured or homogeneous), Iterable, dict, or DataFrame\n",
      "    Dict can contain Series, arrays, constants, dataclass or list-like objects. If\n",
      "    data is a dict, column order follows insertion-order.\n",
      "\n",
      "    .. versionchanged:: 0.25.0\n",
      "       If data is a list of dicts, column order follows insertion-order.\n",
      "\n",
      "index : Index or array-like\n",
      "    Index to use for resulting frame. Will default to RangeIndex if\n",
      "    no indexing information part of input data and no index provided.\n",
      "columns : Index or array-like\n",
      "    Column labels to use for resulting frame when data does not have them,\n",
      "    defaulting to RangeIndex(0, 1, 2, ..., n). If data contains column labels,\n",
      "    will perform column selection instead.\n",
      "dtype : dtype, default None\n",
      "    Data type to force. Only a single dtype is allowed. If None, infer.\n",
      "copy : bool or None, default None\n",
      "    Copy data from inputs.\n",
      "    For dict data, the default of None behaves like ``copy=True``.  For DataFrame\n",
      "    or 2d ndarray input, the default of None behaves like ``copy=False``.\n",
      "\n",
      "    .. versionchanged:: 1.3.0\n",
      "\n",
      "See Also\n",
      "--------\n",
      "DataFrame.from_records : Constructor from tuples, also record arrays.\n",
      "DataFrame.from_dict : From dicts of Series, arrays, or dicts.\n",
      "read_csv : Read a comma-separated values (csv) file into DataFrame.\n",
      "read_table : Read general delimited file into DataFrame.\n",
      "read_clipboard : Read text from clipboard into DataFrame.\n",
      "\n",
      "Examples\n",
      "--------\n",
      "Constructing DataFrame from a dictionary.\n",
      "\n",
      ">>> d = {'col1': [1, 2], 'col2': [3, 4]}\n",
      ">>> df = pd.DataFrame(data=d)\n",
      ">>> df\n",
      "   col1  col2\n",
      "0     1     3\n",
      "1     2     4\n",
      "\n",
      "Notice that the inferred dtype is int64.\n",
      "\n",
      ">>> df.dtypes\n",
      "col1    int64\n",
      "col2    int64\n",
      "dtype: object\n",
      "\n",
      "To enforce a single dtype:\n",
      "\n",
      ">>> df = pd.DataFrame(data=d, dtype=np.int8)\n",
      ">>> df.dtypes\n",
      "col1    int8\n",
      "col2    int8\n",
      "dtype: object\n",
      "\n",
      "Constructing DataFrame from numpy ndarray:\n",
      "\n",
      ">>> df2 = pd.DataFrame(np.array([[1, 2, 3], [4, 5, 6], [7, 8, 9]]),\n",
      "...                    columns=['a', 'b', 'c'])\n",
      ">>> df2\n",
      "   a  b  c\n",
      "0  1  2  3\n",
      "1  4  5  6\n",
      "2  7  8  9\n",
      "\n",
      "Constructing DataFrame from a numpy ndarray that has labeled columns:\n",
      "\n",
      ">>> data = np.array([(1, 2, 3), (4, 5, 6), (7, 8, 9)],\n",
      "...                 dtype=[(\"a\", \"i4\"), (\"b\", \"i4\"), (\"c\", \"i4\")])\n",
      ">>> df3 = pd.DataFrame(data, columns=['c', 'a'])\n",
      "...\n",
      ">>> df3\n",
      "   c  a\n",
      "0  3  1\n",
      "1  6  4\n",
      "2  9  7\n",
      "\n",
      "Constructing DataFrame from dataclass:\n",
      "\n",
      ">>> from dataclasses import make_dataclass\n",
      ">>> Point = make_dataclass(\"Point\", [(\"x\", int), (\"y\", int)])\n",
      ">>> pd.DataFrame([Point(0, 0), Point(0, 3), Point(2, 3)])\n",
      "   x  y\n",
      "0  0  0\n",
      "1  0  3\n",
      "2  2  3\n",
      "\u001b[0;31mFile:\u001b[0m           ~/dev/alexandria/notebooks/.venv/lib/python3.8/site-packages/pandas/core/frame.py\n",
      "\u001b[0;31mType:\u001b[0m           type\n",
      "\u001b[0;31mSubclasses:\u001b[0m     SubclassedDataFrame\n"
     ]
    }
   ],
   "source": [
    "pd.DataFrame?"
   ]
  },
  {
   "cell_type": "code",
   "execution_count": 8,
   "metadata": {},
   "outputs": [
    {
     "data": {
      "text/html": [
       "<div>\n",
       "<style scoped>\n",
       "    .dataframe tbody tr th:only-of-type {\n",
       "        vertical-align: middle;\n",
       "    }\n",
       "\n",
       "    .dataframe tbody tr th {\n",
       "        vertical-align: top;\n",
       "    }\n",
       "\n",
       "    .dataframe thead th {\n",
       "        text-align: right;\n",
       "    }\n",
       "</style>\n",
       "<table border=\"1\" class=\"dataframe\">\n",
       "  <thead>\n",
       "    <tr style=\"text-align: right;\">\n",
       "      <th></th>\n",
       "      <th>a</th>\n",
       "      <th>b</th>\n",
       "    </tr>\n",
       "  </thead>\n",
       "  <tbody>\n",
       "    <tr>\n",
       "      <th>0</th>\n",
       "      <td>1</td>\n",
       "      <td>4</td>\n",
       "    </tr>\n",
       "    <tr>\n",
       "      <th>1</th>\n",
       "      <td>2</td>\n",
       "      <td>5</td>\n",
       "    </tr>\n",
       "    <tr>\n",
       "      <th>2</th>\n",
       "      <td>3</td>\n",
       "      <td>6</td>\n",
       "    </tr>\n",
       "  </tbody>\n",
       "</table>\n",
       "</div>"
      ],
      "text/plain": [
       "   a  b\n",
       "0  1  4\n",
       "1  2  5\n",
       "2  3  6"
      ]
     },
     "execution_count": 8,
     "metadata": {},
     "output_type": "execute_result"
    }
   ],
   "source": [
    "pd.DataFrame({'a': [1, 2, 3], 'b': [4, 5, 6]})"
   ]
  },
  {
   "cell_type": "code",
   "execution_count": 9,
   "metadata": {},
   "outputs": [
    {
     "data": {
      "text/html": [
       "<div>\n",
       "<style scoped>\n",
       "    .dataframe tbody tr th:only-of-type {\n",
       "        vertical-align: middle;\n",
       "    }\n",
       "\n",
       "    .dataframe tbody tr th {\n",
       "        vertical-align: top;\n",
       "    }\n",
       "\n",
       "    .dataframe thead th {\n",
       "        text-align: right;\n",
       "    }\n",
       "</style>\n",
       "<table border=\"1\" class=\"dataframe\">\n",
       "  <thead>\n",
       "    <tr style=\"text-align: right;\">\n",
       "      <th></th>\n",
       "      <th>a</th>\n",
       "      <th>b</th>\n",
       "    </tr>\n",
       "  </thead>\n",
       "  <tbody>\n",
       "    <tr>\n",
       "      <th>0</th>\n",
       "      <td>1</td>\n",
       "      <td>4</td>\n",
       "    </tr>\n",
       "    <tr>\n",
       "      <th>1</th>\n",
       "      <td>2</td>\n",
       "      <td>5</td>\n",
       "    </tr>\n",
       "    <tr>\n",
       "      <th>2</th>\n",
       "      <td>3</td>\n",
       "      <td>6</td>\n",
       "    </tr>\n",
       "  </tbody>\n",
       "</table>\n",
       "</div>"
      ],
      "text/plain": [
       "   a  b\n",
       "0  1  4\n",
       "1  2  5\n",
       "2  3  6"
      ]
     },
     "execution_count": 9,
     "metadata": {},
     "output_type": "execute_result"
    }
   ],
   "source": [
    "pd.DataFrame(data=[[1, 4], [2, 5], [3, 6]], columns=['a', 'b'])"
   ]
  },
  {
   "cell_type": "code",
   "execution_count": 10,
   "metadata": {},
   "outputs": [
    {
     "data": {
      "text/html": [
       "<div>\n",
       "<style scoped>\n",
       "    .dataframe tbody tr th:only-of-type {\n",
       "        vertical-align: middle;\n",
       "    }\n",
       "\n",
       "    .dataframe tbody tr th {\n",
       "        vertical-align: top;\n",
       "    }\n",
       "\n",
       "    .dataframe thead th {\n",
       "        text-align: right;\n",
       "    }\n",
       "</style>\n",
       "<table border=\"1\" class=\"dataframe\">\n",
       "  <thead>\n",
       "    <tr style=\"text-align: right;\">\n",
       "      <th></th>\n",
       "      <th>authors</th>\n",
       "      <th>quotes</th>\n",
       "      <th>tags</th>\n",
       "      <th>about_relative_url</th>\n",
       "      <th>goodreads_url</th>\n",
       "    </tr>\n",
       "  </thead>\n",
       "  <tbody>\n",
       "    <tr>\n",
       "      <th>0</th>\n",
       "      <td>Albert Einstein</td>\n",
       "      <td>“The world as we have created it is a process ...</td>\n",
       "      <td>['change', 'deep-thoughts', 'thinking', 'world']</td>\n",
       "      <td>/author/Albert-Einstein</td>\n",
       "      <td>http://goodreads.com/author/show/9810.Albert_E...</td>\n",
       "    </tr>\n",
       "    <tr>\n",
       "      <th>1</th>\n",
       "      <td>J.K. Rowling</td>\n",
       "      <td>“It is our choices, Harry, that show what we t...</td>\n",
       "      <td>['abilities', 'choices']</td>\n",
       "      <td>/author/J-K-Rowling</td>\n",
       "      <td>http://goodreads.com/author/show/1077326.J_K_R...</td>\n",
       "    </tr>\n",
       "    <tr>\n",
       "      <th>2</th>\n",
       "      <td>Albert Einstein</td>\n",
       "      <td>“There are only two ways to live your life. On...</td>\n",
       "      <td>['inspirational', 'life', 'live', 'miracle', '...</td>\n",
       "      <td>/author/Albert-Einstein</td>\n",
       "      <td>http://goodreads.com/author/show/9810.Albert_E...</td>\n",
       "    </tr>\n",
       "    <tr>\n",
       "      <th>3</th>\n",
       "      <td>Jane Austen</td>\n",
       "      <td>“The person, be it gentleman or lady, who has ...</td>\n",
       "      <td>['aliteracy', 'books', 'classic', 'humor']</td>\n",
       "      <td>/author/Jane-Austen</td>\n",
       "      <td>http://goodreads.com/author/show/1265.Jane_Austen</td>\n",
       "    </tr>\n",
       "    <tr>\n",
       "      <th>4</th>\n",
       "      <td>Marilyn Monroe</td>\n",
       "      <td>“Imperfection is beauty, madness is genius and...</td>\n",
       "      <td>['be-yourself', 'inspirational']</td>\n",
       "      <td>/author/Marilyn-Monroe</td>\n",
       "      <td>http://goodreads.com/author/show/82952.Marilyn...</td>\n",
       "    </tr>\n",
       "    <tr>\n",
       "      <th>...</th>\n",
       "      <td>...</td>\n",
       "      <td>...</td>\n",
       "      <td>...</td>\n",
       "      <td>...</td>\n",
       "      <td>...</td>\n",
       "    </tr>\n",
       "    <tr>\n",
       "      <th>95</th>\n",
       "      <td>Harper Lee</td>\n",
       "      <td>“You never really understand a person until yo...</td>\n",
       "      <td>['better-life-empathy']</td>\n",
       "      <td>/author/Harper-Lee</td>\n",
       "      <td>http://goodreads.com/author/show/1825.Harper_Lee</td>\n",
       "    </tr>\n",
       "    <tr>\n",
       "      <th>96</th>\n",
       "      <td>Madeleine L'Engle</td>\n",
       "      <td>“You have to write the book that wants to be w...</td>\n",
       "      <td>['books', 'children', 'difficult', 'grown-ups'...</td>\n",
       "      <td>/author/Madeleine-LEngle</td>\n",
       "      <td>http://goodreads.com/author/show/106.Madeleine...</td>\n",
       "    </tr>\n",
       "    <tr>\n",
       "      <th>97</th>\n",
       "      <td>Mark Twain</td>\n",
       "      <td>“Never tell the truth to people who are not wo...</td>\n",
       "      <td>['truth']</td>\n",
       "      <td>/author/Mark-Twain</td>\n",
       "      <td>http://goodreads.com/author/show/1244.Mark_Twain</td>\n",
       "    </tr>\n",
       "    <tr>\n",
       "      <th>98</th>\n",
       "      <td>Dr. Seuss</td>\n",
       "      <td>“A person's a person, no matter how small.”</td>\n",
       "      <td>['inspirational']</td>\n",
       "      <td>/author/Dr-Seuss</td>\n",
       "      <td>http://goodreads.com/author/show/61105.Dr_Seuss</td>\n",
       "    </tr>\n",
       "    <tr>\n",
       "      <th>99</th>\n",
       "      <td>George R.R. Martin</td>\n",
       "      <td>“... a mind needs books as a sword needs a whe...</td>\n",
       "      <td>['books', 'mind']</td>\n",
       "      <td>/author/George-R-R-Martin</td>\n",
       "      <td>http://goodreads.com/author/show/346732.George...</td>\n",
       "    </tr>\n",
       "  </tbody>\n",
       "</table>\n",
       "<p>100 rows × 5 columns</p>\n",
       "</div>"
      ],
      "text/plain": [
       "               authors                                             quotes  \\\n",
       "0      Albert Einstein  “The world as we have created it is a process ...   \n",
       "1         J.K. Rowling  “It is our choices, Harry, that show what we t...   \n",
       "2      Albert Einstein  “There are only two ways to live your life. On...   \n",
       "3          Jane Austen  “The person, be it gentleman or lady, who has ...   \n",
       "4       Marilyn Monroe  “Imperfection is beauty, madness is genius and...   \n",
       "..                 ...                                                ...   \n",
       "95          Harper Lee  “You never really understand a person until yo...   \n",
       "96   Madeleine L'Engle  “You have to write the book that wants to be w...   \n",
       "97          Mark Twain  “Never tell the truth to people who are not wo...   \n",
       "98           Dr. Seuss        “A person's a person, no matter how small.”   \n",
       "99  George R.R. Martin  “... a mind needs books as a sword needs a whe...   \n",
       "\n",
       "                                                 tags  \\\n",
       "0    ['change', 'deep-thoughts', 'thinking', 'world']   \n",
       "1                            ['abilities', 'choices']   \n",
       "2   ['inspirational', 'life', 'live', 'miracle', '...   \n",
       "3          ['aliteracy', 'books', 'classic', 'humor']   \n",
       "4                    ['be-yourself', 'inspirational']   \n",
       "..                                                ...   \n",
       "95                            ['better-life-empathy']   \n",
       "96  ['books', 'children', 'difficult', 'grown-ups'...   \n",
       "97                                          ['truth']   \n",
       "98                                  ['inspirational']   \n",
       "99                                  ['books', 'mind']   \n",
       "\n",
       "           about_relative_url  \\\n",
       "0     /author/Albert-Einstein   \n",
       "1         /author/J-K-Rowling   \n",
       "2     /author/Albert-Einstein   \n",
       "3         /author/Jane-Austen   \n",
       "4      /author/Marilyn-Monroe   \n",
       "..                        ...   \n",
       "95         /author/Harper-Lee   \n",
       "96   /author/Madeleine-LEngle   \n",
       "97         /author/Mark-Twain   \n",
       "98           /author/Dr-Seuss   \n",
       "99  /author/George-R-R-Martin   \n",
       "\n",
       "                                        goodreads_url  \n",
       "0   http://goodreads.com/author/show/9810.Albert_E...  \n",
       "1   http://goodreads.com/author/show/1077326.J_K_R...  \n",
       "2   http://goodreads.com/author/show/9810.Albert_E...  \n",
       "3   http://goodreads.com/author/show/1265.Jane_Austen  \n",
       "4   http://goodreads.com/author/show/82952.Marilyn...  \n",
       "..                                                ...  \n",
       "95   http://goodreads.com/author/show/1825.Harper_Lee  \n",
       "96  http://goodreads.com/author/show/106.Madeleine...  \n",
       "97   http://goodreads.com/author/show/1244.Mark_Twain  \n",
       "98    http://goodreads.com/author/show/61105.Dr_Seuss  \n",
       "99  http://goodreads.com/author/show/346732.George...  \n",
       "\n",
       "[100 rows x 5 columns]"
      ]
     },
     "execution_count": 10,
     "metadata": {},
     "output_type": "execute_result"
    }
   ],
   "source": [
    "pd.read_csv('scraped_data.csv')"
   ]
  },
  {
   "cell_type": "markdown",
   "metadata": {},
   "source": [
    "### Criando uma `Series`"
   ]
  },
  {
   "cell_type": "code",
   "execution_count": 11,
   "metadata": {},
   "outputs": [
    {
     "name": "stdout",
     "output_type": "stream",
     "text": [
      "\u001b[0;31mInit signature:\u001b[0m\n",
      "\u001b[0mpd\u001b[0m\u001b[0;34m.\u001b[0m\u001b[0mSeries\u001b[0m\u001b[0;34m(\u001b[0m\u001b[0;34m\u001b[0m\n",
      "\u001b[0;34m\u001b[0m    \u001b[0mdata\u001b[0m\u001b[0;34m=\u001b[0m\u001b[0;32mNone\u001b[0m\u001b[0;34m,\u001b[0m\u001b[0;34m\u001b[0m\n",
      "\u001b[0;34m\u001b[0m    \u001b[0mindex\u001b[0m\u001b[0;34m=\u001b[0m\u001b[0;32mNone\u001b[0m\u001b[0;34m,\u001b[0m\u001b[0;34m\u001b[0m\n",
      "\u001b[0;34m\u001b[0m    \u001b[0mdtype\u001b[0m\u001b[0;34m:\u001b[0m \u001b[0;34m'Dtype | None'\u001b[0m \u001b[0;34m=\u001b[0m \u001b[0;32mNone\u001b[0m\u001b[0;34m,\u001b[0m\u001b[0;34m\u001b[0m\n",
      "\u001b[0;34m\u001b[0m    \u001b[0mname\u001b[0m\u001b[0;34m=\u001b[0m\u001b[0;32mNone\u001b[0m\u001b[0;34m,\u001b[0m\u001b[0;34m\u001b[0m\n",
      "\u001b[0;34m\u001b[0m    \u001b[0mcopy\u001b[0m\u001b[0;34m:\u001b[0m \u001b[0;34m'bool'\u001b[0m \u001b[0;34m=\u001b[0m \u001b[0;32mFalse\u001b[0m\u001b[0;34m,\u001b[0m\u001b[0;34m\u001b[0m\n",
      "\u001b[0;34m\u001b[0m    \u001b[0mfastpath\u001b[0m\u001b[0;34m:\u001b[0m \u001b[0;34m'bool'\u001b[0m \u001b[0;34m=\u001b[0m \u001b[0;32mFalse\u001b[0m\u001b[0;34m,\u001b[0m\u001b[0;34m\u001b[0m\n",
      "\u001b[0;34m\u001b[0m\u001b[0;34m)\u001b[0m\u001b[0;34m\u001b[0m\u001b[0;34m\u001b[0m\u001b[0m\n",
      "\u001b[0;31mDocstring:\u001b[0m     \n",
      "One-dimensional ndarray with axis labels (including time series).\n",
      "\n",
      "Labels need not be unique but must be a hashable type. The object\n",
      "supports both integer- and label-based indexing and provides a host of\n",
      "methods for performing operations involving the index. Statistical\n",
      "methods from ndarray have been overridden to automatically exclude\n",
      "missing data (currently represented as NaN).\n",
      "\n",
      "Operations between Series (+, -, /, *, **) align values based on their\n",
      "associated index values-- they need not be the same length. The result\n",
      "index will be the sorted union of the two indexes.\n",
      "\n",
      "Parameters\n",
      "----------\n",
      "data : array-like, Iterable, dict, or scalar value\n",
      "    Contains data stored in Series. If data is a dict, argument order is\n",
      "    maintained.\n",
      "index : array-like or Index (1d)\n",
      "    Values must be hashable and have the same length as `data`.\n",
      "    Non-unique index values are allowed. Will default to\n",
      "    RangeIndex (0, 1, 2, ..., n) if not provided. If data is dict-like\n",
      "    and index is None, then the keys in the data are used as the index. If the\n",
      "    index is not None, the resulting Series is reindexed with the index values.\n",
      "dtype : str, numpy.dtype, or ExtensionDtype, optional\n",
      "    Data type for the output Series. If not specified, this will be\n",
      "    inferred from `data`.\n",
      "    See the :ref:`user guide <basics.dtypes>` for more usages.\n",
      "name : str, optional\n",
      "    The name to give to the Series.\n",
      "copy : bool, default False\n",
      "    Copy input data. Only affects Series or 1d ndarray input. See examples.\n",
      "\n",
      "Examples\n",
      "--------\n",
      "Constructing Series from a dictionary with an Index specified\n",
      "\n",
      ">>> d = {'a': 1, 'b': 2, 'c': 3}\n",
      ">>> ser = pd.Series(data=d, index=['a', 'b', 'c'])\n",
      ">>> ser\n",
      "a   1\n",
      "b   2\n",
      "c   3\n",
      "dtype: int64\n",
      "\n",
      "The keys of the dictionary match with the Index values, hence the Index\n",
      "values have no effect.\n",
      "\n",
      ">>> d = {'a': 1, 'b': 2, 'c': 3}\n",
      ">>> ser = pd.Series(data=d, index=['x', 'y', 'z'])\n",
      ">>> ser\n",
      "x   NaN\n",
      "y   NaN\n",
      "z   NaN\n",
      "dtype: float64\n",
      "\n",
      "Note that the Index is first build with the keys from the dictionary.\n",
      "After this the Series is reindexed with the given Index values, hence we\n",
      "get all NaN as a result.\n",
      "\n",
      "Constructing Series from a list with `copy=False`.\n",
      "\n",
      ">>> r = [1, 2]\n",
      ">>> ser = pd.Series(r, copy=False)\n",
      ">>> ser.iloc[0] = 999\n",
      ">>> r\n",
      "[1, 2]\n",
      ">>> ser\n",
      "0    999\n",
      "1      2\n",
      "dtype: int64\n",
      "\n",
      "Due to input data type the Series has a `copy` of\n",
      "the original data even though `copy=False`, so\n",
      "the data is unchanged.\n",
      "\n",
      "Constructing Series from a 1d ndarray with `copy=False`.\n",
      "\n",
      ">>> r = np.array([1, 2])\n",
      ">>> ser = pd.Series(r, copy=False)\n",
      ">>> ser.iloc[0] = 999\n",
      ">>> r\n",
      "array([999,   2])\n",
      ">>> ser\n",
      "0    999\n",
      "1      2\n",
      "dtype: int64\n",
      "\n",
      "Due to input data type the Series has a `view` on\n",
      "the original data, so\n",
      "the data is changed as well.\n",
      "\u001b[0;31mFile:\u001b[0m           ~/dev/alexandria/notebooks/.venv/lib/python3.8/site-packages/pandas/core/series.py\n",
      "\u001b[0;31mType:\u001b[0m           type\n",
      "\u001b[0;31mSubclasses:\u001b[0m     SubclassedSeries\n"
     ]
    }
   ],
   "source": [
    "pd.Series?"
   ]
  },
  {
   "cell_type": "code",
   "execution_count": 12,
   "metadata": {},
   "outputs": [
    {
     "data": {
      "text/plain": [
       "0    1\n",
       "1    2\n",
       "2    3\n",
       "dtype: int64"
      ]
     },
     "execution_count": 12,
     "metadata": {},
     "output_type": "execute_result"
    }
   ],
   "source": [
    "pd.Series([1, 2, 3])"
   ]
  },
  {
   "cell_type": "code",
   "execution_count": 13,
   "metadata": {},
   "outputs": [
    {
     "data": {
      "text/plain": [
       "a    1\n",
       "b    2\n",
       "c    3\n",
       "dtype: int64"
      ]
     },
     "execution_count": 13,
     "metadata": {},
     "output_type": "execute_result"
    }
   ],
   "source": [
    "pd.Series([1, 2, 3], index=['a', 'b', 'c'])"
   ]
  },
  {
   "cell_type": "code",
   "execution_count": 14,
   "metadata": {},
   "outputs": [
    {
     "data": {
      "text/plain": [
       "a    1\n",
       "b    2\n",
       "c    3\n",
       "Name: nome_da_serie, dtype: int64"
      ]
     },
     "execution_count": 14,
     "metadata": {},
     "output_type": "execute_result"
    }
   ],
   "source": [
    "pd.Series([1, 2, 3], index=['a', 'b', 'c'], name='nome_da_serie')"
   ]
  },
  {
   "cell_type": "code",
   "execution_count": 15,
   "metadata": {},
   "outputs": [
    {
     "data": {
      "text/html": [
       "<div>\n",
       "<style scoped>\n",
       "    .dataframe tbody tr th:only-of-type {\n",
       "        vertical-align: middle;\n",
       "    }\n",
       "\n",
       "    .dataframe tbody tr th {\n",
       "        vertical-align: top;\n",
       "    }\n",
       "\n",
       "    .dataframe thead th {\n",
       "        text-align: right;\n",
       "    }\n",
       "</style>\n",
       "<table border=\"1\" class=\"dataframe\">\n",
       "  <thead>\n",
       "    <tr style=\"text-align: right;\">\n",
       "      <th></th>\n",
       "      <th>nome_da_serie</th>\n",
       "    </tr>\n",
       "  </thead>\n",
       "  <tbody>\n",
       "    <tr>\n",
       "      <th>a</th>\n",
       "      <td>1</td>\n",
       "    </tr>\n",
       "    <tr>\n",
       "      <th>b</th>\n",
       "      <td>2</td>\n",
       "    </tr>\n",
       "    <tr>\n",
       "      <th>c</th>\n",
       "      <td>3</td>\n",
       "    </tr>\n",
       "  </tbody>\n",
       "</table>\n",
       "</div>"
      ],
      "text/plain": [
       "   nome_da_serie\n",
       "a              1\n",
       "b              2\n",
       "c              3"
      ]
     },
     "execution_count": 15,
     "metadata": {},
     "output_type": "execute_result"
    }
   ],
   "source": [
    "pd.Series([1, 2, 3], index=['a', 'b', 'c'], name='nome_da_serie').to_frame()"
   ]
  },
  {
   "cell_type": "markdown",
   "metadata": {},
   "source": [
    "### Algumas operações básicas com DataFrames"
   ]
  },
  {
   "cell_type": "code",
   "execution_count": 49,
   "metadata": {},
   "outputs": [
    {
     "data": {
      "text/html": [
       "<div>\n",
       "<style scoped>\n",
       "    .dataframe tbody tr th:only-of-type {\n",
       "        vertical-align: middle;\n",
       "    }\n",
       "\n",
       "    .dataframe tbody tr th {\n",
       "        vertical-align: top;\n",
       "    }\n",
       "\n",
       "    .dataframe thead th {\n",
       "        text-align: right;\n",
       "    }\n",
       "</style>\n",
       "<table border=\"1\" class=\"dataframe\">\n",
       "  <thead>\n",
       "    <tr style=\"text-align: right;\">\n",
       "      <th></th>\n",
       "      <th>authors</th>\n",
       "      <th>quotes</th>\n",
       "      <th>tags</th>\n",
       "      <th>about_relative_url</th>\n",
       "      <th>goodreads_url</th>\n",
       "    </tr>\n",
       "  </thead>\n",
       "  <tbody>\n",
       "    <tr>\n",
       "      <th>0</th>\n",
       "      <td>Albert Einstein</td>\n",
       "      <td>“The world as we have created it is a process ...</td>\n",
       "      <td>['change', 'deep-thoughts', 'thinking', 'world']</td>\n",
       "      <td>/author/Albert-Einstein</td>\n",
       "      <td>http://goodreads.com/author/show/9810.Albert_E...</td>\n",
       "    </tr>\n",
       "    <tr>\n",
       "      <th>1</th>\n",
       "      <td>J.K. Rowling</td>\n",
       "      <td>“It is our choices, Harry, that show what we t...</td>\n",
       "      <td>['abilities', 'choices']</td>\n",
       "      <td>/author/J-K-Rowling</td>\n",
       "      <td>http://goodreads.com/author/show/1077326.J_K_R...</td>\n",
       "    </tr>\n",
       "    <tr>\n",
       "      <th>2</th>\n",
       "      <td>Albert Einstein</td>\n",
       "      <td>“There are only two ways to live your life. On...</td>\n",
       "      <td>['inspirational', 'life', 'live', 'miracle', '...</td>\n",
       "      <td>/author/Albert-Einstein</td>\n",
       "      <td>http://goodreads.com/author/show/9810.Albert_E...</td>\n",
       "    </tr>\n",
       "    <tr>\n",
       "      <th>3</th>\n",
       "      <td>Jane Austen</td>\n",
       "      <td>“The person, be it gentleman or lady, who has ...</td>\n",
       "      <td>['aliteracy', 'books', 'classic', 'humor']</td>\n",
       "      <td>/author/Jane-Austen</td>\n",
       "      <td>http://goodreads.com/author/show/1265.Jane_Austen</td>\n",
       "    </tr>\n",
       "    <tr>\n",
       "      <th>4</th>\n",
       "      <td>Marilyn Monroe</td>\n",
       "      <td>“Imperfection is beauty, madness is genius and...</td>\n",
       "      <td>['be-yourself', 'inspirational']</td>\n",
       "      <td>/author/Marilyn-Monroe</td>\n",
       "      <td>http://goodreads.com/author/show/82952.Marilyn...</td>\n",
       "    </tr>\n",
       "  </tbody>\n",
       "</table>\n",
       "</div>"
      ],
      "text/plain": [
       "           authors                                             quotes  \\\n",
       "0  Albert Einstein  “The world as we have created it is a process ...   \n",
       "1     J.K. Rowling  “It is our choices, Harry, that show what we t...   \n",
       "2  Albert Einstein  “There are only two ways to live your life. On...   \n",
       "3      Jane Austen  “The person, be it gentleman or lady, who has ...   \n",
       "4   Marilyn Monroe  “Imperfection is beauty, madness is genius and...   \n",
       "\n",
       "                                                tags       about_relative_url  \\\n",
       "0   ['change', 'deep-thoughts', 'thinking', 'world']  /author/Albert-Einstein   \n",
       "1                           ['abilities', 'choices']      /author/J-K-Rowling   \n",
       "2  ['inspirational', 'life', 'live', 'miracle', '...  /author/Albert-Einstein   \n",
       "3         ['aliteracy', 'books', 'classic', 'humor']      /author/Jane-Austen   \n",
       "4                   ['be-yourself', 'inspirational']   /author/Marilyn-Monroe   \n",
       "\n",
       "                                       goodreads_url  \n",
       "0  http://goodreads.com/author/show/9810.Albert_E...  \n",
       "1  http://goodreads.com/author/show/1077326.J_K_R...  \n",
       "2  http://goodreads.com/author/show/9810.Albert_E...  \n",
       "3  http://goodreads.com/author/show/1265.Jane_Austen  \n",
       "4  http://goodreads.com/author/show/82952.Marilyn...  "
      ]
     },
     "execution_count": 49,
     "metadata": {},
     "output_type": "execute_result"
    }
   ],
   "source": [
    "df = pd.read_csv('scraped_data.csv')\n",
    "df.head()"
   ]
  },
  {
   "cell_type": "markdown",
   "metadata": {},
   "source": [
    "#### Contando os autores"
   ]
  },
  {
   "cell_type": "code",
   "execution_count": 50,
   "metadata": {},
   "outputs": [
    {
     "data": {
      "text/plain": [
       "0        Albert Einstein\n",
       "1           J.K. Rowling\n",
       "2        Albert Einstein\n",
       "3            Jane Austen\n",
       "4         Marilyn Monroe\n",
       "             ...        \n",
       "95            Harper Lee\n",
       "96     Madeleine L'Engle\n",
       "97            Mark Twain\n",
       "98             Dr. Seuss\n",
       "99    George R.R. Martin\n",
       "Name: authors, Length: 100, dtype: object"
      ]
     },
     "execution_count": 50,
     "metadata": {},
     "output_type": "execute_result"
    }
   ],
   "source": [
    "df['authors']"
   ]
  },
  {
   "cell_type": "code",
   "execution_count": 51,
   "metadata": {},
   "outputs": [
    {
     "data": {
      "text/plain": [
       "Albert Einstein           10\n",
       "J.K. Rowling               9\n",
       "Marilyn Monroe             7\n",
       "Dr. Seuss                  6\n",
       "Mark Twain                 6\n",
       "C.S. Lewis                 5\n",
       "Jane Austen                5\n",
       "Bob Marley                 3\n",
       "Eleanor Roosevelt          2\n",
       "Charles Bukowski           2\n",
       "Suzanne Collins            2\n",
       "George R.R. Martin         2\n",
       "Ralph Waldo Emerson        2\n",
       "Mother Teresa              2\n",
       "Ernest Hemingway           2\n",
       "J.D. Salinger              1\n",
       "George Bernard Shaw        1\n",
       "J.R.R. Tolkien             1\n",
       "Alfred Tennyson            1\n",
       "Terry Pratchett            1\n",
       "John Lennon                1\n",
       "George Carlin              1\n",
       "W.C. Fields                1\n",
       "Ayn Rand                   1\n",
       "Jimi Hendrix               1\n",
       "J.M. Barrie                1\n",
       "E.E. Cummings              1\n",
       "Khaled Hosseini            1\n",
       "Harper Lee                 1\n",
       "Helen Keller               1\n",
       "Haruki Murakami            1\n",
       "Stephenie Meyer            1\n",
       "Garrison Keillor           1\n",
       "Thomas A. Edison           1\n",
       "Douglas Adams              1\n",
       "Elie Wiesel                1\n",
       "Friedrich Nietzsche        1\n",
       "André Gide                 1\n",
       "Allen Saunders             1\n",
       "Pablo Neruda               1\n",
       "Jim Henson                 1\n",
       "Alexandre Dumas fils       1\n",
       "Charles M. Schulz          1\n",
       "William Nicholson          1\n",
       "Jorge Luis Borges          1\n",
       "George Eliot               1\n",
       "Martin Luther King Jr.     1\n",
       "James Baldwin              1\n",
       "Steve Martin               1\n",
       "Madeleine L'Engle          1\n",
       "Name: authors, dtype: int64"
      ]
     },
     "execution_count": 51,
     "metadata": {},
     "output_type": "execute_result"
    }
   ],
   "source": [
    "df['authors'].value_counts()"
   ]
  },
  {
   "cell_type": "markdown",
   "metadata": {},
   "source": [
    "#### Contando as tags"
   ]
  },
  {
   "cell_type": "code",
   "execution_count": 52,
   "metadata": {},
   "outputs": [
    {
     "data": {
      "text/html": [
       "<div>\n",
       "<style scoped>\n",
       "    .dataframe tbody tr th:only-of-type {\n",
       "        vertical-align: middle;\n",
       "    }\n",
       "\n",
       "    .dataframe tbody tr th {\n",
       "        vertical-align: top;\n",
       "    }\n",
       "\n",
       "    .dataframe thead th {\n",
       "        text-align: right;\n",
       "    }\n",
       "</style>\n",
       "<table border=\"1\" class=\"dataframe\">\n",
       "  <thead>\n",
       "    <tr style=\"text-align: right;\">\n",
       "      <th></th>\n",
       "      <th>authors</th>\n",
       "      <th>quotes</th>\n",
       "      <th>tags</th>\n",
       "      <th>about_relative_url</th>\n",
       "      <th>goodreads_url</th>\n",
       "    </tr>\n",
       "  </thead>\n",
       "  <tbody>\n",
       "    <tr>\n",
       "      <th>0</th>\n",
       "      <td>Albert Einstein</td>\n",
       "      <td>“The world as we have created it is a process ...</td>\n",
       "      <td>[change, deep-thoughts, thinking, world]</td>\n",
       "      <td>/author/Albert-Einstein</td>\n",
       "      <td>http://goodreads.com/author/show/9810.Albert_E...</td>\n",
       "    </tr>\n",
       "    <tr>\n",
       "      <th>1</th>\n",
       "      <td>J.K. Rowling</td>\n",
       "      <td>“It is our choices, Harry, that show what we t...</td>\n",
       "      <td>[abilities, choices]</td>\n",
       "      <td>/author/J-K-Rowling</td>\n",
       "      <td>http://goodreads.com/author/show/1077326.J_K_R...</td>\n",
       "    </tr>\n",
       "    <tr>\n",
       "      <th>2</th>\n",
       "      <td>Albert Einstein</td>\n",
       "      <td>“There are only two ways to live your life. On...</td>\n",
       "      <td>[inspirational, life, live, miracle, miracles]</td>\n",
       "      <td>/author/Albert-Einstein</td>\n",
       "      <td>http://goodreads.com/author/show/9810.Albert_E...</td>\n",
       "    </tr>\n",
       "    <tr>\n",
       "      <th>3</th>\n",
       "      <td>Jane Austen</td>\n",
       "      <td>“The person, be it gentleman or lady, who has ...</td>\n",
       "      <td>[aliteracy, books, classic, humor]</td>\n",
       "      <td>/author/Jane-Austen</td>\n",
       "      <td>http://goodreads.com/author/show/1265.Jane_Austen</td>\n",
       "    </tr>\n",
       "    <tr>\n",
       "      <th>4</th>\n",
       "      <td>Marilyn Monroe</td>\n",
       "      <td>“Imperfection is beauty, madness is genius and...</td>\n",
       "      <td>[be-yourself, inspirational]</td>\n",
       "      <td>/author/Marilyn-Monroe</td>\n",
       "      <td>http://goodreads.com/author/show/82952.Marilyn...</td>\n",
       "    </tr>\n",
       "    <tr>\n",
       "      <th>...</th>\n",
       "      <td>...</td>\n",
       "      <td>...</td>\n",
       "      <td>...</td>\n",
       "      <td>...</td>\n",
       "      <td>...</td>\n",
       "    </tr>\n",
       "    <tr>\n",
       "      <th>95</th>\n",
       "      <td>Harper Lee</td>\n",
       "      <td>“You never really understand a person until yo...</td>\n",
       "      <td>[better-life-empathy]</td>\n",
       "      <td>/author/Harper-Lee</td>\n",
       "      <td>http://goodreads.com/author/show/1825.Harper_Lee</td>\n",
       "    </tr>\n",
       "    <tr>\n",
       "      <th>96</th>\n",
       "      <td>Madeleine L'Engle</td>\n",
       "      <td>“You have to write the book that wants to be w...</td>\n",
       "      <td>[books, children, difficult, grown-ups, write,...</td>\n",
       "      <td>/author/Madeleine-LEngle</td>\n",
       "      <td>http://goodreads.com/author/show/106.Madeleine...</td>\n",
       "    </tr>\n",
       "    <tr>\n",
       "      <th>97</th>\n",
       "      <td>Mark Twain</td>\n",
       "      <td>“Never tell the truth to people who are not wo...</td>\n",
       "      <td>[truth]</td>\n",
       "      <td>/author/Mark-Twain</td>\n",
       "      <td>http://goodreads.com/author/show/1244.Mark_Twain</td>\n",
       "    </tr>\n",
       "    <tr>\n",
       "      <th>98</th>\n",
       "      <td>Dr. Seuss</td>\n",
       "      <td>“A person's a person, no matter how small.”</td>\n",
       "      <td>[inspirational]</td>\n",
       "      <td>/author/Dr-Seuss</td>\n",
       "      <td>http://goodreads.com/author/show/61105.Dr_Seuss</td>\n",
       "    </tr>\n",
       "    <tr>\n",
       "      <th>99</th>\n",
       "      <td>George R.R. Martin</td>\n",
       "      <td>“... a mind needs books as a sword needs a whe...</td>\n",
       "      <td>[books, mind]</td>\n",
       "      <td>/author/George-R-R-Martin</td>\n",
       "      <td>http://goodreads.com/author/show/346732.George...</td>\n",
       "    </tr>\n",
       "  </tbody>\n",
       "</table>\n",
       "<p>100 rows × 5 columns</p>\n",
       "</div>"
      ],
      "text/plain": [
       "               authors                                             quotes  \\\n",
       "0      Albert Einstein  “The world as we have created it is a process ...   \n",
       "1         J.K. Rowling  “It is our choices, Harry, that show what we t...   \n",
       "2      Albert Einstein  “There are only two ways to live your life. On...   \n",
       "3          Jane Austen  “The person, be it gentleman or lady, who has ...   \n",
       "4       Marilyn Monroe  “Imperfection is beauty, madness is genius and...   \n",
       "..                 ...                                                ...   \n",
       "95          Harper Lee  “You never really understand a person until yo...   \n",
       "96   Madeleine L'Engle  “You have to write the book that wants to be w...   \n",
       "97          Mark Twain  “Never tell the truth to people who are not wo...   \n",
       "98           Dr. Seuss        “A person's a person, no matter how small.”   \n",
       "99  George R.R. Martin  “... a mind needs books as a sword needs a whe...   \n",
       "\n",
       "                                                 tags  \\\n",
       "0            [change, deep-thoughts, thinking, world]   \n",
       "1                                [abilities, choices]   \n",
       "2      [inspirational, life, live, miracle, miracles]   \n",
       "3                  [aliteracy, books, classic, humor]   \n",
       "4                        [be-yourself, inspirational]   \n",
       "..                                                ...   \n",
       "95                              [better-life-empathy]   \n",
       "96  [books, children, difficult, grown-ups, write,...   \n",
       "97                                            [truth]   \n",
       "98                                    [inspirational]   \n",
       "99                                      [books, mind]   \n",
       "\n",
       "           about_relative_url  \\\n",
       "0     /author/Albert-Einstein   \n",
       "1         /author/J-K-Rowling   \n",
       "2     /author/Albert-Einstein   \n",
       "3         /author/Jane-Austen   \n",
       "4      /author/Marilyn-Monroe   \n",
       "..                        ...   \n",
       "95         /author/Harper-Lee   \n",
       "96   /author/Madeleine-LEngle   \n",
       "97         /author/Mark-Twain   \n",
       "98           /author/Dr-Seuss   \n",
       "99  /author/George-R-R-Martin   \n",
       "\n",
       "                                        goodreads_url  \n",
       "0   http://goodreads.com/author/show/9810.Albert_E...  \n",
       "1   http://goodreads.com/author/show/1077326.J_K_R...  \n",
       "2   http://goodreads.com/author/show/9810.Albert_E...  \n",
       "3   http://goodreads.com/author/show/1265.Jane_Austen  \n",
       "4   http://goodreads.com/author/show/82952.Marilyn...  \n",
       "..                                                ...  \n",
       "95   http://goodreads.com/author/show/1825.Harper_Lee  \n",
       "96  http://goodreads.com/author/show/106.Madeleine...  \n",
       "97   http://goodreads.com/author/show/1244.Mark_Twain  \n",
       "98    http://goodreads.com/author/show/61105.Dr_Seuss  \n",
       "99  http://goodreads.com/author/show/346732.George...  \n",
       "\n",
       "[100 rows x 5 columns]"
      ]
     },
     "execution_count": 52,
     "metadata": {},
     "output_type": "execute_result"
    }
   ],
   "source": [
    "df['tags'] = df['tags'].apply(lambda x: eval(x))\n",
    "df"
   ]
  },
  {
   "cell_type": "code",
   "execution_count": 53,
   "metadata": {},
   "outputs": [
    {
     "data": {
      "text/html": [
       "<div>\n",
       "<style scoped>\n",
       "    .dataframe tbody tr th:only-of-type {\n",
       "        vertical-align: middle;\n",
       "    }\n",
       "\n",
       "    .dataframe tbody tr th {\n",
       "        vertical-align: top;\n",
       "    }\n",
       "\n",
       "    .dataframe thead th {\n",
       "        text-align: right;\n",
       "    }\n",
       "</style>\n",
       "<table border=\"1\" class=\"dataframe\">\n",
       "  <thead>\n",
       "    <tr style=\"text-align: right;\">\n",
       "      <th></th>\n",
       "      <th>authors</th>\n",
       "      <th>quotes</th>\n",
       "      <th>tags</th>\n",
       "      <th>about_relative_url</th>\n",
       "      <th>goodreads_url</th>\n",
       "    </tr>\n",
       "  </thead>\n",
       "  <tbody>\n",
       "    <tr>\n",
       "      <th>0</th>\n",
       "      <td>Albert Einstein</td>\n",
       "      <td>“The world as we have created it is a process ...</td>\n",
       "      <td>change</td>\n",
       "      <td>/author/Albert-Einstein</td>\n",
       "      <td>http://goodreads.com/author/show/9810.Albert_E...</td>\n",
       "    </tr>\n",
       "    <tr>\n",
       "      <th>0</th>\n",
       "      <td>Albert Einstein</td>\n",
       "      <td>“The world as we have created it is a process ...</td>\n",
       "      <td>deep-thoughts</td>\n",
       "      <td>/author/Albert-Einstein</td>\n",
       "      <td>http://goodreads.com/author/show/9810.Albert_E...</td>\n",
       "    </tr>\n",
       "    <tr>\n",
       "      <th>0</th>\n",
       "      <td>Albert Einstein</td>\n",
       "      <td>“The world as we have created it is a process ...</td>\n",
       "      <td>thinking</td>\n",
       "      <td>/author/Albert-Einstein</td>\n",
       "      <td>http://goodreads.com/author/show/9810.Albert_E...</td>\n",
       "    </tr>\n",
       "    <tr>\n",
       "      <th>0</th>\n",
       "      <td>Albert Einstein</td>\n",
       "      <td>“The world as we have created it is a process ...</td>\n",
       "      <td>world</td>\n",
       "      <td>/author/Albert-Einstein</td>\n",
       "      <td>http://goodreads.com/author/show/9810.Albert_E...</td>\n",
       "    </tr>\n",
       "    <tr>\n",
       "      <th>1</th>\n",
       "      <td>J.K. Rowling</td>\n",
       "      <td>“It is our choices, Harry, that show what we t...</td>\n",
       "      <td>abilities</td>\n",
       "      <td>/author/J-K-Rowling</td>\n",
       "      <td>http://goodreads.com/author/show/1077326.J_K_R...</td>\n",
       "    </tr>\n",
       "    <tr>\n",
       "      <th>...</th>\n",
       "      <td>...</td>\n",
       "      <td>...</td>\n",
       "      <td>...</td>\n",
       "      <td>...</td>\n",
       "      <td>...</td>\n",
       "    </tr>\n",
       "    <tr>\n",
       "      <th>96</th>\n",
       "      <td>Madeleine L'Engle</td>\n",
       "      <td>“You have to write the book that wants to be w...</td>\n",
       "      <td>writing</td>\n",
       "      <td>/author/Madeleine-LEngle</td>\n",
       "      <td>http://goodreads.com/author/show/106.Madeleine...</td>\n",
       "    </tr>\n",
       "    <tr>\n",
       "      <th>97</th>\n",
       "      <td>Mark Twain</td>\n",
       "      <td>“Never tell the truth to people who are not wo...</td>\n",
       "      <td>truth</td>\n",
       "      <td>/author/Mark-Twain</td>\n",
       "      <td>http://goodreads.com/author/show/1244.Mark_Twain</td>\n",
       "    </tr>\n",
       "    <tr>\n",
       "      <th>98</th>\n",
       "      <td>Dr. Seuss</td>\n",
       "      <td>“A person's a person, no matter how small.”</td>\n",
       "      <td>inspirational</td>\n",
       "      <td>/author/Dr-Seuss</td>\n",
       "      <td>http://goodreads.com/author/show/61105.Dr_Seuss</td>\n",
       "    </tr>\n",
       "    <tr>\n",
       "      <th>99</th>\n",
       "      <td>George R.R. Martin</td>\n",
       "      <td>“... a mind needs books as a sword needs a whe...</td>\n",
       "      <td>books</td>\n",
       "      <td>/author/George-R-R-Martin</td>\n",
       "      <td>http://goodreads.com/author/show/346732.George...</td>\n",
       "    </tr>\n",
       "    <tr>\n",
       "      <th>99</th>\n",
       "      <td>George R.R. Martin</td>\n",
       "      <td>“... a mind needs books as a sword needs a whe...</td>\n",
       "      <td>mind</td>\n",
       "      <td>/author/George-R-R-Martin</td>\n",
       "      <td>http://goodreads.com/author/show/346732.George...</td>\n",
       "    </tr>\n",
       "  </tbody>\n",
       "</table>\n",
       "<p>235 rows × 5 columns</p>\n",
       "</div>"
      ],
      "text/plain": [
       "               authors                                             quotes  \\\n",
       "0      Albert Einstein  “The world as we have created it is a process ...   \n",
       "0      Albert Einstein  “The world as we have created it is a process ...   \n",
       "0      Albert Einstein  “The world as we have created it is a process ...   \n",
       "0      Albert Einstein  “The world as we have created it is a process ...   \n",
       "1         J.K. Rowling  “It is our choices, Harry, that show what we t...   \n",
       "..                 ...                                                ...   \n",
       "96   Madeleine L'Engle  “You have to write the book that wants to be w...   \n",
       "97          Mark Twain  “Never tell the truth to people who are not wo...   \n",
       "98           Dr. Seuss        “A person's a person, no matter how small.”   \n",
       "99  George R.R. Martin  “... a mind needs books as a sword needs a whe...   \n",
       "99  George R.R. Martin  “... a mind needs books as a sword needs a whe...   \n",
       "\n",
       "             tags         about_relative_url  \\\n",
       "0          change    /author/Albert-Einstein   \n",
       "0   deep-thoughts    /author/Albert-Einstein   \n",
       "0        thinking    /author/Albert-Einstein   \n",
       "0           world    /author/Albert-Einstein   \n",
       "1       abilities        /author/J-K-Rowling   \n",
       "..            ...                        ...   \n",
       "96        writing   /author/Madeleine-LEngle   \n",
       "97          truth         /author/Mark-Twain   \n",
       "98  inspirational           /author/Dr-Seuss   \n",
       "99          books  /author/George-R-R-Martin   \n",
       "99           mind  /author/George-R-R-Martin   \n",
       "\n",
       "                                        goodreads_url  \n",
       "0   http://goodreads.com/author/show/9810.Albert_E...  \n",
       "0   http://goodreads.com/author/show/9810.Albert_E...  \n",
       "0   http://goodreads.com/author/show/9810.Albert_E...  \n",
       "0   http://goodreads.com/author/show/9810.Albert_E...  \n",
       "1   http://goodreads.com/author/show/1077326.J_K_R...  \n",
       "..                                                ...  \n",
       "96  http://goodreads.com/author/show/106.Madeleine...  \n",
       "97   http://goodreads.com/author/show/1244.Mark_Twain  \n",
       "98    http://goodreads.com/author/show/61105.Dr_Seuss  \n",
       "99  http://goodreads.com/author/show/346732.George...  \n",
       "99  http://goodreads.com/author/show/346732.George...  \n",
       "\n",
       "[235 rows x 5 columns]"
      ]
     },
     "execution_count": 53,
     "metadata": {},
     "output_type": "execute_result"
    }
   ],
   "source": [
    "df = (df.explode('tags')\n",
    "        .rename(columns={'tags_parsed': 'tags'}))\n",
    "\n",
    "df"
   ]
  },
  {
   "cell_type": "code",
   "execution_count": 54,
   "metadata": {},
   "outputs": [
    {
     "data": {
      "text/plain": [
       "love                         14\n",
       "inspirational                13\n",
       "life                         13\n",
       "humor                        12\n",
       "books                        11\n",
       "                             ..\n",
       "misattributed-john-lennon     1\n",
       "fate                          1\n",
       "contentment                   1\n",
       "unhappy-marriage              1\n",
       "mind                          1\n",
       "Name: tags, Length: 137, dtype: int64"
      ]
     },
     "execution_count": 54,
     "metadata": {},
     "output_type": "execute_result"
    }
   ],
   "source": [
    "df['tags'].value_counts()"
   ]
  },
  {
   "cell_type": "markdown",
   "metadata": {},
   "source": [
    "#### Plotando as 20 tags mais usadas "
   ]
  },
  {
   "cell_type": "code",
   "execution_count": 55,
   "metadata": {},
   "outputs": [
    {
     "name": "stdout",
     "output_type": "stream",
     "text": [
      "Requirement already satisfied: matplotlib in ./.venv/lib/python3.8/site-packages (3.4.3)\n",
      "Requirement already satisfied: numpy>=1.16 in ./.venv/lib/python3.8/site-packages (from matplotlib) (1.21.3)\n",
      "Requirement already satisfied: pillow>=6.2.0 in ./.venv/lib/python3.8/site-packages (from matplotlib) (8.4.0)\n",
      "Requirement already satisfied: cycler>=0.10 in ./.venv/lib/python3.8/site-packages (from matplotlib) (0.11.0)\n",
      "Requirement already satisfied: kiwisolver>=1.0.1 in ./.venv/lib/python3.8/site-packages (from matplotlib) (1.3.2)\n",
      "Requirement already satisfied: python-dateutil>=2.7 in ./.venv/lib/python3.8/site-packages (from matplotlib) (2.8.2)\n",
      "Requirement already satisfied: pyparsing>=2.2.1 in ./.venv/lib/python3.8/site-packages (from matplotlib) (3.0.1)\n",
      "Requirement already satisfied: six>=1.5 in ./.venv/lib/python3.8/site-packages (from python-dateutil>=2.7->matplotlib) (1.16.0)\n",
      "\u001b[33mWARNING: You are using pip version 21.1.1; however, version 21.3.1 is available.\n",
      "You should consider upgrading via the '/home/vmussa/dev/alexandria/notebooks/.venv/bin/python -m pip install --upgrade pip' command.\u001b[0m\n"
     ]
    }
   ],
   "source": [
    "!pip install matplotlib"
   ]
  },
  {
   "cell_type": "code",
   "execution_count": 78,
   "metadata": {},
   "outputs": [
    {
     "data": {
      "text/plain": [
       "<AxesSubplot:title={'center':'Contagem de Tags'}>"
      ]
     },
     "execution_count": 78,
     "metadata": {},
     "output_type": "execute_result"
    },
    {
     "data": {
      "image/png": "[encoded data removed]",
      "text/plain": [
       "<Figure size 720x360 with 1 Axes>"
      ]
     },
     "metadata": {
      "needs_background": "light"
     },
     "output_type": "display_data"
    }
   ],
   "source": [
    "df['tags'].value_counts().head(20).plot(\n",
    "    kind='bar',\n",
    "    title='Contagem de Tags',\n",
    "    figsize=(10, 5),\n",
    "    legend=True,\n",
    "    fontsize=10,\n",
    "    rot=45\n",
    ")"
   ]
  },
  {
   "cell_type": "code",
   "execution_count": 57,
   "metadata": {},
   "outputs": [
    {
     "data": {
      "text/plain": [
       "<AxesSubplot:>"
      ]
     },
     "execution_count": 57,
     "metadata": {},
     "output_type": "execute_result"
    },
    {
     "data": {
      "image/png": "[encoded data removed]",
      "text/plain": [
       "<Figure size 432x288 with 1 Axes>"
      ]
     },
     "metadata": {
      "needs_background": "light"
     },
     "output_type": "display_data"
    }
   ],
   "source": [
    "df['tags'].value_counts().hist()"
   ]
  },
  {
   "cell_type": "markdown",
   "metadata": {},
   "source": [
    "### Plotando a contagem de autores"
   ]
  },
  {
   "cell_type": "code",
   "execution_count": 58,
   "metadata": {},
   "outputs": [
    {
     "data": {
      "text/plain": [
       "Albert Einstein           25\n",
       "Jane Austen               15\n",
       "Mark Twain                14\n",
       "Marilyn Monroe            14\n",
       "C.S. Lewis                13\n",
       "J.K. Rowling              12\n",
       "Dr. Seuss                 11\n",
       "John Lennon                8\n",
       "Elie Wiesel                8\n",
       "Madeleine L'Engle          7\n",
       "George R.R. Martin         6\n",
       "George Carlin              6\n",
       "Friedrich Nietzsche        6\n",
       "J.R.R. Tolkien             6\n",
       "J.D. Salinger              5\n",
       "Allen Saunders             5\n",
       "Ernest Hemingway           5\n",
       "Eleanor Roosevelt          4\n",
       "Thomas A. Edison           4\n",
       "George Bernard Shaw        3\n",
       "Steve Martin               3\n",
       "Bob Marley                 3\n",
       "Mother Teresa              3\n",
       "Terry Pratchett            3\n",
       "Ralph Waldo Emerson        3\n",
       "Stephenie Meyer            3\n",
       "Charles M. Schulz          3\n",
       "Charles Bukowski           2\n",
       "W.C. Fields                2\n",
       "Douglas Adams              2\n",
       "Alfred Tennyson            2\n",
       "André Gide                 2\n",
       "Suzanne Collins            2\n",
       "Pablo Neruda               2\n",
       "Jimi Hendrix               2\n",
       "Haruki Murakami            2\n",
       "Martin Luther King Jr.     2\n",
       "Garrison Keillor           2\n",
       "Jorge Luis Borges          2\n",
       "William Nicholson          2\n",
       "J.M. Barrie                2\n",
       "E.E. Cummings              1\n",
       "Khaled Hosseini            1\n",
       "Harper Lee                 1\n",
       "Jim Henson                 1\n",
       "Ayn Rand                   1\n",
       "Helen Keller               1\n",
       "Alexandre Dumas fils       1\n",
       "George Eliot               1\n",
       "James Baldwin              1\n",
       "Name: authors, dtype: int64"
      ]
     },
     "execution_count": 58,
     "metadata": {},
     "output_type": "execute_result"
    }
   ],
   "source": [
    "df['authors'].value_counts()"
   ]
  },
  {
   "cell_type": "markdown",
   "metadata": {},
   "source": [
    "### Agregação de dados com `groupby`"
   ]
  },
  {
   "cell_type": "code",
   "execution_count": 86,
   "metadata": {},
   "outputs": [
    {
     "data": {
      "text/html": [
       "<div>\n",
       "<style scoped>\n",
       "    .dataframe tbody tr th:only-of-type {\n",
       "        vertical-align: middle;\n",
       "    }\n",
       "\n",
       "    .dataframe tbody tr th {\n",
       "        vertical-align: top;\n",
       "    }\n",
       "\n",
       "    .dataframe thead th {\n",
       "        text-align: right;\n",
       "    }\n",
       "</style>\n",
       "<table border=\"1\" class=\"dataframe\">\n",
       "  <thead>\n",
       "    <tr style=\"text-align: right;\">\n",
       "      <th></th>\n",
       "      <th>authors</th>\n",
       "      <th>quotes</th>\n",
       "      <th>about_relative_url</th>\n",
       "      <th>goodreads_url</th>\n",
       "      <th>tags</th>\n",
       "    </tr>\n",
       "  </thead>\n",
       "  <tbody>\n",
       "    <tr>\n",
       "      <th>0</th>\n",
       "      <td>Albert Einstein</td>\n",
       "      <td>“Any fool can know. The point is to understand.”</td>\n",
       "      <td>/author/Albert-Einstein</td>\n",
       "      <td>http://goodreads.com/author/show/9810.Albert_E...</td>\n",
       "      <td>[knowledge, learning, understanding, wisdom]</td>\n",
       "    </tr>\n",
       "    <tr>\n",
       "      <th>1</th>\n",
       "      <td>Albert Einstein</td>\n",
       "      <td>“Anyone who has never made a mistake has never...</td>\n",
       "      <td>/author/Albert-Einstein</td>\n",
       "      <td>http://goodreads.com/author/show/9810.Albert_E...</td>\n",
       "      <td>[mistakes]</td>\n",
       "    </tr>\n",
       "    <tr>\n",
       "      <th>2</th>\n",
       "      <td>Albert Einstein</td>\n",
       "      <td>“If I were not a physicist, I would probably b...</td>\n",
       "      <td>/author/Albert-Einstein</td>\n",
       "      <td>http://goodreads.com/author/show/9810.Albert_E...</td>\n",
       "      <td>[music]</td>\n",
       "    </tr>\n",
       "    <tr>\n",
       "      <th>3</th>\n",
       "      <td>Albert Einstein</td>\n",
       "      <td>“If you can't explain it to a six year old, yo...</td>\n",
       "      <td>/author/Albert-Einstein</td>\n",
       "      <td>http://goodreads.com/author/show/9810.Albert_E...</td>\n",
       "      <td>[simplicity, understand]</td>\n",
       "    </tr>\n",
       "    <tr>\n",
       "      <th>4</th>\n",
       "      <td>Albert Einstein</td>\n",
       "      <td>“If you want your children to be intelligent, ...</td>\n",
       "      <td>/author/Albert-Einstein</td>\n",
       "      <td>http://goodreads.com/author/show/9810.Albert_E...</td>\n",
       "      <td>[children, fairy-tales]</td>\n",
       "    </tr>\n",
       "  </tbody>\n",
       "</table>\n",
       "</div>"
      ],
      "text/plain": [
       "           authors                                             quotes  \\\n",
       "0  Albert Einstein   “Any fool can know. The point is to understand.”   \n",
       "1  Albert Einstein  “Anyone who has never made a mistake has never...   \n",
       "2  Albert Einstein  “If I were not a physicist, I would probably b...   \n",
       "3  Albert Einstein  “If you can't explain it to a six year old, yo...   \n",
       "4  Albert Einstein  “If you want your children to be intelligent, ...   \n",
       "\n",
       "        about_relative_url                                      goodreads_url  \\\n",
       "0  /author/Albert-Einstein  http://goodreads.com/author/show/9810.Albert_E...   \n",
       "1  /author/Albert-Einstein  http://goodreads.com/author/show/9810.Albert_E...   \n",
       "2  /author/Albert-Einstein  http://goodreads.com/author/show/9810.Albert_E...   \n",
       "3  /author/Albert-Einstein  http://goodreads.com/author/show/9810.Albert_E...   \n",
       "4  /author/Albert-Einstein  http://goodreads.com/author/show/9810.Albert_E...   \n",
       "\n",
       "                                           tags  \n",
       "0  [knowledge, learning, understanding, wisdom]  \n",
       "1                                    [mistakes]  \n",
       "2                                       [music]  \n",
       "3                      [simplicity, understand]  \n",
       "4                       [children, fairy-tales]  "
      ]
     },
     "execution_count": 86,
     "metadata": {},
     "output_type": "execute_result"
    }
   ],
   "source": [
    "authors = (df.groupby(\n",
    "                ['authors',\n",
    "                'quotes',\n",
    "                'about_relative_url',\n",
    "                'goodreads_url'])\n",
    "            .agg({'tags': list})\n",
    "            .reset_index())\n",
    "\n",
    "authors.head()"
   ]
  },
  {
   "cell_type": "code",
   "execution_count": 89,
   "metadata": {},
   "outputs": [
    {
     "data": {
      "text/plain": [
       "<AxesSubplot:title={'center':'Contagem de Autores'}>"
      ]
     },
     "execution_count": 89,
     "metadata": {},
     "output_type": "execute_result"
    },
    {
     "data": {
      "image/png": "[encoded data removed]",
      "text/plain": [
       "<Figure size 720x360 with 1 Axes>"
      ]
     },
     "metadata": {
      "needs_background": "light"
     },
     "output_type": "display_data"
    }
   ],
   "source": [
    "(authors['authors']\n",
    "    .value_counts()\n",
    "    .head(20)\n",
    "    .plot(\n",
    "        kind='bar',\n",
    "        title='Contagem de Autores',\n",
    "        figsize=(10, 5),\n",
    "        legend=True,\n",
    "        fontsize=10,\n",
    "        rot=45\n",
    "    ))"
   ]
  },
  {
   "cell_type": "markdown",
   "metadata": {},
   "source": [
    "### Voltando alguns passos: indexação, seleção e acesso a `DataFrames` e `Series`"
   ]
  },
  {
   "cell_type": "markdown",
   "metadata": {},
   "source": [
    "### Funções de sumarização e mapas\n",
    "\n",
    "Vamos usar um dataset real. Para isso, importaremos dados do data lake público da Base dos Dados. Usaremos os dados do PIB brasileiro provenientes do IBGE."
   ]
  },
  {
   "cell_type": "code",
   "execution_count": 102,
   "metadata": {},
   "outputs": [
    {
     "name": "stdout",
     "output_type": "stream",
     "text": [
      "Collecting basedosdados\n",
      "  Using cached basedosdados-1.5.7-py3-none-any.whl (34 kB)\n",
      "Collecting click==7.1.2\n",
      "  Using cached click-7.1.2-py2.py3-none-any.whl (82 kB)\n",
      "Collecting google-cloud-bigquery==1.28.0\n",
      "  Using cached google_cloud_bigquery-1.28.0-py2.py3-none-any.whl (187 kB)\n",
      "Collecting tqdm==4.50.2\n",
      "  Using cached tqdm-4.50.2-py2.py3-none-any.whl (70 kB)\n",
      "Collecting google-cloud-storage==1.31.2\n",
      "  Using cached google_cloud_storage-1.31.2-py2.py3-none-any.whl (88 kB)\n",
      "Collecting ruamel.yaml==0.17.4\n",
      "  Using cached ruamel.yaml-0.17.4-py3-none-any.whl (101 kB)\n",
      "Collecting pandas-gbq==0.13.2\n",
      "  Using cached pandas_gbq-0.13.2-py3-none-any.whl (24 kB)\n",
      "Collecting pandas==1.2.4\n",
      "  Using cached pandas-1.2.4-cp38-cp38-manylinux1_x86_64.whl (9.7 MB)\n",
      "Collecting tomlkit==0.7.0\n",
      "  Using cached tomlkit-0.7.0-py2.py3-none-any.whl (32 kB)\n",
      "Collecting pyaml==20.4.0\n",
      "  Using cached pyaml-20.4.0-py2.py3-none-any.whl (17 kB)\n",
      "Collecting Jinja2==2.11.2\n",
      "  Using cached Jinja2-2.11.2-py2.py3-none-any.whl (125 kB)\n",
      "Collecting google-cloud-bigquery-storage==1.1.0\n",
      "  Using cached google_cloud_bigquery_storage-1.1.0-py2.py3-none-any.whl (135 kB)\n",
      "Requirement already satisfied: six<2.0.0dev,>=1.13.0 in ./.venv/lib/python3.8/site-packages (from google-cloud-bigquery==1.28.0->basedosdados) (1.16.0)\n",
      "Collecting google-cloud-core<2.0dev,>=1.4.1\n",
      "  Using cached google_cloud_core-1.7.2-py2.py3-none-any.whl (28 kB)\n",
      "Collecting google-api-core<2.0dev,>=1.21.0\n",
      "  Using cached google_api_core-1.31.3-py2.py3-none-any.whl (93 kB)\n",
      "Collecting google-resumable-media<2.0dev,>=0.6.0\n",
      "  Using cached google_resumable_media-1.3.3-py2.py3-none-any.whl (75 kB)\n",
      "Collecting google-auth<2.0dev,>=1.11.0\n",
      "  Using cached google_auth-1.35.0-py2.py3-none-any.whl (152 kB)\n",
      "Requirement already satisfied: requests<3.0.0dev,>=2.18.0 in ./.venv/lib/python3.8/site-packages (from google-cloud-storage==1.31.2->basedosdados) (2.26.0)\n",
      "Requirement already satisfied: MarkupSafe>=0.23 in ./.venv/lib/python3.8/site-packages (from Jinja2==2.11.2->basedosdados) (2.0.1)\n",
      "Requirement already satisfied: python-dateutil>=2.7.3 in ./.venv/lib/python3.8/site-packages (from pandas==1.2.4->basedosdados) (2.8.2)\n",
      "Requirement already satisfied: numpy>=1.16.5 in ./.venv/lib/python3.8/site-packages (from pandas==1.2.4->basedosdados) (1.21.3)\n",
      "Requirement already satisfied: pytz>=2017.3 in ./.venv/lib/python3.8/site-packages (from pandas==1.2.4->basedosdados) (2021.3)\n",
      "Requirement already satisfied: setuptools in ./.venv/lib/python3.8/site-packages (from pandas-gbq==0.13.2->basedosdados) (56.0.0)\n",
      "Collecting google-auth-oauthlib\n",
      "  Using cached google_auth_oauthlib-0.4.6-py2.py3-none-any.whl (18 kB)\n",
      "Collecting pydata-google-auth\n",
      "  Using cached pydata_google_auth-1.2.0-py2.py3-none-any.whl (13 kB)\n",
      "Requirement already satisfied: PyYAML in ./.venv/lib/python3.8/site-packages (from pyaml==20.4.0->basedosdados) (6.0)\n",
      "Collecting ruamel.yaml.clib>=0.1.2\n",
      "  Using cached ruamel.yaml.clib-0.2.6-cp38-cp38-manylinux1_x86_64.whl (570 kB)\n",
      "Collecting googleapis-common-protos<2.0dev,>=1.6.0\n",
      "  Using cached googleapis_common_protos-1.53.0-py2.py3-none-any.whl (198 kB)\n",
      "Requirement already satisfied: packaging>=14.3 in ./.venv/lib/python3.8/site-packages (from google-api-core<2.0dev,>=1.21.0->google-cloud-bigquery==1.28.0->basedosdados) (21.0)\n",
      "Collecting protobuf<3.18.0,>=3.12.0\n",
      "  Using cached protobuf-3.17.3-cp38-cp38-manylinux_2_5_x86_64.manylinux1_x86_64.whl (1.0 MB)\n",
      "Collecting grpcio<2.0dev,>=1.29.0\n",
      "  Using cached grpcio-1.41.1-cp38-cp38-manylinux_2_17_x86_64.manylinux2014_x86_64.whl (3.9 MB)\n",
      "Collecting cachetools<5.0,>=2.0.0\n",
      "  Using cached cachetools-4.2.4-py3-none-any.whl (10 kB)\n",
      "Collecting rsa<5,>=3.1.4\n",
      "  Using cached rsa-4.7.2-py3-none-any.whl (34 kB)\n",
      "Collecting pyasn1-modules>=0.2.1\n",
      "  Using cached pyasn1_modules-0.2.8-py2.py3-none-any.whl (155 kB)\n",
      "Collecting google-crc32c<2.0dev,>=1.0\n",
      "  Using cached google_crc32c-1.3.0-cp38-cp38-manylinux_2_12_x86_64.manylinux2010_x86_64.whl (37 kB)\n",
      "Requirement already satisfied: pyparsing>=2.0.2 in ./.venv/lib/python3.8/site-packages (from packaging>=14.3->google-api-core<2.0dev,>=1.21.0->google-cloud-bigquery==1.28.0->basedosdados) (3.0.1)\n",
      "Collecting pyasn1<0.5.0,>=0.4.6\n",
      "  Using cached pyasn1-0.4.8-py2.py3-none-any.whl (77 kB)\n",
      "Requirement already satisfied: urllib3<1.27,>=1.21.1 in ./.venv/lib/python3.8/site-packages (from requests<3.0.0dev,>=2.18.0->google-cloud-storage==1.31.2->basedosdados) (1.26.7)\n",
      "Requirement already satisfied: certifi>=2017.4.17 in ./.venv/lib/python3.8/site-packages (from requests<3.0.0dev,>=2.18.0->google-cloud-storage==1.31.2->basedosdados) (2021.10.8)\n",
      "Requirement already satisfied: charset-normalizer~=2.0.0 in ./.venv/lib/python3.8/site-packages (from requests<3.0.0dev,>=2.18.0->google-cloud-storage==1.31.2->basedosdados) (2.0.7)\n",
      "Requirement already satisfied: idna<4,>=2.5 in ./.venv/lib/python3.8/site-packages (from requests<3.0.0dev,>=2.18.0->google-cloud-storage==1.31.2->basedosdados) (3.3)\n",
      "Collecting requests-oauthlib>=0.7.0\n",
      "  Using cached requests_oauthlib-1.3.0-py2.py3-none-any.whl (23 kB)\n",
      "Collecting oauthlib>=3.0.0\n",
      "  Using cached oauthlib-3.1.1-py2.py3-none-any.whl (146 kB)\n",
      "Installing collected packages: pyasn1, rsa, pyasn1-modules, protobuf, cachetools, oauthlib, googleapis-common-protos, google-auth, requests-oauthlib, google-crc32c, google-api-core, grpcio, google-resumable-media, google-cloud-core, google-auth-oauthlib, ruamel.yaml.clib, pydata-google-auth, pandas, google-cloud-bigquery, tqdm, tomlkit, ruamel.yaml, pyaml, pandas-gbq, Jinja2, google-cloud-storage, google-cloud-bigquery-storage, click, basedosdados\n",
      "  Attempting uninstall: pandas\n",
      "    Found existing installation: pandas 1.3.4\n",
      "    Uninstalling pandas-1.3.4:\n",
      "      Successfully uninstalled pandas-1.3.4\n",
      "  Attempting uninstall: Jinja2\n",
      "    Found existing installation: Jinja2 3.0.2\n",
      "    Uninstalling Jinja2-3.0.2:\n",
      "      Successfully uninstalled Jinja2-3.0.2\n",
      "  Attempting uninstall: click\n",
      "    Found existing installation: click 8.0.3\n",
      "    Uninstalling click-8.0.3:\n",
      "      Successfully uninstalled click-8.0.3\n",
      "Successfully installed Jinja2-2.11.2 basedosdados-1.5.7 cachetools-4.2.4 click-7.1.2 google-api-core-1.31.3 google-auth-1.35.0 google-auth-oauthlib-0.4.6 google-cloud-bigquery-1.28.0 google-cloud-bigquery-storage-1.1.0 google-cloud-core-1.7.2 google-cloud-storage-1.31.2 google-crc32c-1.3.0 google-resumable-media-1.3.3 googleapis-common-protos-1.53.0 grpcio-1.41.1 oauthlib-3.1.1 pandas-1.2.4 pandas-gbq-0.13.2 protobuf-3.17.3 pyaml-20.4.0 pyasn1-0.4.8 pyasn1-modules-0.2.8 pydata-google-auth-1.2.0 requests-oauthlib-1.3.0 rsa-4.7.2 ruamel.yaml-0.17.4 ruamel.yaml.clib-0.2.6 tomlkit-0.7.0 tqdm-4.50.2\n",
      "\u001b[33mWARNING: You are using pip version 21.1.1; however, version 21.3.1 is available.\n",
      "You should consider upgrading via the '/home/vmussa/dev/alexandria/notebooks/.venv/bin/python -m pip install --upgrade pip' command.\u001b[0m\n"
     ]
    }
   ],
   "source": [
    "!pip install basedosdados"
   ]
  },
  {
   "cell_type": "code",
   "execution_count": 105,
   "metadata": {},
   "outputs": [
    {
     "name": "stderr",
     "output_type": "stream",
     "text": [
      "Downloading: 100%|██████████| 94616/94616 [00:22<00:00, 4171.22rows/s]\n"
     ]
    }
   ],
   "source": [
    "import basedosdados as bd\n",
    "\n",
    "df = bd.read_table(\n",
    "    'br_ibge_pib',\n",
    "    'municipio',\n",
    "    billing_project_id='projetobase-309422')"
   ]
  },
  {
   "cell_type": "code",
   "execution_count": 106,
   "metadata": {},
   "outputs": [
    {
     "data": {
      "text/html": [
       "<div>\n",
       "<style scoped>\n",
       "    .dataframe tbody tr th:only-of-type {\n",
       "        vertical-align: middle;\n",
       "    }\n",
       "\n",
       "    .dataframe tbody tr th {\n",
       "        vertical-align: top;\n",
       "    }\n",
       "\n",
       "    .dataframe thead th {\n",
       "        text-align: right;\n",
       "    }\n",
       "</style>\n",
       "<table border=\"1\" class=\"dataframe\">\n",
       "  <thead>\n",
       "    <tr style=\"text-align: right;\">\n",
       "      <th></th>\n",
       "      <th>ano</th>\n",
       "      <th>id_municipio</th>\n",
       "      <th>pib</th>\n",
       "      <th>impostos_liquidos</th>\n",
       "      <th>va</th>\n",
       "      <th>va_agropecuaria</th>\n",
       "      <th>va_industria</th>\n",
       "      <th>va_servicos</th>\n",
       "      <th>va_adespss</th>\n",
       "    </tr>\n",
       "  </thead>\n",
       "  <tbody>\n",
       "    <tr>\n",
       "      <th>0</th>\n",
       "      <td>2002</td>\n",
       "      <td>1100015</td>\n",
       "      <td>111290995</td>\n",
       "      <td>7549266</td>\n",
       "      <td>103741729</td>\n",
       "      <td>27013223</td>\n",
       "      <td>9376871</td>\n",
       "      <td>24651113</td>\n",
       "      <td>42700523</td>\n",
       "    </tr>\n",
       "    <tr>\n",
       "      <th>1</th>\n",
       "      <td>2002</td>\n",
       "      <td>1100023</td>\n",
       "      <td>449592816</td>\n",
       "      <td>42665972</td>\n",
       "      <td>406926845</td>\n",
       "      <td>28590178</td>\n",
       "      <td>99922936</td>\n",
       "      <td>161851549</td>\n",
       "      <td>116562182</td>\n",
       "    </tr>\n",
       "    <tr>\n",
       "      <th>2</th>\n",
       "      <td>2002</td>\n",
       "      <td>1100031</td>\n",
       "      <td>31767520</td>\n",
       "      <td>1867935</td>\n",
       "      <td>29899585</td>\n",
       "      <td>10883801</td>\n",
       "      <td>1961907</td>\n",
       "      <td>5128876</td>\n",
       "      <td>11925001</td>\n",
       "    </tr>\n",
       "    <tr>\n",
       "      <th>3</th>\n",
       "      <td>2002</td>\n",
       "      <td>1100049</td>\n",
       "      <td>474443097</td>\n",
       "      <td>49622951</td>\n",
       "      <td>424820146</td>\n",
       "      <td>32810376</td>\n",
       "      <td>98292764</td>\n",
       "      <td>175748703</td>\n",
       "      <td>117968303</td>\n",
       "    </tr>\n",
       "    <tr>\n",
       "      <th>4</th>\n",
       "      <td>2002</td>\n",
       "      <td>1100056</td>\n",
       "      <td>79173614</td>\n",
       "      <td>8200971</td>\n",
       "      <td>70972643</td>\n",
       "      <td>11283793</td>\n",
       "      <td>6651475</td>\n",
       "      <td>25306009</td>\n",
       "      <td>27731366</td>\n",
       "    </tr>\n",
       "  </tbody>\n",
       "</table>\n",
       "</div>"
      ],
      "text/plain": [
       "    ano id_municipio        pib  impostos_liquidos         va  \\\n",
       "0  2002      1100015  111290995            7549266  103741729   \n",
       "1  2002      1100023  449592816           42665972  406926845   \n",
       "2  2002      1100031   31767520            1867935   29899585   \n",
       "3  2002      1100049  474443097           49622951  424820146   \n",
       "4  2002      1100056   79173614            8200971   70972643   \n",
       "\n",
       "   va_agropecuaria  va_industria  va_servicos  va_adespss  \n",
       "0         27013223       9376871     24651113    42700523  \n",
       "1         28590178      99922936    161851549   116562182  \n",
       "2         10883801       1961907      5128876    11925001  \n",
       "3         32810376      98292764    175748703   117968303  \n",
       "4         11283793       6651475     25306009    27731366  "
      ]
     },
     "execution_count": 106,
     "metadata": {},
     "output_type": "execute_result"
    }
   ],
   "source": [
    "df.head()"
   ]
  },
  {
   "cell_type": "code",
   "execution_count": 107,
   "metadata": {},
   "outputs": [
    {
     "data": {
      "text/html": [
       "<div>\n",
       "<style scoped>\n",
       "    .dataframe tbody tr th:only-of-type {\n",
       "        vertical-align: middle;\n",
       "    }\n",
       "\n",
       "    .dataframe tbody tr th {\n",
       "        vertical-align: top;\n",
       "    }\n",
       "\n",
       "    .dataframe thead th {\n",
       "        text-align: right;\n",
       "    }\n",
       "</style>\n",
       "<table border=\"1\" class=\"dataframe\">\n",
       "  <thead>\n",
       "    <tr style=\"text-align: right;\">\n",
       "      <th></th>\n",
       "      <th>ano</th>\n",
       "      <th>pib</th>\n",
       "      <th>impostos_liquidos</th>\n",
       "      <th>va</th>\n",
       "      <th>va_agropecuaria</th>\n",
       "      <th>va_industria</th>\n",
       "      <th>va_servicos</th>\n",
       "      <th>va_adespss</th>\n",
       "    </tr>\n",
       "  </thead>\n",
       "  <tbody>\n",
       "    <tr>\n",
       "      <th>count</th>\n",
       "      <td>94616.000000</td>\n",
       "      <td>9.461600e+04</td>\n",
       "      <td>9.461600e+04</td>\n",
       "      <td>9.461600e+04</td>\n",
       "      <td>9.461600e+04</td>\n",
       "      <td>9.461600e+04</td>\n",
       "      <td>9.461600e+04</td>\n",
       "      <td>9.461600e+04</td>\n",
       "    </tr>\n",
       "    <tr>\n",
       "      <th>mean</th>\n",
       "      <td>2010.003002</td>\n",
       "      <td>7.287343e+08</td>\n",
       "      <td>1.052315e+08</td>\n",
       "      <td>6.235028e+08</td>\n",
       "      <td>3.313567e+07</td>\n",
       "      <td>1.531836e+08</td>\n",
       "      <td>3.329723e+08</td>\n",
       "      <td>1.042113e+08</td>\n",
       "    </tr>\n",
       "    <tr>\n",
       "      <th>std</th>\n",
       "      <td>4.898931</td>\n",
       "      <td>8.059832e+09</td>\n",
       "      <td>1.489081e+09</td>\n",
       "      <td>6.596790e+09</td>\n",
       "      <td>6.356696e+07</td>\n",
       "      <td>1.094854e+09</td>\n",
       "      <td>4.885391e+09</td>\n",
       "      <td>1.058767e+09</td>\n",
       "    </tr>\n",
       "    <tr>\n",
       "      <th>min</th>\n",
       "      <td>2002.000000</td>\n",
       "      <td>-1.904643e+07</td>\n",
       "      <td>-1.508840e+07</td>\n",
       "      <td>-5.105931e+08</td>\n",
       "      <td>-2.298910e+06</td>\n",
       "      <td>-2.897193e+09</td>\n",
       "      <td>3.722780e+05</td>\n",
       "      <td>1.446664e+06</td>\n",
       "    </tr>\n",
       "    <tr>\n",
       "      <th>25%</th>\n",
       "      <td>2006.000000</td>\n",
       "      <td>3.905784e+07</td>\n",
       "      <td>1.478442e+06</td>\n",
       "      <td>3.729948e+07</td>\n",
       "      <td>6.121093e+06</td>\n",
       "      <td>1.904200e+06</td>\n",
       "      <td>8.765398e+06</td>\n",
       "      <td>1.286555e+07</td>\n",
       "    </tr>\n",
       "    <tr>\n",
       "      <th>50%</th>\n",
       "      <td>2010.000000</td>\n",
       "      <td>8.971593e+07</td>\n",
       "      <td>4.477020e+06</td>\n",
       "      <td>8.467848e+07</td>\n",
       "      <td>1.519649e+07</td>\n",
       "      <td>6.322138e+06</td>\n",
       "      <td>2.362657e+07</td>\n",
       "      <td>2.568912e+07</td>\n",
       "    </tr>\n",
       "    <tr>\n",
       "      <th>75%</th>\n",
       "      <td>2014.000000</td>\n",
       "      <td>2.555032e+08</td>\n",
       "      <td>1.811785e+07</td>\n",
       "      <td>2.356625e+08</td>\n",
       "      <td>3.532677e+07</td>\n",
       "      <td>3.520165e+07</td>\n",
       "      <td>8.064128e+07</td>\n",
       "      <td>5.908990e+07</td>\n",
       "    </tr>\n",
       "    <tr>\n",
       "      <th>max</th>\n",
       "      <td>2018.000000</td>\n",
       "      <td>7.146834e+11</td>\n",
       "      <td>1.271543e+11</td>\n",
       "      <td>5.875291e+11</td>\n",
       "      <td>2.482540e+09</td>\n",
       "      <td>6.689305e+10</td>\n",
       "      <td>4.854288e+11</td>\n",
       "      <td>1.017928e+11</td>\n",
       "    </tr>\n",
       "  </tbody>\n",
       "</table>\n",
       "</div>"
      ],
      "text/plain": [
       "                ano           pib  impostos_liquidos            va  \\\n",
       "count  94616.000000  9.461600e+04       9.461600e+04  9.461600e+04   \n",
       "mean    2010.003002  7.287343e+08       1.052315e+08  6.235028e+08   \n",
       "std        4.898931  8.059832e+09       1.489081e+09  6.596790e+09   \n",
       "min     2002.000000 -1.904643e+07      -1.508840e+07 -5.105931e+08   \n",
       "25%     2006.000000  3.905784e+07       1.478442e+06  3.729948e+07   \n",
       "50%     2010.000000  8.971593e+07       4.477020e+06  8.467848e+07   \n",
       "75%     2014.000000  2.555032e+08       1.811785e+07  2.356625e+08   \n",
       "max     2018.000000  7.146834e+11       1.271543e+11  5.875291e+11   \n",
       "\n",
       "       va_agropecuaria  va_industria   va_servicos    va_adespss  \n",
       "count     9.461600e+04  9.461600e+04  9.461600e+04  9.461600e+04  \n",
       "mean      3.313567e+07  1.531836e+08  3.329723e+08  1.042113e+08  \n",
       "std       6.356696e+07  1.094854e+09  4.885391e+09  1.058767e+09  \n",
       "min      -2.298910e+06 -2.897193e+09  3.722780e+05  1.446664e+06  \n",
       "25%       6.121093e+06  1.904200e+06  8.765398e+06  1.286555e+07  \n",
       "50%       1.519649e+07  6.322138e+06  2.362657e+07  2.568912e+07  \n",
       "75%       3.532677e+07  3.520165e+07  8.064128e+07  5.908990e+07  \n",
       "max       2.482540e+09  6.689305e+10  4.854288e+11  1.017928e+11  "
      ]
     },
     "execution_count": 107,
     "metadata": {},
     "output_type": "execute_result"
    }
   ],
   "source": [
    "df.describe()"
   ]
  },
  {
   "cell_type": "code",
   "execution_count": 108,
   "metadata": {},
   "outputs": [
    {
     "data": {
      "text/plain": [
       "Index(['ano', 'id_municipio', 'pib', 'impostos_liquidos', 'va',\n",
       "       'va_agropecuaria', 'va_industria', 'va_servicos', 'va_adespss'],\n",
       "      dtype='object')"
      ]
     },
     "execution_count": 108,
     "metadata": {},
     "output_type": "execute_result"
    }
   ],
   "source": [
    "df.columns"
   ]
  },
  {
   "cell_type": "code",
   "execution_count": 109,
   "metadata": {},
   "outputs": [
    {
     "data": {
      "text/plain": [
       "ano                  2.010003e+03\n",
       "id_municipio                  inf\n",
       "pib                  7.287343e+08\n",
       "impostos_liquidos    1.052315e+08\n",
       "va                   6.235028e+08\n",
       "va_agropecuaria      3.313567e+07\n",
       "va_industria         1.531836e+08\n",
       "va_servicos          3.329723e+08\n",
       "va_adespss           1.042113e+08\n",
       "dtype: float64"
      ]
     },
     "execution_count": 109,
     "metadata": {},
     "output_type": "execute_result"
    }
   ],
   "source": [
    "df.mean()"
   ]
  },
  {
   "cell_type": "code",
   "execution_count": 111,
   "metadata": {},
   "outputs": [
    {
     "data": {
      "text/plain": [
       "array([2002, 2003, 2004, 2005, 2006, 2007, 2008, 2009, 2010, 2011, 2012,\n",
       "       2013, 2014, 2015, 2016, 2017, 2018])"
      ]
     },
     "execution_count": 111,
     "metadata": {},
     "output_type": "execute_result"
    }
   ],
   "source": [
    "df['ano'].unique()"
   ]
  },
  {
   "cell_type": "code",
   "execution_count": 112,
   "metadata": {},
   "outputs": [
    {
     "data": {
      "text/plain": [
       "2018"
      ]
     },
     "execution_count": 112,
     "metadata": {},
     "output_type": "execute_result"
    }
   ],
   "source": [
    "df['ano'].max()"
   ]
  },
  {
   "cell_type": "code",
   "execution_count": 115,
   "metadata": {},
   "outputs": [
    {
     "data": {
      "text/plain": [
       "-19046434"
      ]
     },
     "execution_count": 115,
     "metadata": {},
     "output_type": "execute_result"
    }
   ],
   "source": [
    "df['pib'].min()"
   ]
  },
  {
   "cell_type": "code",
   "execution_count": 120,
   "metadata": {},
   "outputs": [
    {
     "data": {
      "text/plain": [
       "-19046434"
      ]
     },
     "execution_count": 120,
     "metadata": {},
     "output_type": "execute_result"
    }
   ],
   "source": [
    "df['pib'].min()"
   ]
  },
  {
   "cell_type": "markdown",
   "metadata": {},
   "source": [
    "### Agrupamentos e ordenações"
   ]
  },
  {
   "cell_type": "code",
   "execution_count": 126,
   "metadata": {},
   "outputs": [
    {
     "data": {
      "text/plain": [
       "ano\n",
       "2002    1.488787276039 trilhões de reais\n",
       "2003    1.717950386056 trilhões de reais\n",
       "2004    1.957751224028 trilhões de reais\n",
       "2005    2.170584502984 trilhões de reais\n",
       "2006    2.409449916019 trilhões de reais\n",
       "2007     2.72026295093 trilhões de reais\n",
       "2008    3.109803096975 trilhões de reais\n",
       "2009    3.333039338988 trilhões de reais\n",
       "2010    3.885846999973 trilhões de reais\n",
       "2011    4.376381999975 trilhões de reais\n",
       "2012    4.814760000022 trilhões de reais\n",
       "2013    5.331618956621 trilhões de reais\n",
       "2014    5.778952779987 trilhões de reais\n",
       "2015    5.995786999978 trilhões de reais\n",
       "2016    6.269327999976 trilhões de reais\n",
       "2017    6.585479000016 trilhões de reais\n",
       "2018    7.004140999992 trilhões de reais\n",
       "Name: pib, dtype: object"
      ]
     },
     "execution_count": 126,
     "metadata": {},
     "output_type": "execute_result"
    }
   ],
   "source": [
    "df.groupby('ano').pib.sum().apply(lambda x: str(x/1_000_000_000_000) + ' trilhões de reais')"
   ]
  },
  {
   "cell_type": "code",
   "execution_count": 131,
   "metadata": {},
   "outputs": [
    {
     "data": {
      "text/plain": [
       "ano   id_municipio\n",
       "2002  1100015            111290995\n",
       "      1100023            449592816\n",
       "      1100031             31767520\n",
       "      1100049            474443097\n",
       "      1100056             79173614\n",
       "                          ...     \n",
       "2018  5222005            440221991\n",
       "      5222054            322359328\n",
       "      5222203            103408136\n",
       "      5222302            163782378\n",
       "      5300108         254817204692\n",
       "Name: pib, Length: 94616, dtype: int64"
      ]
     },
     "execution_count": 131,
     "metadata": {},
     "output_type": "execute_result"
    }
   ],
   "source": [
    "df.groupby(['ano', 'id_municipio']).pib.sum()"
   ]
  },
  {
   "cell_type": "markdown",
   "metadata": {},
   "source": [
    "### Tipos de dados e valores faltantes"
   ]
  },
  {
   "cell_type": "markdown",
   "metadata": {},
   "source": [
    "### Renomear e combinar"
   ]
  },
  {
   "cell_type": "markdown",
   "metadata": {},
   "source": [
    "## Big Data: transportando seu código para `Dask`"
   ]
  },
  {
   "cell_type": "code",
   "execution_count": 91,
   "metadata": {},
   "outputs": [
    {
     "name": "stdout",
     "output_type": "stream",
     "text": [
      "Requirement already satisfied: dask in ./.venv/lib/python3.8/site-packages (2021.10.0)\n",
      "Requirement already satisfied: cloudpickle>=1.1.1 in ./.venv/lib/python3.8/site-packages (from dask) (2.0.0)\n",
      "Requirement already satisfied: toolz>=0.8.2 in ./.venv/lib/python3.8/site-packages (from dask) (0.11.1)\n",
      "Requirement already satisfied: pyyaml in ./.venv/lib/python3.8/site-packages (from dask) (6.0)\n",
      "Requirement already satisfied: packaging>=20.0 in ./.venv/lib/python3.8/site-packages (from dask) (21.0)\n",
      "Requirement already satisfied: partd>=0.3.10 in ./.venv/lib/python3.8/site-packages (from dask) (1.2.0)\n",
      "Requirement already satisfied: fsspec>=0.6.0 in ./.venv/lib/python3.8/site-packages (from dask) (2021.10.1)\n",
      "Requirement already satisfied: pyparsing>=2.0.2 in ./.venv/lib/python3.8/site-packages (from packaging>=20.0->dask) (3.0.1)\n",
      "Requirement already satisfied: locket in ./.venv/lib/python3.8/site-packages (from partd>=0.3.10->dask) (0.2.1)\n",
      "\u001b[33mWARNING: You are using pip version 21.1.1; however, version 21.3.1 is available.\n",
      "You should consider upgrading via the '/home/vmussa/dev/alexandria/notebooks/.venv/bin/python -m pip install --upgrade pip' command.\u001b[0m\n"
     ]
    }
   ],
   "source": [
    "!pip install dask"
   ]
  },
  {
   "cell_type": "code",
   "execution_count": 93,
   "metadata": {},
   "outputs": [
    {
     "data": {
      "text/html": [
       "<div>\n",
       "<style scoped>\n",
       "    .dataframe tbody tr th:only-of-type {\n",
       "        vertical-align: middle;\n",
       "    }\n",
       "\n",
       "    .dataframe tbody tr th {\n",
       "        vertical-align: top;\n",
       "    }\n",
       "\n",
       "    .dataframe thead th {\n",
       "        text-align: right;\n",
       "    }\n",
       "</style>\n",
       "<table border=\"1\" class=\"dataframe\">\n",
       "  <thead>\n",
       "    <tr style=\"text-align: right;\">\n",
       "      <th></th>\n",
       "      <th>authors</th>\n",
       "      <th>quotes</th>\n",
       "      <th>tags</th>\n",
       "      <th>about_relative_url</th>\n",
       "      <th>goodreads_url</th>\n",
       "    </tr>\n",
       "  </thead>\n",
       "  <tbody>\n",
       "    <tr>\n",
       "      <th>0</th>\n",
       "      <td>Albert Einstein</td>\n",
       "      <td>“The world as we have created it is a process ...</td>\n",
       "      <td>change</td>\n",
       "      <td>/author/Albert-Einstein</td>\n",
       "      <td>http://goodreads.com/author/show/9810.Albert_E...</td>\n",
       "    </tr>\n",
       "    <tr>\n",
       "      <th>0</th>\n",
       "      <td>Albert Einstein</td>\n",
       "      <td>“The world as we have created it is a process ...</td>\n",
       "      <td>deep-thoughts</td>\n",
       "      <td>/author/Albert-Einstein</td>\n",
       "      <td>http://goodreads.com/author/show/9810.Albert_E...</td>\n",
       "    </tr>\n",
       "    <tr>\n",
       "      <th>0</th>\n",
       "      <td>Albert Einstein</td>\n",
       "      <td>“The world as we have created it is a process ...</td>\n",
       "      <td>thinking</td>\n",
       "      <td>/author/Albert-Einstein</td>\n",
       "      <td>http://goodreads.com/author/show/9810.Albert_E...</td>\n",
       "    </tr>\n",
       "    <tr>\n",
       "      <th>0</th>\n",
       "      <td>Albert Einstein</td>\n",
       "      <td>“The world as we have created it is a process ...</td>\n",
       "      <td>world</td>\n",
       "      <td>/author/Albert-Einstein</td>\n",
       "      <td>http://goodreads.com/author/show/9810.Albert_E...</td>\n",
       "    </tr>\n",
       "    <tr>\n",
       "      <th>1</th>\n",
       "      <td>J.K. Rowling</td>\n",
       "      <td>“It is our choices, Harry, that show what we t...</td>\n",
       "      <td>abilities</td>\n",
       "      <td>/author/J-K-Rowling</td>\n",
       "      <td>http://goodreads.com/author/show/1077326.J_K_R...</td>\n",
       "    </tr>\n",
       "  </tbody>\n",
       "</table>\n",
       "</div>"
      ],
      "text/plain": [
       "           authors                                             quotes  \\\n",
       "0  Albert Einstein  “The world as we have created it is a process ...   \n",
       "0  Albert Einstein  “The world as we have created it is a process ...   \n",
       "0  Albert Einstein  “The world as we have created it is a process ...   \n",
       "0  Albert Einstein  “The world as we have created it is a process ...   \n",
       "1     J.K. Rowling  “It is our choices, Harry, that show what we t...   \n",
       "\n",
       "            tags       about_relative_url  \\\n",
       "0         change  /author/Albert-Einstein   \n",
       "0  deep-thoughts  /author/Albert-Einstein   \n",
       "0       thinking  /author/Albert-Einstein   \n",
       "0          world  /author/Albert-Einstein   \n",
       "1      abilities      /author/J-K-Rowling   \n",
       "\n",
       "                                       goodreads_url  \n",
       "0  http://goodreads.com/author/show/9810.Albert_E...  \n",
       "0  http://goodreads.com/author/show/9810.Albert_E...  \n",
       "0  http://goodreads.com/author/show/9810.Albert_E...  \n",
       "0  http://goodreads.com/author/show/9810.Albert_E...  \n",
       "1  http://goodreads.com/author/show/1077326.J_K_R...  "
      ]
     },
     "execution_count": 93,
     "metadata": {},
     "output_type": "execute_result"
    }
   ],
   "source": [
    "import dask.dataframe as dd\n",
    "\n",
    "df = dd.from_pandas(df, npartitions=4)\n",
    "df.head()"
   ]
  },
  {
   "cell_type": "code",
   "execution_count": 99,
   "metadata": {},
   "outputs": [
    {
     "name": "stderr",
     "output_type": "stream",
     "text": [
      "/home/vmussa/dev/alexandria/notebooks/.venv/lib/python3.8/site-packages/dask/dataframe/core.py:4959: UserWarning: \n",
      "You did not provide metadata, so Dask is running your function on a small dataset to guess output types. It is possible that Dask will guess incorrectly.\n",
      "To provide an explicit output types or to silence this message, please provide the `meta=` keyword, as described in the map or apply function that you are using.\n",
      "  Before: .apply(func)\n",
      "  After:  .apply(func, meta={'authors': 'object', 'quotes': 'object', 'tags': 'object', 'about_relative_url': 'object', 'goodreads_url': 'object'})\n",
      "\n",
      "  warnings.warn(meta_warning(meta))\n"
     ]
    },
    {
     "data": {
      "text/html": [
       "<div><strong>Dask DataFrame Structure:</strong></div>\n",
       "<div>\n",
       "<style scoped>\n",
       "    .dataframe tbody tr th:only-of-type {\n",
       "        vertical-align: middle;\n",
       "    }\n",
       "\n",
       "    .dataframe tbody tr th {\n",
       "        vertical-align: top;\n",
       "    }\n",
       "\n",
       "    .dataframe thead th {\n",
       "        text-align: right;\n",
       "    }\n",
       "</style>\n",
       "<table border=\"1\" class=\"dataframe\">\n",
       "  <thead>\n",
       "    <tr style=\"text-align: right;\">\n",
       "      <th></th>\n",
       "      <th>authors</th>\n",
       "      <th>quotes</th>\n",
       "      <th>tags</th>\n",
       "      <th>about_relative_url</th>\n",
       "      <th>goodreads_url</th>\n",
       "    </tr>\n",
       "    <tr>\n",
       "      <th>npartitions=4</th>\n",
       "      <th></th>\n",
       "      <th></th>\n",
       "      <th></th>\n",
       "      <th></th>\n",
       "      <th></th>\n",
       "    </tr>\n",
       "  </thead>\n",
       "  <tbody>\n",
       "    <tr>\n",
       "      <th>0</th>\n",
       "      <td>object</td>\n",
       "      <td>object</td>\n",
       "      <td>object</td>\n",
       "      <td>object</td>\n",
       "      <td>object</td>\n",
       "    </tr>\n",
       "    <tr>\n",
       "      <th>19</th>\n",
       "      <td>...</td>\n",
       "      <td>...</td>\n",
       "      <td>...</td>\n",
       "      <td>...</td>\n",
       "      <td>...</td>\n",
       "    </tr>\n",
       "    <tr>\n",
       "      <th>46</th>\n",
       "      <td>...</td>\n",
       "      <td>...</td>\n",
       "      <td>...</td>\n",
       "      <td>...</td>\n",
       "      <td>...</td>\n",
       "    </tr>\n",
       "    <tr>\n",
       "      <th>76</th>\n",
       "      <td>...</td>\n",
       "      <td>...</td>\n",
       "      <td>...</td>\n",
       "      <td>...</td>\n",
       "      <td>...</td>\n",
       "    </tr>\n",
       "    <tr>\n",
       "      <th>99</th>\n",
       "      <td>...</td>\n",
       "      <td>...</td>\n",
       "      <td>...</td>\n",
       "      <td>...</td>\n",
       "      <td>...</td>\n",
       "    </tr>\n",
       "  </tbody>\n",
       "</table>\n",
       "</div>\n",
       "<div>Dask Name: apply, 8 tasks</div>"
      ],
      "text/plain": [
       "Dask DataFrame Structure:\n",
       "              authors  quotes    tags about_relative_url goodreads_url\n",
       "npartitions=4                                                         \n",
       "0              object  object  object             object        object\n",
       "19                ...     ...     ...                ...           ...\n",
       "46                ...     ...     ...                ...           ...\n",
       "76                ...     ...     ...                ...           ...\n",
       "99                ...     ...     ...                ...           ...\n",
       "Dask Name: apply, 8 tasks"
      ]
     },
     "execution_count": 99,
     "metadata": {},
     "output_type": "execute_result"
    }
   ],
   "source": [
    "def lower_case(row):\n",
    "    row['authors'] = row['authors'].lower()\n",
    "    return row\n",
    "\n",
    "df.apply(lower_case, axis=1)"
   ]
  },
  {
   "cell_type": "code",
   "execution_count": 101,
   "metadata": {},
   "outputs": [
    {
     "name": "stderr",
     "output_type": "stream",
     "text": [
      "/home/vmussa/dev/alexandria/notebooks/.venv/lib/python3.8/site-packages/dask/dataframe/core.py:4959: UserWarning: \n",
      "You did not provide metadata, so Dask is running your function on a small dataset to guess output types. It is possible that Dask will guess incorrectly.\n",
      "To provide an explicit output types or to silence this message, please provide the `meta=` keyword, as described in the map or apply function that you are using.\n",
      "  Before: .apply(func)\n",
      "  After:  .apply(func, meta={'authors': 'object', 'quotes': 'object', 'tags': 'object', 'about_relative_url': 'object', 'goodreads_url': 'object'})\n",
      "\n",
      "  warnings.warn(meta_warning(meta))\n"
     ]
    },
    {
     "data": {
      "text/html": [
       "<div>\n",
       "<style scoped>\n",
       "    .dataframe tbody tr th:only-of-type {\n",
       "        vertical-align: middle;\n",
       "    }\n",
       "\n",
       "    .dataframe tbody tr th {\n",
       "        vertical-align: top;\n",
       "    }\n",
       "\n",
       "    .dataframe thead th {\n",
       "        text-align: right;\n",
       "    }\n",
       "</style>\n",
       "<table border=\"1\" class=\"dataframe\">\n",
       "  <thead>\n",
       "    <tr style=\"text-align: right;\">\n",
       "      <th></th>\n",
       "      <th>authors</th>\n",
       "      <th>quotes</th>\n",
       "      <th>tags</th>\n",
       "      <th>about_relative_url</th>\n",
       "      <th>goodreads_url</th>\n",
       "    </tr>\n",
       "  </thead>\n",
       "  <tbody>\n",
       "    <tr>\n",
       "      <th>0</th>\n",
       "      <td>albert einstein</td>\n",
       "      <td>“The world as we have created it is a process ...</td>\n",
       "      <td>change</td>\n",
       "      <td>/author/Albert-Einstein</td>\n",
       "      <td>http://goodreads.com/author/show/9810.Albert_E...</td>\n",
       "    </tr>\n",
       "    <tr>\n",
       "      <th>0</th>\n",
       "      <td>albert einstein</td>\n",
       "      <td>“The world as we have created it is a process ...</td>\n",
       "      <td>deep-thoughts</td>\n",
       "      <td>/author/Albert-Einstein</td>\n",
       "      <td>http://goodreads.com/author/show/9810.Albert_E...</td>\n",
       "    </tr>\n",
       "    <tr>\n",
       "      <th>0</th>\n",
       "      <td>albert einstein</td>\n",
       "      <td>“The world as we have created it is a process ...</td>\n",
       "      <td>thinking</td>\n",
       "      <td>/author/Albert-Einstein</td>\n",
       "      <td>http://goodreads.com/author/show/9810.Albert_E...</td>\n",
       "    </tr>\n",
       "    <tr>\n",
       "      <th>0</th>\n",
       "      <td>albert einstein</td>\n",
       "      <td>“The world as we have created it is a process ...</td>\n",
       "      <td>world</td>\n",
       "      <td>/author/Albert-Einstein</td>\n",
       "      <td>http://goodreads.com/author/show/9810.Albert_E...</td>\n",
       "    </tr>\n",
       "    <tr>\n",
       "      <th>1</th>\n",
       "      <td>j.k. rowling</td>\n",
       "      <td>“It is our choices, Harry, that show what we t...</td>\n",
       "      <td>abilities</td>\n",
       "      <td>/author/J-K-Rowling</td>\n",
       "      <td>http://goodreads.com/author/show/1077326.J_K_R...</td>\n",
       "    </tr>\n",
       "    <tr>\n",
       "      <th>...</th>\n",
       "      <td>...</td>\n",
       "      <td>...</td>\n",
       "      <td>...</td>\n",
       "      <td>...</td>\n",
       "      <td>...</td>\n",
       "    </tr>\n",
       "    <tr>\n",
       "      <th>96</th>\n",
       "      <td>madeleine l'engle</td>\n",
       "      <td>“You have to write the book that wants to be w...</td>\n",
       "      <td>writing</td>\n",
       "      <td>/author/Madeleine-LEngle</td>\n",
       "      <td>http://goodreads.com/author/show/106.Madeleine...</td>\n",
       "    </tr>\n",
       "    <tr>\n",
       "      <th>97</th>\n",
       "      <td>mark twain</td>\n",
       "      <td>“Never tell the truth to people who are not wo...</td>\n",
       "      <td>truth</td>\n",
       "      <td>/author/Mark-Twain</td>\n",
       "      <td>http://goodreads.com/author/show/1244.Mark_Twain</td>\n",
       "    </tr>\n",
       "    <tr>\n",
       "      <th>98</th>\n",
       "      <td>dr. seuss</td>\n",
       "      <td>“A person's a person, no matter how small.”</td>\n",
       "      <td>inspirational</td>\n",
       "      <td>/author/Dr-Seuss</td>\n",
       "      <td>http://goodreads.com/author/show/61105.Dr_Seuss</td>\n",
       "    </tr>\n",
       "    <tr>\n",
       "      <th>99</th>\n",
       "      <td>george r.r. martin</td>\n",
       "      <td>“... a mind needs books as a sword needs a whe...</td>\n",
       "      <td>books</td>\n",
       "      <td>/author/George-R-R-Martin</td>\n",
       "      <td>http://goodreads.com/author/show/346732.George...</td>\n",
       "    </tr>\n",
       "    <tr>\n",
       "      <th>99</th>\n",
       "      <td>george r.r. martin</td>\n",
       "      <td>“... a mind needs books as a sword needs a whe...</td>\n",
       "      <td>mind</td>\n",
       "      <td>/author/George-R-R-Martin</td>\n",
       "      <td>http://goodreads.com/author/show/346732.George...</td>\n",
       "    </tr>\n",
       "  </tbody>\n",
       "</table>\n",
       "<p>235 rows × 5 columns</p>\n",
       "</div>"
      ],
      "text/plain": [
       "               authors                                             quotes  \\\n",
       "0      albert einstein  “The world as we have created it is a process ...   \n",
       "0      albert einstein  “The world as we have created it is a process ...   \n",
       "0      albert einstein  “The world as we have created it is a process ...   \n",
       "0      albert einstein  “The world as we have created it is a process ...   \n",
       "1         j.k. rowling  “It is our choices, Harry, that show what we t...   \n",
       "..                 ...                                                ...   \n",
       "96   madeleine l'engle  “You have to write the book that wants to be w...   \n",
       "97          mark twain  “Never tell the truth to people who are not wo...   \n",
       "98           dr. seuss        “A person's a person, no matter how small.”   \n",
       "99  george r.r. martin  “... a mind needs books as a sword needs a whe...   \n",
       "99  george r.r. martin  “... a mind needs books as a sword needs a whe...   \n",
       "\n",
       "             tags         about_relative_url  \\\n",
       "0          change    /author/Albert-Einstein   \n",
       "0   deep-thoughts    /author/Albert-Einstein   \n",
       "0        thinking    /author/Albert-Einstein   \n",
       "0           world    /author/Albert-Einstein   \n",
       "1       abilities        /author/J-K-Rowling   \n",
       "..            ...                        ...   \n",
       "96        writing   /author/Madeleine-LEngle   \n",
       "97          truth         /author/Mark-Twain   \n",
       "98  inspirational           /author/Dr-Seuss   \n",
       "99          books  /author/George-R-R-Martin   \n",
       "99           mind  /author/George-R-R-Martin   \n",
       "\n",
       "                                        goodreads_url  \n",
       "0   http://goodreads.com/author/show/9810.Albert_E...  \n",
       "0   http://goodreads.com/author/show/9810.Albert_E...  \n",
       "0   http://goodreads.com/author/show/9810.Albert_E...  \n",
       "0   http://goodreads.com/author/show/9810.Albert_E...  \n",
       "1   http://goodreads.com/author/show/1077326.J_K_R...  \n",
       "..                                                ...  \n",
       "96  http://goodreads.com/author/show/106.Madeleine...  \n",
       "97   http://goodreads.com/author/show/1244.Mark_Twain  \n",
       "98    http://goodreads.com/author/show/61105.Dr_Seuss  \n",
       "99  http://goodreads.com/author/show/346732.George...  \n",
       "99  http://goodreads.com/author/show/346732.George...  \n",
       "\n",
       "[235 rows x 5 columns]"
      ]
     },
     "execution_count": 101,
     "metadata": {},
     "output_type": "execute_result"
    }
   ],
   "source": [
    "df.apply(lower_case, axis=1).compute()"
   ]
  },
  {
   "cell_type": "code",
   "execution_count": null,
   "metadata": {},
   "outputs": [],
   "source": []
  }
 ],
 "metadata": {
  "interpreter": {
   "hash": "f2a0f9a9ce29502547ef8b20022140c44c7eb9b587c3771383073f0ed5caa7da"
  },
  "kernelspec": {
   "display_name": "Python 3.8.10 64-bit ('.venv': venv)",
   "name": "python3"
  },
  "language_info": {
   "codemirror_mode": {
    "name": "ipython",
    "version": 3
   },
   "file_extension": ".py",
   "mimetype": "text/x-python",
   "name": "python",
   "nbconvert_exporter": "python",
   "pygments_lexer": "ipython3",
   "version": "3.8.10"
  },
  "orig_nbformat": 4
 },
 "nbformat": 4,
 "nbformat_minor": 2
}
