{
 "cells": [
  {
   "cell_type": "markdown",
   "metadata": {},
   "source": [
    "# Raspagem de dados web com Python\n",
    "\n",
    "Este notebook expõe os conceitos básicos de raspagem de dados web (web scraping) e propõe alguns exercícios.\n",
    "Utilizaremos conceitos pythônicos como funções e controle de fluxo, além de conceitos da Internet como o protocolo HTTP, URLs e de componentes fundamentias da web, como HTML, CSS, JavaScript etc. "
   ]
  },
  {
   "cell_type": "markdown",
   "metadata": {},
   "source": [
    "## Como funciona a web?"
   ]
  },
  {
   "cell_type": "markdown",
   "metadata": {},
   "source": [
    "### Internet enquanto sistema global de redes de computadores interconectadas\n",
    "#### Redes de computadores\n",
    "![A rede mundial de computadores](internet.png \"Internet\")\n",
    "\n",
    "#### Infraestrutura\n",
    "![Cabos submarinos que conectam os computadores](internet2.png \"Infraestrutura da Internet\")\n",
    "\n",
    "#### Os URLs e o Protocolo HTTP\n",
    "* URL: Uniform Resource Layer -> endereço web\n",
    "* HTTP: Hypertext Transfer Protocol -> fundação da comunicação de dados na web\n",
    "\n",
    "![O protocolo HTTP e o URL sendo usado no Browser](http.png \"HTTP/URL no Browser\")\n",
    "\n",
    "\n",
    "\n"
   ]
  },
  {
   "cell_type": "markdown",
   "metadata": {},
   "source": [
    "### Como o navegador transforma os dados recebidos via HTTP em elementos visuais?\n",
    "\n",
    "#### O código-fonte dos websites: HTML, CSS e JavaScript"
   ]
  },
  {
   "cell_type": "markdown",
   "metadata": {},
   "source": [
    "Exemplo da página [http://pythonscraping.com/pages/page1.html](http://pythonscraping.com/pages/page1.html)\n",
    "\n",
    "```html\n",
    "<html>\n",
    "<head>\n",
    "<title>A Useful Page</title>\n",
    "</head>\n",
    "<body>\n",
    "<h1>An Interesting Title</h1>\n",
    "<div>\n",
    "Lorem ipsum dolor sit amet, consectetur adipisicing elit, sed do eiusmod tempor incididunt ut labore et dolore magna aliqua. Ut enim ad minim veniam, quis nostrud exercitation ullamco laboris nisi ut aliquip ex ea commodo consequat. Duis aute irure dolor in reprehenderit in voluptate velit esse cillum dolore eu fugiat nulla pariatur. Excepteur sint occaecat cupidatat non proident, sunt in culpa qui officia deserunt mollit anim id est laborum.\n",
    "</div>\n",
    "</body>\n",
    "</html>\n",
    "```"
   ]
  },
  {
   "cell_type": "markdown",
   "metadata": {},
   "source": [
    "#### Um exemplo mais complexo, com CSS: [https://quotes.toscrape.com](https://quotes.toscrape.com); e outro, com JavaScript: [https://www.globo.com/](https://www.globo.com/)\n",
    "É preciso clicar com o botão direito na página e clicar em `Exibir código-fonte`."
   ]
  },
  {
   "cell_type": "markdown",
   "metadata": {},
   "source": [
    "## Do navegador ao código: como ler a web com Python?"
   ]
  },
  {
   "cell_type": "code",
   "execution_count": 4,
   "metadata": {},
   "outputs": [
    {
     "name": "stdout",
     "output_type": "stream",
     "text": [
      "Requirement already satisfied: requests in ./.venv/lib/python3.8/site-packages (2.26.0)\n",
      "Requirement already satisfied: idna<4,>=2.5 in ./.venv/lib/python3.8/site-packages (from requests) (3.3)\n",
      "Requirement already satisfied: urllib3<1.27,>=1.21.1 in ./.venv/lib/python3.8/site-packages (from requests) (1.26.7)\n",
      "Requirement already satisfied: certifi>=2017.4.17 in ./.venv/lib/python3.8/site-packages (from requests) (2021.10.8)\n",
      "Requirement already satisfied: charset-normalizer~=2.0.0 in ./.venv/lib/python3.8/site-packages (from requests) (2.0.7)\n",
      "\u001b[33mWARNING: You are using pip version 21.1.1; however, version 21.3.1 is available.\n",
      "You should consider upgrading via the '/home/vmussa/dev/alexandria/notebooks/.venv/bin/python -m pip install --upgrade pip' command.\u001b[0m\n",
      "Requirement already satisfied: bs4 in ./.venv/lib/python3.8/site-packages (0.0.1)\n",
      "Requirement already satisfied: beautifulsoup4 in ./.venv/lib/python3.8/site-packages (from bs4) (4.10.0)\n",
      "Requirement already satisfied: soupsieve>1.2 in ./.venv/lib/python3.8/site-packages (from beautifulsoup4->bs4) (2.2.1)\n",
      "\u001b[33mWARNING: You are using pip version 21.1.1; however, version 21.3.1 is available.\n",
      "You should consider upgrading via the '/home/vmussa/dev/alexandria/notebooks/.venv/bin/python -m pip install --upgrade pip' command.\u001b[0m\n"
     ]
    }
   ],
   "source": [
    "!pip install requests\n",
    "!pip install bs4"
   ]
  },
  {
   "cell_type": "markdown",
   "metadata": {},
   "source": [
    "### `requests`: fazendo pedidos HTTP com Python"
   ]
  },
  {
   "cell_type": "code",
   "execution_count": 5,
   "metadata": {},
   "outputs": [],
   "source": [
    "import requests\n",
    "\n",
    "r = requests.get('http://pythonscraping.com/pages/page1.html')"
   ]
  },
  {
   "cell_type": "code",
   "execution_count": 6,
   "metadata": {},
   "outputs": [
    {
     "name": "stdout",
     "output_type": "stream",
     "text": [
      "(b'<html>\\n<head>\\n<title>A Useful Page</title>\\n</head>\\n<body>\\n<h1>An Int'\n",
      " b'eresting Title</h1>\\n<div>\\nLorem ipsum dolor sit amet, consectetur adipis'\n",
      " b'icing elit, sed do eiusmod tempor incididunt ut labore et dolore magna aliqu'\n",
      " b'a. Ut enim ad minim veniam, quis nostrud exercitation ullamco laboris nisi u'\n",
      " b't aliquip ex ea commodo consequat. Duis aute irure dolor in reprehenderit in'\n",
      " b' voluptate velit esse cillum dolore eu fugiat nulla pariatur. Excepteur sint'\n",
      " b' occaecat cupidatat non proident, sunt in culpa qui officia deserunt mollit '\n",
      " b'anim id est laborum.\\n</div>\\n</body>\\n</html>\\n')\n"
     ]
    }
   ],
   "source": [
    "# biblioteca interna ao Python para fazer prints mais bonitos\n",
    "from pprint import pprint\n",
    "\n",
    "pprint(r.content)"
   ]
  },
  {
   "cell_type": "markdown",
   "metadata": {},
   "source": [
    "### `BeautifulSoup`: transformando HTML em dados estruturados"
   ]
  },
  {
   "cell_type": "code",
   "execution_count": 7,
   "metadata": {},
   "outputs": [],
   "source": [
    "from bs4 import BeautifulSoup\n",
    "\n",
    "soup = BeautifulSoup(r.content, 'html.parser')"
   ]
  },
  {
   "cell_type": "code",
   "execution_count": 13,
   "metadata": {},
   "outputs": [
    {
     "data": {
      "text/plain": [
       "'<html>\\n <head>\\n  <title>\\n   A Useful Page\\n  </title>\\n </head>\\n <body>\\n  <h1>\\n   An Interesting Title\\n  </h1>\\n  <div>\\n   Lorem ipsum dolor sit amet, consectetur adipisicing elit, sed do eiusmod tempor incididunt ut labore et dolore magna aliqua. Ut enim ad minim veniam, quis nostrud exercitation ullamco laboris nisi ut aliquip ex ea commodo consequat. Duis aute irure dolor in reprehenderit in voluptate velit esse cillum dolore eu fugiat nulla pariatur. Excepteur sint occaecat cupidatat non proident, sunt in culpa qui officia deserunt mollit anim id est laborum.\\n  </div>\\n </body>\\n</html>\\n'"
      ]
     },
     "execution_count": 13,
     "metadata": {},
     "output_type": "execute_result"
    }
   ],
   "source": [
    "soup.prettify()"
   ]
  },
  {
   "cell_type": "markdown",
   "metadata": {},
   "source": [
    "#### Navegando pela árvore do HTML"
   ]
  },
  {
   "cell_type": "code",
   "execution_count": 14,
   "metadata": {},
   "outputs": [
    {
     "data": {
      "text/plain": [
       "<head>\n",
       "<title>A Useful Page</title>\n",
       "</head>"
      ]
     },
     "execution_count": 14,
     "metadata": {},
     "output_type": "execute_result"
    }
   ],
   "source": [
    "soup.head"
   ]
  },
  {
   "cell_type": "code",
   "execution_count": 15,
   "metadata": {},
   "outputs": [
    {
     "data": {
      "text/plain": [
       "<title>A Useful Page</title>"
      ]
     },
     "execution_count": 15,
     "metadata": {},
     "output_type": "execute_result"
    }
   ],
   "source": [
    "soup.title"
   ]
  },
  {
   "cell_type": "code",
   "execution_count": 16,
   "metadata": {},
   "outputs": [
    {
     "data": {
      "text/plain": [
       "<h1>An Interesting Title</h1>"
      ]
     },
     "execution_count": 16,
     "metadata": {},
     "output_type": "execute_result"
    }
   ],
   "source": [
    "soup.h1"
   ]
  },
  {
   "cell_type": "code",
   "execution_count": 17,
   "metadata": {},
   "outputs": [
    {
     "data": {
      "text/plain": [
       "<div>\n",
       "Lorem ipsum dolor sit amet, consectetur adipisicing elit, sed do eiusmod tempor incididunt ut labore et dolore magna aliqua. Ut enim ad minim veniam, quis nostrud exercitation ullamco laboris nisi ut aliquip ex ea commodo consequat. Duis aute irure dolor in reprehenderit in voluptate velit esse cillum dolore eu fugiat nulla pariatur. Excepteur sint occaecat cupidatat non proident, sunt in culpa qui officia deserunt mollit anim id est laborum.\n",
       "</div>"
      ]
     },
     "execution_count": 17,
     "metadata": {},
     "output_type": "execute_result"
    }
   ],
   "source": [
    "soup.div"
   ]
  },
  {
   "cell_type": "markdown",
   "metadata": {},
   "source": [
    "## Raspando a web: um exemplo introdutório\n",
    "\n",
    "Vamos unir as explicações desenvolvidas acima aos nossos conhecimentos de Python para raspar a seguinte página: [https://quotes.toscrape.com/](https://quotes.toscrape.com/). Essa página foi criada pela empresa ScrapingHub, desenvolvedora da biblioteca de web scraping avançado `Scrapy`, com o objetivo de introduzir iniciantes à raspagem de dados."
   ]
  },
  {
   "cell_type": "code",
   "execution_count": 19,
   "metadata": {},
   "outputs": [],
   "source": [
    "r = requests.get(\"https://quotes.toscrape.com/\")\n",
    "soup = BeautifulSoup(r.content, 'html.parser')"
   ]
  },
  {
   "cell_type": "markdown",
   "metadata": {},
   "source": [
    "#### Como obter a citação do Einstein?"
   ]
  },
  {
   "cell_type": "code",
   "execution_count": 20,
   "metadata": {},
   "outputs": [
    {
     "data": {
      "text/plain": [
       "'“The world as we have created it is a process of our thinking. It cannot be changed without changing our thinking.”'"
      ]
     },
     "execution_count": 20,
     "metadata": {},
     "output_type": "execute_result"
    }
   ],
   "source": [
    "soup.span.text"
   ]
  },
  {
   "cell_type": "code",
   "execution_count": 21,
   "metadata": {},
   "outputs": [
    {
     "data": {
      "text/plain": [
       "'Albert Einstein'"
      ]
     },
     "execution_count": 21,
     "metadata": {},
     "output_type": "execute_result"
    }
   ],
   "source": [
    "soup.small.text"
   ]
  },
  {
   "cell_type": "markdown",
   "metadata": {},
   "source": [
    "#### Os métodos `find` e `find_all` do `BeautifulSoup`"
   ]
  },
  {
   "cell_type": "code",
   "execution_count": 84,
   "metadata": {},
   "outputs": [
    {
     "data": {
      "text/plain": [
       "'“The world as we have created it is a process of our thinking. It cannot be changed without changing our thinking.”'"
      ]
     },
     "execution_count": 84,
     "metadata": {},
     "output_type": "execute_result"
    }
   ],
   "source": [
    "soup.find('span', class_='text').text"
   ]
  },
  {
   "cell_type": "code",
   "execution_count": 85,
   "metadata": {},
   "outputs": [
    {
     "data": {
      "text/plain": [
       "'Albert Einstein'"
      ]
     },
     "execution_count": 85,
     "metadata": {},
     "output_type": "execute_result"
    }
   ],
   "source": [
    "soup.find('small', class_=\"author\").text"
   ]
  },
  {
   "cell_type": "markdown",
   "metadata": {},
   "source": [
    "#### Obtendo uma lista de elementos com o find_all"
   ]
  },
  {
   "cell_type": "code",
   "execution_count": 86,
   "metadata": {},
   "outputs": [
    {
     "data": {
      "text/plain": [
       "[<span class=\"text\" itemprop=\"text\">“The world as we have created it is a process of our thinking. It cannot be changed without changing our thinking.”</span>,\n",
       " <span>by <small class=\"author\" itemprop=\"author\">Albert Einstein</small>\n",
       " <a href=\"/author/Albert-Einstein\">(about)</a>\n",
       " </span>,\n",
       " <span class=\"text\" itemprop=\"text\">“It is our choices, Harry, that show what we truly are, far more than our abilities.”</span>,\n",
       " <span>by <small class=\"author\" itemprop=\"author\">J.K. Rowling</small>\n",
       " <a href=\"/author/J-K-Rowling\">(about)</a>\n",
       " </span>,\n",
       " <span class=\"text\" itemprop=\"text\">“There are only two ways to live your life. One is as though nothing is a miracle. The other is as though everything is a miracle.”</span>,\n",
       " <span>by <small class=\"author\" itemprop=\"author\">Albert Einstein</small>\n",
       " <a href=\"/author/Albert-Einstein\">(about)</a>\n",
       " </span>,\n",
       " <span class=\"text\" itemprop=\"text\">“The person, be it gentleman or lady, who has not pleasure in a good novel, must be intolerably stupid.”</span>,\n",
       " <span>by <small class=\"author\" itemprop=\"author\">Jane Austen</small>\n",
       " <a href=\"/author/Jane-Austen\">(about)</a>\n",
       " </span>,\n",
       " <span class=\"text\" itemprop=\"text\">“Imperfection is beauty, madness is genius and it's better to be absolutely ridiculous than absolutely boring.”</span>,\n",
       " <span>by <small class=\"author\" itemprop=\"author\">Marilyn Monroe</small>\n",
       " <a href=\"/author/Marilyn-Monroe\">(about)</a>\n",
       " </span>,\n",
       " <span class=\"text\" itemprop=\"text\">“Try not to become a man of success. Rather become a man of value.”</span>,\n",
       " <span>by <small class=\"author\" itemprop=\"author\">Albert Einstein</small>\n",
       " <a href=\"/author/Albert-Einstein\">(about)</a>\n",
       " </span>,\n",
       " <span class=\"text\" itemprop=\"text\">“It is better to be hated for what you are than to be loved for what you are not.”</span>,\n",
       " <span>by <small class=\"author\" itemprop=\"author\">André Gide</small>\n",
       " <a href=\"/author/Andre-Gide\">(about)</a>\n",
       " </span>,\n",
       " <span class=\"text\" itemprop=\"text\">“I have not failed. I've just found 10,000 ways that won't work.”</span>,\n",
       " <span>by <small class=\"author\" itemprop=\"author\">Thomas A. Edison</small>\n",
       " <a href=\"/author/Thomas-A-Edison\">(about)</a>\n",
       " </span>,\n",
       " <span class=\"text\" itemprop=\"text\">“A woman is like a tea bag; you never know how strong it is until it's in hot water.”</span>,\n",
       " <span>by <small class=\"author\" itemprop=\"author\">Eleanor Roosevelt</small>\n",
       " <a href=\"/author/Eleanor-Roosevelt\">(about)</a>\n",
       " </span>,\n",
       " <span class=\"text\" itemprop=\"text\">“A day without sunshine is like, you know, night.”</span>,\n",
       " <span>by <small class=\"author\" itemprop=\"author\">Steve Martin</small>\n",
       " <a href=\"/author/Steve-Martin\">(about)</a>\n",
       " </span>,\n",
       " <span aria-hidden=\"true\">→</span>,\n",
       " <span class=\"tag-item\">\n",
       " <a class=\"tag\" href=\"/tag/love/\" style=\"font-size: 28px\">love</a>\n",
       " </span>,\n",
       " <span class=\"tag-item\">\n",
       " <a class=\"tag\" href=\"/tag/inspirational/\" style=\"font-size: 26px\">inspirational</a>\n",
       " </span>,\n",
       " <span class=\"tag-item\">\n",
       " <a class=\"tag\" href=\"/tag/life/\" style=\"font-size: 26px\">life</a>\n",
       " </span>,\n",
       " <span class=\"tag-item\">\n",
       " <a class=\"tag\" href=\"/tag/humor/\" style=\"font-size: 24px\">humor</a>\n",
       " </span>,\n",
       " <span class=\"tag-item\">\n",
       " <a class=\"tag\" href=\"/tag/books/\" style=\"font-size: 22px\">books</a>\n",
       " </span>,\n",
       " <span class=\"tag-item\">\n",
       " <a class=\"tag\" href=\"/tag/reading/\" style=\"font-size: 14px\">reading</a>\n",
       " </span>,\n",
       " <span class=\"tag-item\">\n",
       " <a class=\"tag\" href=\"/tag/friendship/\" style=\"font-size: 10px\">friendship</a>\n",
       " </span>,\n",
       " <span class=\"tag-item\">\n",
       " <a class=\"tag\" href=\"/tag/friends/\" style=\"font-size: 8px\">friends</a>\n",
       " </span>,\n",
       " <span class=\"tag-item\">\n",
       " <a class=\"tag\" href=\"/tag/truth/\" style=\"font-size: 8px\">truth</a>\n",
       " </span>,\n",
       " <span class=\"tag-item\">\n",
       " <a class=\"tag\" href=\"/tag/simile/\" style=\"font-size: 6px\">simile</a>\n",
       " </span>,\n",
       " <span class=\"sh-red\">❤</span>]"
      ]
     },
     "execution_count": 86,
     "metadata": {},
     "output_type": "execute_result"
    }
   ],
   "source": [
    "soup.find_all('span')"
   ]
  },
  {
   "cell_type": "code",
   "execution_count": 87,
   "metadata": {},
   "outputs": [
    {
     "data": {
      "text/plain": [
       "[<span class=\"text\" itemprop=\"text\">“The world as we have created it is a process of our thinking. It cannot be changed without changing our thinking.”</span>,\n",
       " <span>by <small class=\"author\" itemprop=\"author\">Albert Einstein</small>\n",
       " <a href=\"/author/Albert-Einstein\">(about)</a>\n",
       " </span>,\n",
       " <span class=\"text\" itemprop=\"text\">“It is our choices, Harry, that show what we truly are, far more than our abilities.”</span>,\n",
       " <span>by <small class=\"author\" itemprop=\"author\">J.K. Rowling</small>\n",
       " <a href=\"/author/J-K-Rowling\">(about)</a>\n",
       " </span>,\n",
       " <span class=\"text\" itemprop=\"text\">“There are only two ways to live your life. One is as though nothing is a miracle. The other is as though everything is a miracle.”</span>,\n",
       " <span>by <small class=\"author\" itemprop=\"author\">Albert Einstein</small>\n",
       " <a href=\"/author/Albert-Einstein\">(about)</a>\n",
       " </span>,\n",
       " <span class=\"text\" itemprop=\"text\">“The person, be it gentleman or lady, who has not pleasure in a good novel, must be intolerably stupid.”</span>,\n",
       " <span>by <small class=\"author\" itemprop=\"author\">Jane Austen</small>\n",
       " <a href=\"/author/Jane-Austen\">(about)</a>\n",
       " </span>,\n",
       " <span class=\"text\" itemprop=\"text\">“Imperfection is beauty, madness is genius and it's better to be absolutely ridiculous than absolutely boring.”</span>,\n",
       " <span>by <small class=\"author\" itemprop=\"author\">Marilyn Monroe</small>\n",
       " <a href=\"/author/Marilyn-Monroe\">(about)</a>\n",
       " </span>,\n",
       " <span class=\"text\" itemprop=\"text\">“Try not to become a man of success. Rather become a man of value.”</span>,\n",
       " <span>by <small class=\"author\" itemprop=\"author\">Albert Einstein</small>\n",
       " <a href=\"/author/Albert-Einstein\">(about)</a>\n",
       " </span>,\n",
       " <span class=\"text\" itemprop=\"text\">“It is better to be hated for what you are than to be loved for what you are not.”</span>,\n",
       " <span>by <small class=\"author\" itemprop=\"author\">André Gide</small>\n",
       " <a href=\"/author/Andre-Gide\">(about)</a>\n",
       " </span>,\n",
       " <span class=\"text\" itemprop=\"text\">“I have not failed. I've just found 10,000 ways that won't work.”</span>,\n",
       " <span>by <small class=\"author\" itemprop=\"author\">Thomas A. Edison</small>\n",
       " <a href=\"/author/Thomas-A-Edison\">(about)</a>\n",
       " </span>,\n",
       " <span class=\"text\" itemprop=\"text\">“A woman is like a tea bag; you never know how strong it is until it's in hot water.”</span>,\n",
       " <span>by <small class=\"author\" itemprop=\"author\">Eleanor Roosevelt</small>\n",
       " <a href=\"/author/Eleanor-Roosevelt\">(about)</a>\n",
       " </span>,\n",
       " <span class=\"text\" itemprop=\"text\">“A day without sunshine is like, you know, night.”</span>,\n",
       " <span>by <small class=\"author\" itemprop=\"author\">Steve Martin</small>\n",
       " <a href=\"/author/Steve-Martin\">(about)</a>\n",
       " </span>,\n",
       " <span aria-hidden=\"true\">→</span>,\n",
       " <span class=\"tag-item\">\n",
       " <a class=\"tag\" href=\"/tag/love/\" style=\"font-size: 28px\">love</a>\n",
       " </span>,\n",
       " <span class=\"tag-item\">\n",
       " <a class=\"tag\" href=\"/tag/inspirational/\" style=\"font-size: 26px\">inspirational</a>\n",
       " </span>,\n",
       " <span class=\"tag-item\">\n",
       " <a class=\"tag\" href=\"/tag/life/\" style=\"font-size: 26px\">life</a>\n",
       " </span>,\n",
       " <span class=\"tag-item\">\n",
       " <a class=\"tag\" href=\"/tag/humor/\" style=\"font-size: 24px\">humor</a>\n",
       " </span>,\n",
       " <span class=\"tag-item\">\n",
       " <a class=\"tag\" href=\"/tag/books/\" style=\"font-size: 22px\">books</a>\n",
       " </span>,\n",
       " <span class=\"tag-item\">\n",
       " <a class=\"tag\" href=\"/tag/reading/\" style=\"font-size: 14px\">reading</a>\n",
       " </span>,\n",
       " <span class=\"tag-item\">\n",
       " <a class=\"tag\" href=\"/tag/friendship/\" style=\"font-size: 10px\">friendship</a>\n",
       " </span>,\n",
       " <span class=\"tag-item\">\n",
       " <a class=\"tag\" href=\"/tag/friends/\" style=\"font-size: 8px\">friends</a>\n",
       " </span>,\n",
       " <span class=\"tag-item\">\n",
       " <a class=\"tag\" href=\"/tag/truth/\" style=\"font-size: 8px\">truth</a>\n",
       " </span>,\n",
       " <span class=\"tag-item\">\n",
       " <a class=\"tag\" href=\"/tag/simile/\" style=\"font-size: 6px\">simile</a>\n",
       " </span>,\n",
       " <span class=\"sh-red\">❤</span>]"
      ]
     },
     "execution_count": 87,
     "metadata": {},
     "output_type": "execute_result"
    }
   ],
   "source": [
    "elements = soup.find_all('span')\n",
    "elements"
   ]
  },
  {
   "cell_type": "code",
   "execution_count": 88,
   "metadata": {},
   "outputs": [
    {
     "data": {
      "text/plain": [
       "['“The world as we have created it is a process of our thinking. It cannot be changed without changing our thinking.”',\n",
       " '“It is our choices, Harry, that show what we truly are, far more than our abilities.”',\n",
       " '“There are only two ways to live your life. One is as though nothing is a miracle. The other is as though everything is a miracle.”',\n",
       " '“The person, be it gentleman or lady, who has not pleasure in a good novel, must be intolerably stupid.”',\n",
       " \"“Imperfection is beauty, madness is genius and it's better to be absolutely ridiculous than absolutely boring.”\",\n",
       " '“Try not to become a man of success. Rather become a man of value.”',\n",
       " '“It is better to be hated for what you are than to be loved for what you are not.”',\n",
       " \"“I have not failed. I've just found 10,000 ways that won't work.”\",\n",
       " \"“A woman is like a tea bag; you never know how strong it is until it's in hot water.”\",\n",
       " '“A day without sunshine is like, you know, night.”']"
      ]
     },
     "execution_count": 88,
     "metadata": {},
     "output_type": "execute_result"
    }
   ],
   "source": [
    "elements = [elements.text for elements in soup.find_all('span', class_='text')]\n",
    "elements"
   ]
  },
  {
   "cell_type": "markdown",
   "metadata": {},
   "source": [
    "#### Construindo uma `list` de citações e autores"
   ]
  },
  {
   "cell_type": "code",
   "execution_count": 89,
   "metadata": {},
   "outputs": [
    {
     "data": {
      "text/plain": [
       "[('Albert Einstein',\n",
       "  '“The world as we have created it is a process of our thinking. It cannot be changed without changing our thinking.”'),\n",
       " ('J.K. Rowling',\n",
       "  '“It is our choices, Harry, that show what we truly are, far more than our abilities.”'),\n",
       " ('Albert Einstein',\n",
       "  '“There are only two ways to live your life. One is as though nothing is a miracle. The other is as though everything is a miracle.”'),\n",
       " ('Jane Austen',\n",
       "  '“The person, be it gentleman or lady, who has not pleasure in a good novel, must be intolerably stupid.”'),\n",
       " ('Marilyn Monroe',\n",
       "  \"“Imperfection is beauty, madness is genius and it's better to be absolutely ridiculous than absolutely boring.”\"),\n",
       " ('Albert Einstein',\n",
       "  '“Try not to become a man of success. Rather become a man of value.”'),\n",
       " ('André Gide',\n",
       "  '“It is better to be hated for what you are than to be loved for what you are not.”'),\n",
       " ('Thomas A. Edison',\n",
       "  \"“I have not failed. I've just found 10,000 ways that won't work.”\"),\n",
       " ('Eleanor Roosevelt',\n",
       "  \"“A woman is like a tea bag; you never know how strong it is until it's in hot water.”\"),\n",
       " ('Steve Martin', '“A day without sunshine is like, you know, night.”')]"
      ]
     },
     "execution_count": 89,
     "metadata": {},
     "output_type": "execute_result"
    }
   ],
   "source": [
    "authors = [author.text for author in soup.find_all('small', class_='author')]\n",
    "quotes = [quote.text for quote in soup.find_all('span', class_='text')]\n",
    "\n",
    "data = list(zip(authors, quotes))\n",
    "data"
   ]
  },
  {
   "cell_type": "markdown",
   "metadata": {},
   "source": [
    "#### Construindo uma função que retorna os registros de citações de uma página (autores, citação etc.)"
   ]
  },
  {
   "cell_type": "code",
   "execution_count": 97,
   "metadata": {},
   "outputs": [
    {
     "data": {
      "text/plain": [
       "[('Albert Einstein',\n",
       "  '“The world as we have created it is a process of our thinking. It cannot be changed without changing our thinking.”'),\n",
       " ('J.K. Rowling',\n",
       "  '“It is our choices, Harry, that show what we truly are, far more than our abilities.”'),\n",
       " ('Albert Einstein',\n",
       "  '“There are only two ways to live your life. One is as though nothing is a miracle. The other is as though everything is a miracle.”'),\n",
       " ('Jane Austen',\n",
       "  '“The person, be it gentleman or lady, who has not pleasure in a good novel, must be intolerably stupid.”'),\n",
       " ('Marilyn Monroe',\n",
       "  \"“Imperfection is beauty, madness is genius and it's better to be absolutely ridiculous than absolutely boring.”\"),\n",
       " ('Albert Einstein',\n",
       "  '“Try not to become a man of success. Rather become a man of value.”'),\n",
       " ('André Gide',\n",
       "  '“It is better to be hated for what you are than to be loved for what you are not.”'),\n",
       " ('Thomas A. Edison',\n",
       "  \"“I have not failed. I've just found 10,000 ways that won't work.”\"),\n",
       " ('Eleanor Roosevelt',\n",
       "  \"“A woman is like a tea bag; you never know how strong it is until it's in hot water.”\"),\n",
       " ('Steve Martin', '“A day without sunshine is like, you know, night.”')]"
      ]
     },
     "execution_count": 97,
     "metadata": {},
     "output_type": "execute_result"
    }
   ],
   "source": [
    "def get_quote_records(soup):\n",
    "    quotes = [quote.text for quote in soup.find_all(\"span\", class_=\"text\")]\n",
    "    authors = [author.text for author in soup.find_all(\"small\", class_=\"author\")]\n",
    "\n",
    "    data = list(zip(authors, quotes))\n",
    "\n",
    "    return data\n",
    "\n",
    "\n",
    "get_quote_records(soup)\n"
   ]
  },
  {
   "cell_type": "code",
   "execution_count": 70,
   "metadata": {},
   "outputs": [
    {
     "name": "stdout",
     "output_type": "stream",
     "text": [
      "[('Albert Einstein', '“The world as we have created it is a process of our thinking. It cannot be changed without changing our thinking.”'), ('J.K. Rowling', '“It is our choices, Harry, that show what we truly are, far more than our abilities.”'), ('Albert Einstein', '“There are only two ways to live your life. One is as though nothing is a miracle. The other is as though everything is a miracle.”'), ('Jane Austen', '“The person, be it gentleman or lady, who has not pleasure in a good novel, must be intolerably stupid.”'), ('Marilyn Monroe', \"“Imperfection is beauty, madness is genius and it's better to be absolutely ridiculous than absolutely boring.”\"), ('Albert Einstein', '“Try not to become a man of success. Rather become a man of value.”'), ('André Gide', '“It is better to be hated for what you are than to be loved for what you are not.”'), ('Thomas A. Edison', \"“I have not failed. I've just found 10,000 ways that won't work.”\"), ('Eleanor Roosevelt', \"“A woman is like a tea bag; you never know how strong it is until it's in hot water.”\"), ('Steve Martin', '“A day without sunshine is like, you know, night.”'), ('Marilyn Monroe', \"“This life is what you make it. No matter what, you're going to mess up sometimes, it's a universal truth. But the good part is you get to decide how you're going to mess it up. Girls will be your friends - they'll act like it anyway. But just remember, some come, some go. The ones that stay with you through everything - they're your true best friends. Don't let go of them. Also remember, sisters make the best friends in the world. As for lovers, well, they'll come and go too. And baby, I hate to say it, most of them - actually pretty much all of them are going to break your heart, but you can't give up because if you give up, you'll never find your soulmate. You'll never find that half who makes you whole and that goes for everything. Just because you fail once, doesn't mean you're gonna fail at everything. Keep trying, hold on, and always, always, always believe in yourself, because if you don't, then who will, sweetie? So keep your head high, keep your chin up, and most importantly, keep smiling, because life's a beautiful thing and there's so much to smile about.”\"), ('J.K. Rowling', '“It takes a great deal of bravery to stand up to our enemies, but just as much to stand up to our friends.”'), ('Albert Einstein', \"“If you can't explain it to a six year old, you don't understand it yourself.”\"), ('Bob Marley', \"“You may not be her first, her last, or her only. She loved before she may love again. But if she loves you now, what else matters? She's not perfect—you aren't either, and the two of you may never be perfect together but if she can make you laugh, cause you to think twice, and admit to being human and making mistakes, hold onto her and give her the most you can. She may not be thinking about you every second of the day, but she will give you a part of her that she knows you can break—her heart. So don't hurt her, don't change her, don't analyze and don't expect more than she can give. Smile when she makes you happy, let her know when she makes you mad, and miss her when she's not there.”\"), ('Dr. Seuss', '“I like nonsense, it wakes up the brain cells. Fantasy is a necessary ingredient in living.”'), ('Douglas Adams', '“I may not have gone where I intended to go, but I think I have ended up where I needed to be.”'), ('Elie Wiesel', \"“The opposite of love is not hate, it's indifference. The opposite of art is not ugliness, it's indifference. The opposite of faith is not heresy, it's indifference. And the opposite of life is not death, it's indifference.”\"), ('Friedrich Nietzsche', '“It is not a lack of love, but a lack of friendship that makes unhappy marriages.”'), ('Mark Twain', '“Good friends, good books, and a sleepy conscience: this is the ideal life.”'), ('Allen Saunders', '“Life is what happens to us while we are making other plans.”'), ('Pablo Neruda', '“I love you without knowing how, or when, or from where. I love you simply, without problems or pride: I love you in this way because I do not know any other way of loving but this, in which there is no I or you, so intimate that your hand upon my chest is my hand, so intimate that when I fall asleep your eyes close.”'), ('Ralph Waldo Emerson', '“For every minute you are angry you lose sixty seconds of happiness.”'), ('Mother Teresa', '“If you judge people, you have no time to love them.”'), ('Garrison Keillor', '“Anyone who thinks sitting in church can make you a Christian must also think that sitting in a garage can make you a car.”'), ('Jim Henson', '“Beauty is in the eye of the beholder and it may be necessary from time to time to give a stupid or misinformed beholder a black eye.”'), ('Dr. Seuss', '“Today you are You, that is truer than true. There is no one alive who is Youer than You.”'), ('Albert Einstein', '“If you want your children to be intelligent, read them fairy tales. If you want them to be more intelligent, read them more fairy tales.”'), ('J.K. Rowling', '“It is impossible to live without failing at something, unless you live so cautiously that you might as well not have lived at all - in which case, you fail by default.”'), ('Albert Einstein', '“Logic will get you from A to Z; imagination will get you everywhere.”'), ('Bob Marley', '“One good thing about music, when it hits you, you feel no pain.”'), ('Dr. Seuss', \"“The more that you read, the more things you will know. The more that you learn, the more places you'll go.”\"), ('J.K. Rowling', '“Of course it is happening inside your head, Harry, but why on earth should that mean that it is not real?”'), ('Bob Marley', '“The truth is, everyone is going to hurt you. You just got to find the ones worth suffering for.”'), ('Mother Teresa', '“Not all of us can do great things. But we can do small things with great love.”'), ('J.K. Rowling', '“To the well-organized mind, death is but the next great adventure.”'), ('Charles M. Schulz', \"“All you need is love. But a little chocolate now and then doesn't hurt.”\"), ('William Nicholson', \"“We read to know we're not alone.”\"), ('Albert Einstein', '“Any fool can know. The point is to understand.”'), ('Jorge Luis Borges', '“I have always imagined that Paradise will be a kind of library.”'), ('George Eliot', '“It is never too late to be what you might have been.”'), ('George R.R. Martin', '“A reader lives a thousand lives before he dies, said Jojen. The man who never reads lives only one.”'), ('C.S. Lewis', '“You can never get a cup of tea large enough or a book long enough to suit me.”'), ('Marilyn Monroe', '“You believe lies so you eventually learn to trust no one but yourself.”'), ('Marilyn Monroe', '“If you can make a woman laugh, you can make her do anything.”'), ('Albert Einstein', '“Life is like riding a bicycle. To keep your balance, you must keep moving.”'), ('Marilyn Monroe', '“The real lover is the man who can thrill you by kissing your forehead or smiling into your eyes or just staring into space.”'), ('Marilyn Monroe', \"“A wise girl kisses but doesn't love, listens but doesn't believe, and leaves before she is left.”\"), ('Martin Luther King Jr.', '“Only in the darkness can you see the stars.”'), ('J.K. Rowling', '“It matters not what someone is born, but what they grow to be.”'), ('James Baldwin', '“Love does not begin and end the way we seem to think it does. Love is a battle, love is a war; love is a growing up.”'), ('Jane Austen', '“There is nothing I would not do for those who are really my friends. I have no notion of loving people by halves, it is not my nature.”'), ('Eleanor Roosevelt', '“Do one thing every day that scares you.”'), ('Marilyn Monroe', '“I am good, but not an angel. I do sin, but I am not the devil. I am just a small girl in a big world trying to find someone to love.”'), ('Albert Einstein', '“If I were not a physicist, I would probably be a musician. I often think in music. I live my daydreams in music. I see my life in terms of music.”'), ('Haruki Murakami', '“If you only read the books that everyone else is reading, you can only think what everyone else is thinking.”'), ('Alexandre Dumas fils', '“The difference between genius and stupidity is: genius has its limits.”'), ('Stephenie Meyer', \"“He's like a drug for you, Bella.”\"), ('Ernest Hemingway', '“There is no friend as loyal as a book.”'), ('Helen Keller', '“When one door of happiness closes, another opens; but often we look so long at the closed door that we do not see the one which has been opened for us.”'), ('George Bernard Shaw', \"“Life isn't about finding yourself. Life is about creating yourself.”\"), ('Charles Bukowski', \"“That's the problem with drinking, I thought, as I poured myself a drink. If something bad happens you drink in an attempt to forget; if something good happens you drink in order to celebrate; and if nothing happens you drink to make something happen.”\"), ('Suzanne Collins', '“You don’t forget the face of the person who was your last hope.”'), ('Suzanne Collins', \"“Remember, we're madly in love, so it's all right to kiss me anytime you feel like it.”\"), ('C.S. Lewis', '“To love at all is to be vulnerable. Love anything and your heart will be wrung and possibly broken. If you want to make sure of keeping it intact you must give it to no one, not even an animal. Wrap it carefully round with hobbies and little luxuries; avoid all entanglements. Lock it up safe in the casket or coffin of your selfishness. But in that casket, safe, dark, motionless, airless, it will change. It will not be broken; it will become unbreakable, impenetrable, irredeemable. To love is to be vulnerable.”'), ('J.R.R. Tolkien', '“Not all those who wander are lost.”'), ('J.K. Rowling', '“Do not pity the dead, Harry. Pity the living, and, above all those who live without love.”'), ('Ernest Hemingway', '“There is nothing to writing. All you do is sit down at a typewriter and bleed.”'), ('Ralph Waldo Emerson', '“Finish each day and be done with it. You have done what you could. Some blunders and absurdities no doubt crept in; forget them as soon as you can. Tomorrow is a new day. You shall begin it serenely and with too high a spirit to be encumbered with your old nonsense.”'), ('Mark Twain', '“I have never let my schooling interfere with my education.”'), ('Dr. Seuss', \"“I have heard there are troubles of more than one kind. Some come from ahead and some come from behind. But I've bought a big bat. I'm all ready you see. Now my troubles are going to have troubles with me!”\"), ('Alfred Tennyson', '“If I had a flower for every time I thought of you...I could walk through my garden forever.”'), ('Charles Bukowski', '“Some people never go crazy. What truly horrible lives they must lead.”'), ('Terry Pratchett', '“The trouble with having an open mind, of course, is that people will insist on coming along and trying to put things in it.”'), ('Dr. Seuss', '“Think left and think right and think low and think high. Oh, the thinks you can think up if only you try!”'), ('J.D. Salinger', \"“What really knocks me out is a book that, when you're all done reading it, you wish the author that wrote it was a terrific friend of yours and you could call him up on the phone whenever you felt like it. That doesn't happen much, though.”\"), ('George Carlin', '“The reason I talk to myself is because I’m the only one whose answers I accept.”'), ('John Lennon', \"“You may say I'm a dreamer, but I'm not the only one. I hope someday you'll join us. And the world will live as one.”\"), ('W.C. Fields', '“I am free of all prejudice. I hate everyone equally. ”'), ('Ayn Rand', \"“The question isn't who is going to let me; it's who is going to stop me.”\"), ('Mark Twain', \"“′Classic′ - a book which people praise and don't read.”\"), ('Albert Einstein', '“Anyone who has never made a mistake has never tried anything new.”'), ('Jane Austen', \"“A lady's imagination is very rapid; it jumps from admiration to love, from love to matrimony in a moment.”\"), ('J.K. Rowling', '“Remember, if the time should come when you have to make a choice between what is right and what is easy, remember what happened to a boy who was good, and kind, and brave, because he strayed across the path of Lord Voldemort. Remember Cedric Diggory.”'), ('Jane Austen', '“I declare after all there is no enjoyment like reading! How much sooner one tires of any thing than of a book! -- When I have a house of my own, I shall be miserable if I have not an excellent library.”'), ('Jane Austen', '“There are few people whom I really love, and still fewer of whom I think well. The more I see of the world, the more am I dissatisfied with it; and every day confirms my belief of the inconsistency of all human characters, and of the little dependence that can be placed on the appearance of merit or sense.”'), ('C.S. Lewis', '“Some day you will be old enough to start reading fairy tales again.”'), ('C.S. Lewis', '“We are not necessarily doubting that God will do the best for us; we are wondering how painful the best will turn out to be.”'), ('Mark Twain', '“The fear of death follows from the fear of life. A man who lives fully is prepared to die at any time.”'), ('Mark Twain', '“A lie can travel half way around the world while the truth is putting on its shoes.”'), ('C.S. Lewis', '“I believe in Christianity as I believe that the sun has risen: not only because I see it, but because by it I see everything else.”'), ('J.K. Rowling', '“The truth.\" Dumbledore sighed. \"It is a beautiful and terrible thing, and should therefore be treated with great caution.”'), ('Jimi Hendrix', \"“I'm the one that's got to die when it's time for me to die, so let me live my life the way I want to.”\"), ('J.M. Barrie', '“To die will be an awfully big adventure.”'), ('E.E. Cummings', '“It takes courage to grow up and become who you really are.”'), ('Khaled Hosseini', '“But better to get hurt by the truth than comforted with a lie.”'), ('Harper Lee', '“You never really understand a person until you consider things from his point of view... Until you climb inside of his skin and walk around in it.”'), (\"Madeleine L'Engle\", '“You have to write the book that wants to be written. And if the book will be too difficult for grown-ups, then you write it for children.”'), ('Mark Twain', '“Never tell the truth to people who are not worthy of it.”'), ('Dr. Seuss', \"“A person's a person, no matter how small.”\"), ('George R.R. Martin', '“... a mind needs books as a sword needs a whetstone, if it is to keep its edge.”')]\n"
     ]
    }
   ],
   "source": [
    "count = 1\n",
    "all_data = []\n",
    "\n",
    "while True:\n",
    "    # constrói o objeto `soup`\n",
    "    r = requests.get(f\"https://quotes.toscrape.com/page/{count}\")\n",
    "    soup = BeautifulSoup(r.content, \"html.parser\")\n",
    "\n",
    "    # anexa os dados à list `data`\n",
    "    page_data = get_quote_records(soup)\n",
    "    all_data += page_data\n",
    "\n",
    "    # incrementa o contador\n",
    "    count += 1\n",
    "\n",
    "    # condição de parada: quando não há mais dados\n",
    "    if page_data == []:\n",
    "        break\n",
    "\n",
    "# mostra os dados\n",
    "print(all_data)\n"
   ]
  },
  {
   "cell_type": "markdown",
   "metadata": {},
   "source": [
    "#### Adicionando os dados de `tags`"
   ]
  },
  {
   "cell_type": "code",
   "execution_count": 99,
   "metadata": {},
   "outputs": [
    {
     "data": {
      "text/plain": [
       "[['change', 'deep-thoughts', 'thinking', 'world'],\n",
       " ['abilities', 'choices'],\n",
       " ['inspirational', 'life', 'live', 'miracle', 'miracles'],\n",
       " ['aliteracy', 'books', 'classic', 'humor'],\n",
       " ['be-yourself', 'inspirational'],\n",
       " ['adulthood', 'success', 'value'],\n",
       " ['life', 'love'],\n",
       " ['edison', 'failure', 'inspirational', 'paraphrased'],\n",
       " ['misattributed-eleanor-roosevelt'],\n",
       " ['humor', 'obvious', 'simile']]"
      ]
     },
     "execution_count": 99,
     "metadata": {},
     "output_type": "execute_result"
    }
   ],
   "source": [
    "tag_divs = soup.find_all(\"div\", class_=\"tags\")\n",
    "\n",
    "all_tags = []\n",
    "for tag_div in tag_divs:\n",
    "    tags = tag_div.find_all(\"a\")\n",
    "    tags = [tag.text for tag in tags]\n",
    "    all_tags.append(tags)\n",
    "\n",
    "all_tags"
   ]
  },
  {
   "cell_type": "markdown",
   "metadata": {},
   "source": [
    "#### Encapsulando tudo em fuções"
   ]
  },
  {
   "cell_type": "code",
   "execution_count": 101,
   "metadata": {},
   "outputs": [
    {
     "data": {
      "text/plain": [
       "[('Albert Einstein',\n",
       "  '“The world as we have created it is a process of our thinking. It cannot be changed without changing our thinking.”',\n",
       "  ['change', 'deep-thoughts', 'thinking', 'world']),\n",
       " ('J.K. Rowling',\n",
       "  '“It is our choices, Harry, that show what we truly are, far more than our abilities.”',\n",
       "  ['abilities', 'choices']),\n",
       " ('Albert Einstein',\n",
       "  '“There are only two ways to live your life. One is as though nothing is a miracle. The other is as though everything is a miracle.”',\n",
       "  ['inspirational', 'life', 'live', 'miracle', 'miracles']),\n",
       " ('Jane Austen',\n",
       "  '“The person, be it gentleman or lady, who has not pleasure in a good novel, must be intolerably stupid.”',\n",
       "  ['aliteracy', 'books', 'classic', 'humor']),\n",
       " ('Marilyn Monroe',\n",
       "  \"“Imperfection is beauty, madness is genius and it's better to be absolutely ridiculous than absolutely boring.”\",\n",
       "  ['be-yourself', 'inspirational']),\n",
       " ('Albert Einstein',\n",
       "  '“Try not to become a man of success. Rather become a man of value.”',\n",
       "  ['adulthood', 'success', 'value']),\n",
       " ('André Gide',\n",
       "  '“It is better to be hated for what you are than to be loved for what you are not.”',\n",
       "  ['life', 'love']),\n",
       " ('Thomas A. Edison',\n",
       "  \"“I have not failed. I've just found 10,000 ways that won't work.”\",\n",
       "  ['edison', 'failure', 'inspirational', 'paraphrased']),\n",
       " ('Eleanor Roosevelt',\n",
       "  \"“A woman is like a tea bag; you never know how strong it is until it's in hot water.”\",\n",
       "  ['misattributed-eleanor-roosevelt']),\n",
       " ('Steve Martin',\n",
       "  '“A day without sunshine is like, you know, night.”',\n",
       "  ['humor', 'obvious', 'simile'])]"
      ]
     },
     "execution_count": 101,
     "metadata": {},
     "output_type": "execute_result"
    }
   ],
   "source": [
    "def get_tags(soup):\n",
    "    tag_divs = soup.find_all(\"div\", class_=\"tags\")\n",
    "\n",
    "    all_tags = []\n",
    "    for tag_div in tag_divs:\n",
    "        tags = tag_div.find_all(\"a\")\n",
    "        tags = [tag.text for tag in tags]\n",
    "        all_tags.append(tags)\n",
    "\n",
    "    return all_tags\n",
    "\n",
    "\n",
    "def get_quote_records(soup):\n",
    "    quotes = [quote.text for quote in soup.find_all(\"span\", class_=\"text\")]\n",
    "    authors = [author.text for author in soup.find_all(\"small\", class_=\"author\")]\n",
    "    tags = get_tags(soup)\n",
    "\n",
    "    data = list(zip(authors, quotes, tags))\n",
    "\n",
    "    return data\n",
    "\n",
    "\n",
    "get_quote_records(soup)\n"
   ]
  },
  {
   "cell_type": "code",
   "execution_count": 103,
   "metadata": {},
   "outputs": [
    {
     "data": {
      "text/plain": [
       "[('Albert Einstein',\n",
       "  '“The world as we have created it is a process of our thinking. It cannot be changed without changing our thinking.”',\n",
       "  ['change', 'deep-thoughts', 'thinking', 'world']),\n",
       " ('J.K. Rowling',\n",
       "  '“It is our choices, Harry, that show what we truly are, far more than our abilities.”',\n",
       "  ['abilities', 'choices']),\n",
       " ('Albert Einstein',\n",
       "  '“There are only two ways to live your life. One is as though nothing is a miracle. The other is as though everything is a miracle.”',\n",
       "  ['inspirational', 'life', 'live', 'miracle', 'miracles']),\n",
       " ('Jane Austen',\n",
       "  '“The person, be it gentleman or lady, who has not pleasure in a good novel, must be intolerably stupid.”',\n",
       "  ['aliteracy', 'books', 'classic', 'humor']),\n",
       " ('Marilyn Monroe',\n",
       "  \"“Imperfection is beauty, madness is genius and it's better to be absolutely ridiculous than absolutely boring.”\",\n",
       "  ['be-yourself', 'inspirational']),\n",
       " ('Albert Einstein',\n",
       "  '“Try not to become a man of success. Rather become a man of value.”',\n",
       "  ['adulthood', 'success', 'value']),\n",
       " ('André Gide',\n",
       "  '“It is better to be hated for what you are than to be loved for what you are not.”',\n",
       "  ['life', 'love']),\n",
       " ('Thomas A. Edison',\n",
       "  \"“I have not failed. I've just found 10,000 ways that won't work.”\",\n",
       "  ['edison', 'failure', 'inspirational', 'paraphrased']),\n",
       " ('Eleanor Roosevelt',\n",
       "  \"“A woman is like a tea bag; you never know how strong it is until it's in hot water.”\",\n",
       "  ['misattributed-eleanor-roosevelt']),\n",
       " ('Steve Martin',\n",
       "  '“A day without sunshine is like, you know, night.”',\n",
       "  ['humor', 'obvious', 'simile']),\n",
       " ('Marilyn Monroe',\n",
       "  \"“This life is what you make it. No matter what, you're going to mess up sometimes, it's a universal truth. But the good part is you get to decide how you're going to mess it up. Girls will be your friends - they'll act like it anyway. But just remember, some come, some go. The ones that stay with you through everything - they're your true best friends. Don't let go of them. Also remember, sisters make the best friends in the world. As for lovers, well, they'll come and go too. And baby, I hate to say it, most of them - actually pretty much all of them are going to break your heart, but you can't give up because if you give up, you'll never find your soulmate. You'll never find that half who makes you whole and that goes for everything. Just because you fail once, doesn't mean you're gonna fail at everything. Keep trying, hold on, and always, always, always believe in yourself, because if you don't, then who will, sweetie? So keep your head high, keep your chin up, and most importantly, keep smiling, because life's a beautiful thing and there's so much to smile about.”\",\n",
       "  ['friends', 'heartbreak', 'inspirational', 'life', 'love', 'sisters']),\n",
       " ('J.K. Rowling',\n",
       "  '“It takes a great deal of bravery to stand up to our enemies, but just as much to stand up to our friends.”',\n",
       "  ['courage', 'friends']),\n",
       " ('Albert Einstein',\n",
       "  \"“If you can't explain it to a six year old, you don't understand it yourself.”\",\n",
       "  ['simplicity', 'understand']),\n",
       " ('Bob Marley',\n",
       "  \"“You may not be her first, her last, or her only. She loved before she may love again. But if she loves you now, what else matters? She's not perfect—you aren't either, and the two of you may never be perfect together but if she can make you laugh, cause you to think twice, and admit to being human and making mistakes, hold onto her and give her the most you can. She may not be thinking about you every second of the day, but she will give you a part of her that she knows you can break—her heart. So don't hurt her, don't change her, don't analyze and don't expect more than she can give. Smile when she makes you happy, let her know when she makes you mad, and miss her when she's not there.”\",\n",
       "  ['love']),\n",
       " ('Dr. Seuss',\n",
       "  '“I like nonsense, it wakes up the brain cells. Fantasy is a necessary ingredient in living.”',\n",
       "  ['fantasy']),\n",
       " ('Douglas Adams',\n",
       "  '“I may not have gone where I intended to go, but I think I have ended up where I needed to be.”',\n",
       "  ['life', 'navigation']),\n",
       " ('Elie Wiesel',\n",
       "  \"“The opposite of love is not hate, it's indifference. The opposite of art is not ugliness, it's indifference. The opposite of faith is not heresy, it's indifference. And the opposite of life is not death, it's indifference.”\",\n",
       "  ['activism',\n",
       "   'apathy',\n",
       "   'hate',\n",
       "   'indifference',\n",
       "   'inspirational',\n",
       "   'love',\n",
       "   'opposite',\n",
       "   'philosophy']),\n",
       " ('Friedrich Nietzsche',\n",
       "  '“It is not a lack of love, but a lack of friendship that makes unhappy marriages.”',\n",
       "  ['friendship',\n",
       "   'lack-of-friendship',\n",
       "   'lack-of-love',\n",
       "   'love',\n",
       "   'marriage',\n",
       "   'unhappy-marriage']),\n",
       " ('Mark Twain',\n",
       "  '“Good friends, good books, and a sleepy conscience: this is the ideal life.”',\n",
       "  ['books', 'contentment', 'friends', 'friendship', 'life']),\n",
       " ('Allen Saunders',\n",
       "  '“Life is what happens to us while we are making other plans.”',\n",
       "  ['fate', 'life', 'misattributed-john-lennon', 'planning', 'plans']),\n",
       " ('Pablo Neruda',\n",
       "  '“I love you without knowing how, or when, or from where. I love you simply, without problems or pride: I love you in this way because I do not know any other way of loving but this, in which there is no I or you, so intimate that your hand upon my chest is my hand, so intimate that when I fall asleep your eyes close.”',\n",
       "  ['love', 'poetry']),\n",
       " ('Ralph Waldo Emerson',\n",
       "  '“For every minute you are angry you lose sixty seconds of happiness.”',\n",
       "  ['happiness']),\n",
       " ('Mother Teresa',\n",
       "  '“If you judge people, you have no time to love them.”',\n",
       "  ['attributed-no-source']),\n",
       " ('Garrison Keillor',\n",
       "  '“Anyone who thinks sitting in church can make you a Christian must also think that sitting in a garage can make you a car.”',\n",
       "  ['humor', 'religion']),\n",
       " ('Jim Henson',\n",
       "  '“Beauty is in the eye of the beholder and it may be necessary from time to time to give a stupid or misinformed beholder a black eye.”',\n",
       "  ['humor']),\n",
       " ('Dr. Seuss',\n",
       "  '“Today you are You, that is truer than true. There is no one alive who is Youer than You.”',\n",
       "  ['comedy', 'life', 'yourself']),\n",
       " ('Albert Einstein',\n",
       "  '“If you want your children to be intelligent, read them fairy tales. If you want them to be more intelligent, read them more fairy tales.”',\n",
       "  ['children', 'fairy-tales']),\n",
       " ('J.K. Rowling',\n",
       "  '“It is impossible to live without failing at something, unless you live so cautiously that you might as well not have lived at all - in which case, you fail by default.”',\n",
       "  []),\n",
       " ('Albert Einstein',\n",
       "  '“Logic will get you from A to Z; imagination will get you everywhere.”',\n",
       "  ['imagination']),\n",
       " ('Bob Marley',\n",
       "  '“One good thing about music, when it hits you, you feel no pain.”',\n",
       "  ['music']),\n",
       " ('Dr. Seuss',\n",
       "  \"“The more that you read, the more things you will know. The more that you learn, the more places you'll go.”\",\n",
       "  ['learning', 'reading', 'seuss']),\n",
       " ('J.K. Rowling',\n",
       "  '“Of course it is happening inside your head, Harry, but why on earth should that mean that it is not real?”',\n",
       "  ['dumbledore']),\n",
       " ('Bob Marley',\n",
       "  '“The truth is, everyone is going to hurt you. You just got to find the ones worth suffering for.”',\n",
       "  ['friendship']),\n",
       " ('Mother Teresa',\n",
       "  '“Not all of us can do great things. But we can do small things with great love.”',\n",
       "  ['misattributed-to-mother-teresa', 'paraphrased']),\n",
       " ('J.K. Rowling',\n",
       "  '“To the well-organized mind, death is but the next great adventure.”',\n",
       "  ['death', 'inspirational']),\n",
       " ('Charles M. Schulz',\n",
       "  \"“All you need is love. But a little chocolate now and then doesn't hurt.”\",\n",
       "  ['chocolate', 'food', 'humor']),\n",
       " ('William Nicholson',\n",
       "  \"“We read to know we're not alone.”\",\n",
       "  ['misattributed-to-c-s-lewis', 'reading']),\n",
       " ('Albert Einstein',\n",
       "  '“Any fool can know. The point is to understand.”',\n",
       "  ['knowledge', 'learning', 'understanding', 'wisdom']),\n",
       " ('Jorge Luis Borges',\n",
       "  '“I have always imagined that Paradise will be a kind of library.”',\n",
       "  ['books', 'library']),\n",
       " ('George Eliot',\n",
       "  '“It is never too late to be what you might have been.”',\n",
       "  ['inspirational']),\n",
       " ('George R.R. Martin',\n",
       "  '“A reader lives a thousand lives before he dies, said Jojen. The man who never reads lives only one.”',\n",
       "  ['read', 'readers', 'reading', 'reading-books']),\n",
       " ('C.S. Lewis',\n",
       "  '“You can never get a cup of tea large enough or a book long enough to suit me.”',\n",
       "  ['books', 'inspirational', 'reading', 'tea']),\n",
       " ('Marilyn Monroe',\n",
       "  '“You believe lies so you eventually learn to trust no one but yourself.”',\n",
       "  []),\n",
       " ('Marilyn Monroe',\n",
       "  '“If you can make a woman laugh, you can make her do anything.”',\n",
       "  ['girls', 'love']),\n",
       " ('Albert Einstein',\n",
       "  '“Life is like riding a bicycle. To keep your balance, you must keep moving.”',\n",
       "  ['life', 'simile']),\n",
       " ('Marilyn Monroe',\n",
       "  '“The real lover is the man who can thrill you by kissing your forehead or smiling into your eyes or just staring into space.”',\n",
       "  ['love']),\n",
       " ('Marilyn Monroe',\n",
       "  \"“A wise girl kisses but doesn't love, listens but doesn't believe, and leaves before she is left.”\",\n",
       "  ['attributed-no-source']),\n",
       " ('Martin Luther King Jr.',\n",
       "  '“Only in the darkness can you see the stars.”',\n",
       "  ['hope', 'inspirational']),\n",
       " ('J.K. Rowling',\n",
       "  '“It matters not what someone is born, but what they grow to be.”',\n",
       "  ['dumbledore']),\n",
       " ('James Baldwin',\n",
       "  '“Love does not begin and end the way we seem to think it does. Love is a battle, love is a war; love is a growing up.”',\n",
       "  ['love']),\n",
       " ('Jane Austen',\n",
       "  '“There is nothing I would not do for those who are really my friends. I have no notion of loving people by halves, it is not my nature.”',\n",
       "  ['friendship', 'love']),\n",
       " ('Eleanor Roosevelt',\n",
       "  '“Do one thing every day that scares you.”',\n",
       "  ['attributed', 'fear', 'inspiration']),\n",
       " ('Marilyn Monroe',\n",
       "  '“I am good, but not an angel. I do sin, but I am not the devil. I am just a small girl in a big world trying to find someone to love.”',\n",
       "  ['attributed-no-source']),\n",
       " ('Albert Einstein',\n",
       "  '“If I were not a physicist, I would probably be a musician. I often think in music. I live my daydreams in music. I see my life in terms of music.”',\n",
       "  ['music']),\n",
       " ('Haruki Murakami',\n",
       "  '“If you only read the books that everyone else is reading, you can only think what everyone else is thinking.”',\n",
       "  ['books', 'thought']),\n",
       " ('Alexandre Dumas fils',\n",
       "  '“The difference between genius and stupidity is: genius has its limits.”',\n",
       "  ['misattributed-to-einstein']),\n",
       " ('Stephenie Meyer',\n",
       "  \"“He's like a drug for you, Bella.”\",\n",
       "  ['drug', 'romance', 'simile']),\n",
       " ('Ernest Hemingway',\n",
       "  '“There is no friend as loyal as a book.”',\n",
       "  ['books', 'friends', 'novelist-quotes']),\n",
       " ('Helen Keller',\n",
       "  '“When one door of happiness closes, another opens; but often we look so long at the closed door that we do not see the one which has been opened for us.”',\n",
       "  ['inspirational']),\n",
       " ('George Bernard Shaw',\n",
       "  \"“Life isn't about finding yourself. Life is about creating yourself.”\",\n",
       "  ['inspirational', 'life', 'yourself']),\n",
       " ('Charles Bukowski',\n",
       "  \"“That's the problem with drinking, I thought, as I poured myself a drink. If something bad happens you drink in an attempt to forget; if something good happens you drink in order to celebrate; and if nothing happens you drink to make something happen.”\",\n",
       "  ['alcohol']),\n",
       " ('Suzanne Collins',\n",
       "  '“You don’t forget the face of the person who was your last hope.”',\n",
       "  ['the-hunger-games']),\n",
       " ('Suzanne Collins',\n",
       "  \"“Remember, we're madly in love, so it's all right to kiss me anytime you feel like it.”\",\n",
       "  ['humor']),\n",
       " ('C.S. Lewis',\n",
       "  '“To love at all is to be vulnerable. Love anything and your heart will be wrung and possibly broken. If you want to make sure of keeping it intact you must give it to no one, not even an animal. Wrap it carefully round with hobbies and little luxuries; avoid all entanglements. Lock it up safe in the casket or coffin of your selfishness. But in that casket, safe, dark, motionless, airless, it will change. It will not be broken; it will become unbreakable, impenetrable, irredeemable. To love is to be vulnerable.”',\n",
       "  ['love']),\n",
       " ('J.R.R. Tolkien',\n",
       "  '“Not all those who wander are lost.”',\n",
       "  ['bilbo', 'journey', 'lost', 'quest', 'travel', 'wander']),\n",
       " ('J.K. Rowling',\n",
       "  '“Do not pity the dead, Harry. Pity the living, and, above all those who live without love.”',\n",
       "  ['live-death-love']),\n",
       " ('Ernest Hemingway',\n",
       "  '“There is nothing to writing. All you do is sit down at a typewriter and bleed.”',\n",
       "  ['good', 'writing']),\n",
       " ('Ralph Waldo Emerson',\n",
       "  '“Finish each day and be done with it. You have done what you could. Some blunders and absurdities no doubt crept in; forget them as soon as you can. Tomorrow is a new day. You shall begin it serenely and with too high a spirit to be encumbered with your old nonsense.”',\n",
       "  ['life', 'regrets']),\n",
       " ('Mark Twain',\n",
       "  '“I have never let my schooling interfere with my education.”',\n",
       "  ['education']),\n",
       " ('Dr. Seuss',\n",
       "  \"“I have heard there are troubles of more than one kind. Some come from ahead and some come from behind. But I've bought a big bat. I'm all ready you see. Now my troubles are going to have troubles with me!”\",\n",
       "  ['troubles']),\n",
       " ('Alfred Tennyson',\n",
       "  '“If I had a flower for every time I thought of you...I could walk through my garden forever.”',\n",
       "  ['friendship', 'love']),\n",
       " ('Charles Bukowski',\n",
       "  '“Some people never go crazy. What truly horrible lives they must lead.”',\n",
       "  ['humor']),\n",
       " ('Terry Pratchett',\n",
       "  '“The trouble with having an open mind, of course, is that people will insist on coming along and trying to put things in it.”',\n",
       "  ['humor', 'open-mind', 'thinking']),\n",
       " ('Dr. Seuss',\n",
       "  '“Think left and think right and think low and think high. Oh, the thinks you can think up if only you try!”',\n",
       "  ['humor', 'philosophy']),\n",
       " ('J.D. Salinger',\n",
       "  \"“What really knocks me out is a book that, when you're all done reading it, you wish the author that wrote it was a terrific friend of yours and you could call him up on the phone whenever you felt like it. That doesn't happen much, though.”\",\n",
       "  ['authors', 'books', 'literature', 'reading', 'writing']),\n",
       " ('George Carlin',\n",
       "  '“The reason I talk to myself is because I’m the only one whose answers I accept.”',\n",
       "  ['humor', 'insanity', 'lies', 'lying', 'self-indulgence', 'truth']),\n",
       " ('John Lennon',\n",
       "  \"“You may say I'm a dreamer, but I'm not the only one. I hope someday you'll join us. And the world will live as one.”\",\n",
       "  ['beatles',\n",
       "   'connection',\n",
       "   'dreamers',\n",
       "   'dreaming',\n",
       "   'dreams',\n",
       "   'hope',\n",
       "   'inspirational',\n",
       "   'peace']),\n",
       " ('W.C. Fields',\n",
       "  '“I am free of all prejudice. I hate everyone equally. ”',\n",
       "  ['humor', 'sinister']),\n",
       " ('Ayn Rand',\n",
       "  \"“The question isn't who is going to let me; it's who is going to stop me.”\",\n",
       "  []),\n",
       " ('Mark Twain',\n",
       "  \"“′Classic′ - a book which people praise and don't read.”\",\n",
       "  ['books', 'classic', 'reading']),\n",
       " ('Albert Einstein',\n",
       "  '“Anyone who has never made a mistake has never tried anything new.”',\n",
       "  ['mistakes']),\n",
       " ('Jane Austen',\n",
       "  \"“A lady's imagination is very rapid; it jumps from admiration to love, from love to matrimony in a moment.”\",\n",
       "  ['humor', 'love', 'romantic', 'women']),\n",
       " ('J.K. Rowling',\n",
       "  '“Remember, if the time should come when you have to make a choice between what is right and what is easy, remember what happened to a boy who was good, and kind, and brave, because he strayed across the path of Lord Voldemort. Remember Cedric Diggory.”',\n",
       "  ['integrity']),\n",
       " ('Jane Austen',\n",
       "  '“I declare after all there is no enjoyment like reading! How much sooner one tires of any thing than of a book! -- When I have a house of my own, I shall be miserable if I have not an excellent library.”',\n",
       "  ['books', 'library', 'reading']),\n",
       " ('Jane Austen',\n",
       "  '“There are few people whom I really love, and still fewer of whom I think well. The more I see of the world, the more am I dissatisfied with it; and every day confirms my belief of the inconsistency of all human characters, and of the little dependence that can be placed on the appearance of merit or sense.”',\n",
       "  ['elizabeth-bennet', 'jane-austen']),\n",
       " ('C.S. Lewis',\n",
       "  '“Some day you will be old enough to start reading fairy tales again.”',\n",
       "  ['age', 'fairytales', 'growing-up']),\n",
       " ('C.S. Lewis',\n",
       "  '“We are not necessarily doubting that God will do the best for us; we are wondering how painful the best will turn out to be.”',\n",
       "  ['god']),\n",
       " ('Mark Twain',\n",
       "  '“The fear of death follows from the fear of life. A man who lives fully is prepared to die at any time.”',\n",
       "  ['death', 'life']),\n",
       " ('Mark Twain',\n",
       "  '“A lie can travel half way around the world while the truth is putting on its shoes.”',\n",
       "  ['misattributed-mark-twain', 'truth']),\n",
       " ('C.S. Lewis',\n",
       "  '“I believe in Christianity as I believe that the sun has risen: not only because I see it, but because by it I see everything else.”',\n",
       "  ['christianity', 'faith', 'religion', 'sun']),\n",
       " ('J.K. Rowling',\n",
       "  '“The truth.\" Dumbledore sighed. \"It is a beautiful and terrible thing, and should therefore be treated with great caution.”',\n",
       "  ['truth']),\n",
       " ('Jimi Hendrix',\n",
       "  \"“I'm the one that's got to die when it's time for me to die, so let me live my life the way I want to.”\",\n",
       "  ['death', 'life']),\n",
       " ('J.M. Barrie',\n",
       "  '“To die will be an awfully big adventure.”',\n",
       "  ['adventure', 'love']),\n",
       " ('E.E. Cummings',\n",
       "  '“It takes courage to grow up and become who you really are.”',\n",
       "  ['courage']),\n",
       " ('Khaled Hosseini',\n",
       "  '“But better to get hurt by the truth than comforted with a lie.”',\n",
       "  ['life']),\n",
       " ('Harper Lee',\n",
       "  '“You never really understand a person until you consider things from his point of view... Until you climb inside of his skin and walk around in it.”',\n",
       "  ['better-life-empathy']),\n",
       " (\"Madeleine L'Engle\",\n",
       "  '“You have to write the book that wants to be written. And if the book will be too difficult for grown-ups, then you write it for children.”',\n",
       "  ['books',\n",
       "   'children',\n",
       "   'difficult',\n",
       "   'grown-ups',\n",
       "   'write',\n",
       "   'writers',\n",
       "   'writing']),\n",
       " ('Mark Twain',\n",
       "  '“Never tell the truth to people who are not worthy of it.”',\n",
       "  ['truth']),\n",
       " ('Dr. Seuss',\n",
       "  \"“A person's a person, no matter how small.”\",\n",
       "  ['inspirational']),\n",
       " ('George R.R. Martin',\n",
       "  '“... a mind needs books as a sword needs a whetstone, if it is to keep its edge.”',\n",
       "  ['books', 'mind'])]"
      ]
     },
     "execution_count": 103,
     "metadata": {},
     "output_type": "execute_result"
    }
   ],
   "source": [
    "def get_all_quotes(soup):\n",
    "    count = 1\n",
    "    all_data = []\n",
    "\n",
    "    while True:\n",
    "        # constrói o objeto `soup`\n",
    "        r = requests.get(f\"https://quotes.toscrape.com/page/{count}\")\n",
    "        soup = BeautifulSoup(r.content, \"html.parser\")\n",
    "\n",
    "        # anexa os dados à list `data`\n",
    "        page_data = get_quote_records(soup)\n",
    "        all_data += page_data\n",
    "\n",
    "        # incrementa o contador\n",
    "        count += 1\n",
    "\n",
    "        # condição de parada do loop: quando não há mais dados\n",
    "        if page_data == []:\n",
    "            break\n",
    "\n",
    "    return all_data\n",
    "\n",
    "\n",
    "get_all_quotes(soup)\n"
   ]
  },
  {
   "cell_type": "markdown",
   "metadata": {},
   "source": [
    "## Raspando páginas que demandam interação com o browser\n",
    "\n",
    "Nessa seção utilizaremos a biblioteca `helium`, que nos permite interagir com as páginas da web diretamente do Python. Com ele é possível clicar em botões, escrever dados em formulários e muito mais de uma forma muito mais simples que o mais conhecido `selenium`."
   ]
  },
  {
   "cell_type": "markdown",
   "metadata": {},
   "source": [
    "#### Fazendo login na página com `helium`"
   ]
  },
  {
   "cell_type": "code",
   "execution_count": 105,
   "metadata": {},
   "outputs": [
    {
     "name": "stdout",
     "output_type": "stream",
     "text": [
      "Collecting helium\n",
      "  Downloading helium-3.0.8.tar.gz (26.1 MB)\n",
      "\u001b[K     |████████████████████████████████| 26.1 MB 5.5 MB/s \n",
      "\u001b[?25hCollecting selenium==3.141.0\n",
      "  Downloading selenium-3.141.0-py2.py3-none-any.whl (904 kB)\n",
      "\u001b[K     |████████████████████████████████| 904 kB 17.5 MB/s \n",
      "\u001b[?25hRequirement already satisfied: urllib3 in ./.venv/lib/python3.8/site-packages (from selenium==3.141.0->helium) (1.26.7)\n",
      "Using legacy 'setup.py install' for helium, since package 'wheel' is not installed.\n",
      "Installing collected packages: selenium, helium\n",
      "    Running setup.py install for helium ... \u001b[?25ldone\n",
      "\u001b[?25hSuccessfully installed helium-3.0.8 selenium-3.141.0\n",
      "\u001b[33mWARNING: You are using pip version 21.1.1; however, version 21.3.1 is available.\n",
      "You should consider upgrading via the '/home/vmussa/dev/alexandria/notebooks/.venv/bin/python -m pip install --upgrade pip' command.\u001b[0m\n"
     ]
    }
   ],
   "source": [
    "!pip install helium"
   ]
  },
  {
   "cell_type": "code",
   "execution_count": 130,
   "metadata": {},
   "outputs": [],
   "source": [
    "from helium import (\n",
    "    start_chrome,\n",
    "    write,\n",
    "    click,\n",
    "    press,\n",
    "    TAB,\n",
    "    ENTER,\n",
    "    kill_browser,\n",
    ")\n",
    "\n",
    "driver = start_chrome(\"https://quotes.toscrape.com/\")\n",
    "click(\"Login\")\n",
    "write(\"a\", into=\"Username\")\n",
    "press(TAB)\n",
    "write(\"b\", into=\"Password\")\n",
    "press(ENTER)\n"
   ]
  },
  {
   "cell_type": "code",
   "execution_count": 132,
   "metadata": {},
   "outputs": [
    {
     "data": {
      "text/plain": [
       "<title>Quotes to Scrape</title>"
      ]
     },
     "execution_count": 132,
     "metadata": {},
     "output_type": "execute_result"
    }
   ],
   "source": [
    "soup = BeautifulSoup(driver.page_source, 'html.parser')\n",
    "\n",
    "soup.title"
   ]
  },
  {
   "cell_type": "code",
   "execution_count": 133,
   "metadata": {},
   "outputs": [
    {
     "data": {
      "text/plain": [
       "{'authors': '“The world as we have created it is a process of our thinking. It cannot be changed without changing our thinking.”',\n",
       " 'quotes': '“It is our choices, Harry, that show what we truly are, far more than our abilities.”',\n",
       " 'tags': '“There are only two ways to live your life. One is as though nothing is a miracle. The other is as though everything is a miracle.”'}"
      ]
     },
     "execution_count": 133,
     "metadata": {},
     "output_type": "execute_result"
    }
   ],
   "source": [
    "quotes_data = get_all_quotes(soup)\n",
    "quotes_data\n"
   ]
  },
  {
   "cell_type": "markdown",
   "metadata": {},
   "source": [
    "## Exportando tudo para uma tabela em CSV com `pandas`"
   ]
  },
  {
   "cell_type": "code",
   "execution_count": 135,
   "metadata": {},
   "outputs": [
    {
     "data": {
      "text/plain": [
       "{'authors': ('Albert Einstein',\n",
       "  'J.K. Rowling',\n",
       "  'Albert Einstein',\n",
       "  'Jane Austen',\n",
       "  'Marilyn Monroe',\n",
       "  'Albert Einstein',\n",
       "  'André Gide',\n",
       "  'Thomas A. Edison',\n",
       "  'Eleanor Roosevelt',\n",
       "  'Steve Martin',\n",
       "  'Marilyn Monroe',\n",
       "  'J.K. Rowling',\n",
       "  'Albert Einstein',\n",
       "  'Bob Marley',\n",
       "  'Dr. Seuss',\n",
       "  'Douglas Adams',\n",
       "  'Elie Wiesel',\n",
       "  'Friedrich Nietzsche',\n",
       "  'Mark Twain',\n",
       "  'Allen Saunders',\n",
       "  'Pablo Neruda',\n",
       "  'Ralph Waldo Emerson',\n",
       "  'Mother Teresa',\n",
       "  'Garrison Keillor',\n",
       "  'Jim Henson',\n",
       "  'Dr. Seuss',\n",
       "  'Albert Einstein',\n",
       "  'J.K. Rowling',\n",
       "  'Albert Einstein',\n",
       "  'Bob Marley',\n",
       "  'Dr. Seuss',\n",
       "  'J.K. Rowling',\n",
       "  'Bob Marley',\n",
       "  'Mother Teresa',\n",
       "  'J.K. Rowling',\n",
       "  'Charles M. Schulz',\n",
       "  'William Nicholson',\n",
       "  'Albert Einstein',\n",
       "  'Jorge Luis Borges',\n",
       "  'George Eliot',\n",
       "  'George R.R. Martin',\n",
       "  'C.S. Lewis',\n",
       "  'Marilyn Monroe',\n",
       "  'Marilyn Monroe',\n",
       "  'Albert Einstein',\n",
       "  'Marilyn Monroe',\n",
       "  'Marilyn Monroe',\n",
       "  'Martin Luther King Jr.',\n",
       "  'J.K. Rowling',\n",
       "  'James Baldwin',\n",
       "  'Jane Austen',\n",
       "  'Eleanor Roosevelt',\n",
       "  'Marilyn Monroe',\n",
       "  'Albert Einstein',\n",
       "  'Haruki Murakami',\n",
       "  'Alexandre Dumas fils',\n",
       "  'Stephenie Meyer',\n",
       "  'Ernest Hemingway',\n",
       "  'Helen Keller',\n",
       "  'George Bernard Shaw',\n",
       "  'Charles Bukowski',\n",
       "  'Suzanne Collins',\n",
       "  'Suzanne Collins',\n",
       "  'C.S. Lewis',\n",
       "  'J.R.R. Tolkien',\n",
       "  'J.K. Rowling',\n",
       "  'Ernest Hemingway',\n",
       "  'Ralph Waldo Emerson',\n",
       "  'Mark Twain',\n",
       "  'Dr. Seuss',\n",
       "  'Alfred Tennyson',\n",
       "  'Charles Bukowski',\n",
       "  'Terry Pratchett',\n",
       "  'Dr. Seuss',\n",
       "  'J.D. Salinger',\n",
       "  'George Carlin',\n",
       "  'John Lennon',\n",
       "  'W.C. Fields',\n",
       "  'Ayn Rand',\n",
       "  'Mark Twain',\n",
       "  'Albert Einstein',\n",
       "  'Jane Austen',\n",
       "  'J.K. Rowling',\n",
       "  'Jane Austen',\n",
       "  'Jane Austen',\n",
       "  'C.S. Lewis',\n",
       "  'C.S. Lewis',\n",
       "  'Mark Twain',\n",
       "  'Mark Twain',\n",
       "  'C.S. Lewis',\n",
       "  'J.K. Rowling',\n",
       "  'Jimi Hendrix',\n",
       "  'J.M. Barrie',\n",
       "  'E.E. Cummings',\n",
       "  'Khaled Hosseini',\n",
       "  'Harper Lee',\n",
       "  \"Madeleine L'Engle\",\n",
       "  'Mark Twain',\n",
       "  'Dr. Seuss',\n",
       "  'George R.R. Martin'),\n",
       " 'quotes': ('“The world as we have created it is a process of our thinking. It cannot be changed without changing our thinking.”',\n",
       "  '“It is our choices, Harry, that show what we truly are, far more than our abilities.”',\n",
       "  '“There are only two ways to live your life. One is as though nothing is a miracle. The other is as though everything is a miracle.”',\n",
       "  '“The person, be it gentleman or lady, who has not pleasure in a good novel, must be intolerably stupid.”',\n",
       "  \"“Imperfection is beauty, madness is genius and it's better to be absolutely ridiculous than absolutely boring.”\",\n",
       "  '“Try not to become a man of success. Rather become a man of value.”',\n",
       "  '“It is better to be hated for what you are than to be loved for what you are not.”',\n",
       "  \"“I have not failed. I've just found 10,000 ways that won't work.”\",\n",
       "  \"“A woman is like a tea bag; you never know how strong it is until it's in hot water.”\",\n",
       "  '“A day without sunshine is like, you know, night.”',\n",
       "  \"“This life is what you make it. No matter what, you're going to mess up sometimes, it's a universal truth. But the good part is you get to decide how you're going to mess it up. Girls will be your friends - they'll act like it anyway. But just remember, some come, some go. The ones that stay with you through everything - they're your true best friends. Don't let go of them. Also remember, sisters make the best friends in the world. As for lovers, well, they'll come and go too. And baby, I hate to say it, most of them - actually pretty much all of them are going to break your heart, but you can't give up because if you give up, you'll never find your soulmate. You'll never find that half who makes you whole and that goes for everything. Just because you fail once, doesn't mean you're gonna fail at everything. Keep trying, hold on, and always, always, always believe in yourself, because if you don't, then who will, sweetie? So keep your head high, keep your chin up, and most importantly, keep smiling, because life's a beautiful thing and there's so much to smile about.”\",\n",
       "  '“It takes a great deal of bravery to stand up to our enemies, but just as much to stand up to our friends.”',\n",
       "  \"“If you can't explain it to a six year old, you don't understand it yourself.”\",\n",
       "  \"“You may not be her first, her last, or her only. She loved before she may love again. But if she loves you now, what else matters? She's not perfect—you aren't either, and the two of you may never be perfect together but if she can make you laugh, cause you to think twice, and admit to being human and making mistakes, hold onto her and give her the most you can. She may not be thinking about you every second of the day, but she will give you a part of her that she knows you can break—her heart. So don't hurt her, don't change her, don't analyze and don't expect more than she can give. Smile when she makes you happy, let her know when she makes you mad, and miss her when she's not there.”\",\n",
       "  '“I like nonsense, it wakes up the brain cells. Fantasy is a necessary ingredient in living.”',\n",
       "  '“I may not have gone where I intended to go, but I think I have ended up where I needed to be.”',\n",
       "  \"“The opposite of love is not hate, it's indifference. The opposite of art is not ugliness, it's indifference. The opposite of faith is not heresy, it's indifference. And the opposite of life is not death, it's indifference.”\",\n",
       "  '“It is not a lack of love, but a lack of friendship that makes unhappy marriages.”',\n",
       "  '“Good friends, good books, and a sleepy conscience: this is the ideal life.”',\n",
       "  '“Life is what happens to us while we are making other plans.”',\n",
       "  '“I love you without knowing how, or when, or from where. I love you simply, without problems or pride: I love you in this way because I do not know any other way of loving but this, in which there is no I or you, so intimate that your hand upon my chest is my hand, so intimate that when I fall asleep your eyes close.”',\n",
       "  '“For every minute you are angry you lose sixty seconds of happiness.”',\n",
       "  '“If you judge people, you have no time to love them.”',\n",
       "  '“Anyone who thinks sitting in church can make you a Christian must also think that sitting in a garage can make you a car.”',\n",
       "  '“Beauty is in the eye of the beholder and it may be necessary from time to time to give a stupid or misinformed beholder a black eye.”',\n",
       "  '“Today you are You, that is truer than true. There is no one alive who is Youer than You.”',\n",
       "  '“If you want your children to be intelligent, read them fairy tales. If you want them to be more intelligent, read them more fairy tales.”',\n",
       "  '“It is impossible to live without failing at something, unless you live so cautiously that you might as well not have lived at all - in which case, you fail by default.”',\n",
       "  '“Logic will get you from A to Z; imagination will get you everywhere.”',\n",
       "  '“One good thing about music, when it hits you, you feel no pain.”',\n",
       "  \"“The more that you read, the more things you will know. The more that you learn, the more places you'll go.”\",\n",
       "  '“Of course it is happening inside your head, Harry, but why on earth should that mean that it is not real?”',\n",
       "  '“The truth is, everyone is going to hurt you. You just got to find the ones worth suffering for.”',\n",
       "  '“Not all of us can do great things. But we can do small things with great love.”',\n",
       "  '“To the well-organized mind, death is but the next great adventure.”',\n",
       "  \"“All you need is love. But a little chocolate now and then doesn't hurt.”\",\n",
       "  \"“We read to know we're not alone.”\",\n",
       "  '“Any fool can know. The point is to understand.”',\n",
       "  '“I have always imagined that Paradise will be a kind of library.”',\n",
       "  '“It is never too late to be what you might have been.”',\n",
       "  '“A reader lives a thousand lives before he dies, said Jojen. The man who never reads lives only one.”',\n",
       "  '“You can never get a cup of tea large enough or a book long enough to suit me.”',\n",
       "  '“You believe lies so you eventually learn to trust no one but yourself.”',\n",
       "  '“If you can make a woman laugh, you can make her do anything.”',\n",
       "  '“Life is like riding a bicycle. To keep your balance, you must keep moving.”',\n",
       "  '“The real lover is the man who can thrill you by kissing your forehead or smiling into your eyes or just staring into space.”',\n",
       "  \"“A wise girl kisses but doesn't love, listens but doesn't believe, and leaves before she is left.”\",\n",
       "  '“Only in the darkness can you see the stars.”',\n",
       "  '“It matters not what someone is born, but what they grow to be.”',\n",
       "  '“Love does not begin and end the way we seem to think it does. Love is a battle, love is a war; love is a growing up.”',\n",
       "  '“There is nothing I would not do for those who are really my friends. I have no notion of loving people by halves, it is not my nature.”',\n",
       "  '“Do one thing every day that scares you.”',\n",
       "  '“I am good, but not an angel. I do sin, but I am not the devil. I am just a small girl in a big world trying to find someone to love.”',\n",
       "  '“If I were not a physicist, I would probably be a musician. I often think in music. I live my daydreams in music. I see my life in terms of music.”',\n",
       "  '“If you only read the books that everyone else is reading, you can only think what everyone else is thinking.”',\n",
       "  '“The difference between genius and stupidity is: genius has its limits.”',\n",
       "  \"“He's like a drug for you, Bella.”\",\n",
       "  '“There is no friend as loyal as a book.”',\n",
       "  '“When one door of happiness closes, another opens; but often we look so long at the closed door that we do not see the one which has been opened for us.”',\n",
       "  \"“Life isn't about finding yourself. Life is about creating yourself.”\",\n",
       "  \"“That's the problem with drinking, I thought, as I poured myself a drink. If something bad happens you drink in an attempt to forget; if something good happens you drink in order to celebrate; and if nothing happens you drink to make something happen.”\",\n",
       "  '“You don’t forget the face of the person who was your last hope.”',\n",
       "  \"“Remember, we're madly in love, so it's all right to kiss me anytime you feel like it.”\",\n",
       "  '“To love at all is to be vulnerable. Love anything and your heart will be wrung and possibly broken. If you want to make sure of keeping it intact you must give it to no one, not even an animal. Wrap it carefully round with hobbies and little luxuries; avoid all entanglements. Lock it up safe in the casket or coffin of your selfishness. But in that casket, safe, dark, motionless, airless, it will change. It will not be broken; it will become unbreakable, impenetrable, irredeemable. To love is to be vulnerable.”',\n",
       "  '“Not all those who wander are lost.”',\n",
       "  '“Do not pity the dead, Harry. Pity the living, and, above all those who live without love.”',\n",
       "  '“There is nothing to writing. All you do is sit down at a typewriter and bleed.”',\n",
       "  '“Finish each day and be done with it. You have done what you could. Some blunders and absurdities no doubt crept in; forget them as soon as you can. Tomorrow is a new day. You shall begin it serenely and with too high a spirit to be encumbered with your old nonsense.”',\n",
       "  '“I have never let my schooling interfere with my education.”',\n",
       "  \"“I have heard there are troubles of more than one kind. Some come from ahead and some come from behind. But I've bought a big bat. I'm all ready you see. Now my troubles are going to have troubles with me!”\",\n",
       "  '“If I had a flower for every time I thought of you...I could walk through my garden forever.”',\n",
       "  '“Some people never go crazy. What truly horrible lives they must lead.”',\n",
       "  '“The trouble with having an open mind, of course, is that people will insist on coming along and trying to put things in it.”',\n",
       "  '“Think left and think right and think low and think high. Oh, the thinks you can think up if only you try!”',\n",
       "  \"“What really knocks me out is a book that, when you're all done reading it, you wish the author that wrote it was a terrific friend of yours and you could call him up on the phone whenever you felt like it. That doesn't happen much, though.”\",\n",
       "  '“The reason I talk to myself is because I’m the only one whose answers I accept.”',\n",
       "  \"“You may say I'm a dreamer, but I'm not the only one. I hope someday you'll join us. And the world will live as one.”\",\n",
       "  '“I am free of all prejudice. I hate everyone equally. ”',\n",
       "  \"“The question isn't who is going to let me; it's who is going to stop me.”\",\n",
       "  \"“′Classic′ - a book which people praise and don't read.”\",\n",
       "  '“Anyone who has never made a mistake has never tried anything new.”',\n",
       "  \"“A lady's imagination is very rapid; it jumps from admiration to love, from love to matrimony in a moment.”\",\n",
       "  '“Remember, if the time should come when you have to make a choice between what is right and what is easy, remember what happened to a boy who was good, and kind, and brave, because he strayed across the path of Lord Voldemort. Remember Cedric Diggory.”',\n",
       "  '“I declare after all there is no enjoyment like reading! How much sooner one tires of any thing than of a book! -- When I have a house of my own, I shall be miserable if I have not an excellent library.”',\n",
       "  '“There are few people whom I really love, and still fewer of whom I think well. The more I see of the world, the more am I dissatisfied with it; and every day confirms my belief of the inconsistency of all human characters, and of the little dependence that can be placed on the appearance of merit or sense.”',\n",
       "  '“Some day you will be old enough to start reading fairy tales again.”',\n",
       "  '“We are not necessarily doubting that God will do the best for us; we are wondering how painful the best will turn out to be.”',\n",
       "  '“The fear of death follows from the fear of life. A man who lives fully is prepared to die at any time.”',\n",
       "  '“A lie can travel half way around the world while the truth is putting on its shoes.”',\n",
       "  '“I believe in Christianity as I believe that the sun has risen: not only because I see it, but because by it I see everything else.”',\n",
       "  '“The truth.\" Dumbledore sighed. \"It is a beautiful and terrible thing, and should therefore be treated with great caution.”',\n",
       "  \"“I'm the one that's got to die when it's time for me to die, so let me live my life the way I want to.”\",\n",
       "  '“To die will be an awfully big adventure.”',\n",
       "  '“It takes courage to grow up and become who you really are.”',\n",
       "  '“But better to get hurt by the truth than comforted with a lie.”',\n",
       "  '“You never really understand a person until you consider things from his point of view... Until you climb inside of his skin and walk around in it.”',\n",
       "  '“You have to write the book that wants to be written. And if the book will be too difficult for grown-ups, then you write it for children.”',\n",
       "  '“Never tell the truth to people who are not worthy of it.”',\n",
       "  \"“A person's a person, no matter how small.”\",\n",
       "  '“... a mind needs books as a sword needs a whetstone, if it is to keep its edge.”'),\n",
       " 'tags': (['change', 'deep-thoughts', 'thinking', 'world'],\n",
       "  ['abilities', 'choices'],\n",
       "  ['inspirational', 'life', 'live', 'miracle', 'miracles'],\n",
       "  ['aliteracy', 'books', 'classic', 'humor'],\n",
       "  ['be-yourself', 'inspirational'],\n",
       "  ['adulthood', 'success', 'value'],\n",
       "  ['life', 'love'],\n",
       "  ['edison', 'failure', 'inspirational', 'paraphrased'],\n",
       "  ['misattributed-eleanor-roosevelt'],\n",
       "  ['humor', 'obvious', 'simile'],\n",
       "  ['friends', 'heartbreak', 'inspirational', 'life', 'love', 'sisters'],\n",
       "  ['courage', 'friends'],\n",
       "  ['simplicity', 'understand'],\n",
       "  ['love'],\n",
       "  ['fantasy'],\n",
       "  ['life', 'navigation'],\n",
       "  ['activism',\n",
       "   'apathy',\n",
       "   'hate',\n",
       "   'indifference',\n",
       "   'inspirational',\n",
       "   'love',\n",
       "   'opposite',\n",
       "   'philosophy'],\n",
       "  ['friendship',\n",
       "   'lack-of-friendship',\n",
       "   'lack-of-love',\n",
       "   'love',\n",
       "   'marriage',\n",
       "   'unhappy-marriage'],\n",
       "  ['books', 'contentment', 'friends', 'friendship', 'life'],\n",
       "  ['fate', 'life', 'misattributed-john-lennon', 'planning', 'plans'],\n",
       "  ['love', 'poetry'],\n",
       "  ['happiness'],\n",
       "  ['attributed-no-source'],\n",
       "  ['humor', 'religion'],\n",
       "  ['humor'],\n",
       "  ['comedy', 'life', 'yourself'],\n",
       "  ['children', 'fairy-tales'],\n",
       "  [],\n",
       "  ['imagination'],\n",
       "  ['music'],\n",
       "  ['learning', 'reading', 'seuss'],\n",
       "  ['dumbledore'],\n",
       "  ['friendship'],\n",
       "  ['misattributed-to-mother-teresa', 'paraphrased'],\n",
       "  ['death', 'inspirational'],\n",
       "  ['chocolate', 'food', 'humor'],\n",
       "  ['misattributed-to-c-s-lewis', 'reading'],\n",
       "  ['knowledge', 'learning', 'understanding', 'wisdom'],\n",
       "  ['books', 'library'],\n",
       "  ['inspirational'],\n",
       "  ['read', 'readers', 'reading', 'reading-books'],\n",
       "  ['books', 'inspirational', 'reading', 'tea'],\n",
       "  [],\n",
       "  ['girls', 'love'],\n",
       "  ['life', 'simile'],\n",
       "  ['love'],\n",
       "  ['attributed-no-source'],\n",
       "  ['hope', 'inspirational'],\n",
       "  ['dumbledore'],\n",
       "  ['love'],\n",
       "  ['friendship', 'love'],\n",
       "  ['attributed', 'fear', 'inspiration'],\n",
       "  ['attributed-no-source'],\n",
       "  ['music'],\n",
       "  ['books', 'thought'],\n",
       "  ['misattributed-to-einstein'],\n",
       "  ['drug', 'romance', 'simile'],\n",
       "  ['books', 'friends', 'novelist-quotes'],\n",
       "  ['inspirational'],\n",
       "  ['inspirational', 'life', 'yourself'],\n",
       "  ['alcohol'],\n",
       "  ['the-hunger-games'],\n",
       "  ['humor'],\n",
       "  ['love'],\n",
       "  ['bilbo', 'journey', 'lost', 'quest', 'travel', 'wander'],\n",
       "  ['live-death-love'],\n",
       "  ['good', 'writing'],\n",
       "  ['life', 'regrets'],\n",
       "  ['education'],\n",
       "  ['troubles'],\n",
       "  ['friendship', 'love'],\n",
       "  ['humor'],\n",
       "  ['humor', 'open-mind', 'thinking'],\n",
       "  ['humor', 'philosophy'],\n",
       "  ['authors', 'books', 'literature', 'reading', 'writing'],\n",
       "  ['humor', 'insanity', 'lies', 'lying', 'self-indulgence', 'truth'],\n",
       "  ['beatles',\n",
       "   'connection',\n",
       "   'dreamers',\n",
       "   'dreaming',\n",
       "   'dreams',\n",
       "   'hope',\n",
       "   'inspirational',\n",
       "   'peace'],\n",
       "  ['humor', 'sinister'],\n",
       "  [],\n",
       "  ['books', 'classic', 'reading'],\n",
       "  ['mistakes'],\n",
       "  ['humor', 'love', 'romantic', 'women'],\n",
       "  ['integrity'],\n",
       "  ['books', 'library', 'reading'],\n",
       "  ['elizabeth-bennet', 'jane-austen'],\n",
       "  ['age', 'fairytales', 'growing-up'],\n",
       "  ['god'],\n",
       "  ['death', 'life'],\n",
       "  ['misattributed-mark-twain', 'truth'],\n",
       "  ['christianity', 'faith', 'religion', 'sun'],\n",
       "  ['truth'],\n",
       "  ['death', 'life'],\n",
       "  ['adventure', 'love'],\n",
       "  ['courage'],\n",
       "  ['life'],\n",
       "  ['better-life-empathy'],\n",
       "  ['books',\n",
       "   'children',\n",
       "   'difficult',\n",
       "   'grown-ups',\n",
       "   'write',\n",
       "   'writers',\n",
       "   'writing'],\n",
       "  ['truth'],\n",
       "  ['inspirational'],\n",
       "  ['books', 'mind'])}"
      ]
     },
     "execution_count": 135,
     "metadata": {},
     "output_type": "execute_result"
    }
   ],
   "source": [
    "\n",
    "data = dict(zip(['authors', 'quotes', 'tags'], zip(*quotes_data)))\n",
    "data"
   ]
  },
  {
   "cell_type": "code",
   "execution_count": 137,
   "metadata": {},
   "outputs": [
    {
     "name": "stdout",
     "output_type": "stream",
     "text": [
      "Collecting pandas\n",
      "  Downloading pandas-1.3.4-cp38-cp38-manylinux_2_17_x86_64.manylinux2014_x86_64.whl (11.5 MB)\n",
      "\u001b[K     |████████████████████████████████| 11.5 MB 12.6 MB/s \n",
      "\u001b[?25hCollecting pytz>=2017.3\n",
      "  Using cached pytz-2021.3-py2.py3-none-any.whl (503 kB)\n",
      "Requirement already satisfied: python-dateutil>=2.7.3 in ./.venv/lib/python3.8/site-packages (from pandas) (2.8.2)\n",
      "Collecting numpy>=1.17.3\n",
      "  Downloading numpy-1.21.3-cp38-cp38-manylinux_2_12_x86_64.manylinux2010_x86_64.whl (15.7 MB)\n",
      "\u001b[K     |████████████████████████████████| 15.7 MB 6.6 MB/s \n",
      "\u001b[?25hRequirement already satisfied: six>=1.5 in ./.venv/lib/python3.8/site-packages (from python-dateutil>=2.7.3->pandas) (1.16.0)\n",
      "Installing collected packages: pytz, numpy, pandas\n",
      "Successfully installed numpy-1.21.3 pandas-1.3.4 pytz-2021.3\n",
      "\u001b[33mWARNING: You are using pip version 21.1.1; however, version 21.3.1 is available.\n",
      "You should consider upgrading via the '/home/vmussa/dev/alexandria/notebooks/.venv/bin/python -m pip install --upgrade pip' command.\u001b[0m\n"
     ]
    }
   ],
   "source": [
    "!pip install pandas"
   ]
  },
  {
   "cell_type": "code",
   "execution_count": 138,
   "metadata": {},
   "outputs": [
    {
     "data": {
      "text/html": [
       "<div>\n",
       "<style scoped>\n",
       "    .dataframe tbody tr th:only-of-type {\n",
       "        vertical-align: middle;\n",
       "    }\n",
       "\n",
       "    .dataframe tbody tr th {\n",
       "        vertical-align: top;\n",
       "    }\n",
       "\n",
       "    .dataframe thead th {\n",
       "        text-align: right;\n",
       "    }\n",
       "</style>\n",
       "<table border=\"1\" class=\"dataframe\">\n",
       "  <thead>\n",
       "    <tr style=\"text-align: right;\">\n",
       "      <th></th>\n",
       "      <th>authors</th>\n",
       "      <th>quotes</th>\n",
       "      <th>tags</th>\n",
       "    </tr>\n",
       "  </thead>\n",
       "  <tbody>\n",
       "    <tr>\n",
       "      <th>0</th>\n",
       "      <td>Albert Einstein</td>\n",
       "      <td>“The world as we have created it is a process ...</td>\n",
       "      <td>[change, deep-thoughts, thinking, world]</td>\n",
       "    </tr>\n",
       "    <tr>\n",
       "      <th>1</th>\n",
       "      <td>J.K. Rowling</td>\n",
       "      <td>“It is our choices, Harry, that show what we t...</td>\n",
       "      <td>[abilities, choices]</td>\n",
       "    </tr>\n",
       "    <tr>\n",
       "      <th>2</th>\n",
       "      <td>Albert Einstein</td>\n",
       "      <td>“There are only two ways to live your life. On...</td>\n",
       "      <td>[inspirational, life, live, miracle, miracles]</td>\n",
       "    </tr>\n",
       "    <tr>\n",
       "      <th>3</th>\n",
       "      <td>Jane Austen</td>\n",
       "      <td>“The person, be it gentleman or lady, who has ...</td>\n",
       "      <td>[aliteracy, books, classic, humor]</td>\n",
       "    </tr>\n",
       "    <tr>\n",
       "      <th>4</th>\n",
       "      <td>Marilyn Monroe</td>\n",
       "      <td>“Imperfection is beauty, madness is genius and...</td>\n",
       "      <td>[be-yourself, inspirational]</td>\n",
       "    </tr>\n",
       "    <tr>\n",
       "      <th>...</th>\n",
       "      <td>...</td>\n",
       "      <td>...</td>\n",
       "      <td>...</td>\n",
       "    </tr>\n",
       "    <tr>\n",
       "      <th>95</th>\n",
       "      <td>Harper Lee</td>\n",
       "      <td>“You never really understand a person until yo...</td>\n",
       "      <td>[better-life-empathy]</td>\n",
       "    </tr>\n",
       "    <tr>\n",
       "      <th>96</th>\n",
       "      <td>Madeleine L'Engle</td>\n",
       "      <td>“You have to write the book that wants to be w...</td>\n",
       "      <td>[books, children, difficult, grown-ups, write,...</td>\n",
       "    </tr>\n",
       "    <tr>\n",
       "      <th>97</th>\n",
       "      <td>Mark Twain</td>\n",
       "      <td>“Never tell the truth to people who are not wo...</td>\n",
       "      <td>[truth]</td>\n",
       "    </tr>\n",
       "    <tr>\n",
       "      <th>98</th>\n",
       "      <td>Dr. Seuss</td>\n",
       "      <td>“A person's a person, no matter how small.”</td>\n",
       "      <td>[inspirational]</td>\n",
       "    </tr>\n",
       "    <tr>\n",
       "      <th>99</th>\n",
       "      <td>George R.R. Martin</td>\n",
       "      <td>“... a mind needs books as a sword needs a whe...</td>\n",
       "      <td>[books, mind]</td>\n",
       "    </tr>\n",
       "  </tbody>\n",
       "</table>\n",
       "<p>100 rows × 3 columns</p>\n",
       "</div>"
      ],
      "text/plain": [
       "               authors                                             quotes  \\\n",
       "0      Albert Einstein  “The world as we have created it is a process ...   \n",
       "1         J.K. Rowling  “It is our choices, Harry, that show what we t...   \n",
       "2      Albert Einstein  “There are only two ways to live your life. On...   \n",
       "3          Jane Austen  “The person, be it gentleman or lady, who has ...   \n",
       "4       Marilyn Monroe  “Imperfection is beauty, madness is genius and...   \n",
       "..                 ...                                                ...   \n",
       "95          Harper Lee  “You never really understand a person until yo...   \n",
       "96   Madeleine L'Engle  “You have to write the book that wants to be w...   \n",
       "97          Mark Twain  “Never tell the truth to people who are not wo...   \n",
       "98           Dr. Seuss        “A person's a person, no matter how small.”   \n",
       "99  George R.R. Martin  “... a mind needs books as a sword needs a whe...   \n",
       "\n",
       "                                                 tags  \n",
       "0            [change, deep-thoughts, thinking, world]  \n",
       "1                                [abilities, choices]  \n",
       "2      [inspirational, life, live, miracle, miracles]  \n",
       "3                  [aliteracy, books, classic, humor]  \n",
       "4                        [be-yourself, inspirational]  \n",
       "..                                                ...  \n",
       "95                              [better-life-empathy]  \n",
       "96  [books, children, difficult, grown-ups, write,...  \n",
       "97                                            [truth]  \n",
       "98                                    [inspirational]  \n",
       "99                                      [books, mind]  \n",
       "\n",
       "[100 rows x 3 columns]"
      ]
     },
     "execution_count": 138,
     "metadata": {},
     "output_type": "execute_result"
    }
   ],
   "source": [
    "import pandas as pd\n",
    "\n",
    "df = pd.DataFrame(data)\n",
    "df"
   ]
  },
  {
   "cell_type": "code",
   "execution_count": 139,
   "metadata": {},
   "outputs": [],
   "source": [
    "df.to_csv('scraped_data.csv', index=False)"
   ]
  },
  {
   "cell_type": "markdown",
   "metadata": {},
   "source": [
    "# Referências"
   ]
  },
  {
   "cell_type": "markdown",
   "metadata": {},
   "source": [
    "## Tecnologias da Web\n",
    "* [https://en.wikipedia.org/wiki/Internet]()\n",
    "* [https://en.wikipedia.org/wiki/URL]()\n",
    "* [https://en.wikipedia.org/wiki/World_Wide_Web]()\n",
    "* [https://en.wikipedia.org/wiki/HTML]()\n",
    "* [https://en.wikipedia.org/wiki/CSS]()\n",
    "* [https://en.wikipedia.org/wiki/JavaScript]()"
   ]
  },
  {
   "cell_type": "markdown",
   "metadata": {},
   "source": [
    "## Raspagem de dados com Python\n",
    "* MITCHELL, R. [Web Scraping with Python](https://www.oreilly.com/library/view/web-scraping-with/9781491985564/). 2. ed. Sebastopol, CA, O’Reilly Media, Inc., 2018. \n",
    "* "
   ]
  },
  {
   "cell_type": "markdown",
   "metadata": {},
   "source": []
  }
 ],
 "metadata": {
  "interpreter": {
   "hash": "f2a0f9a9ce29502547ef8b20022140c44c7eb9b587c3771383073f0ed5caa7da"
  },
  "kernelspec": {
   "display_name": "Python 3.8.10 64-bit ('.venv': venv)",
   "name": "python3"
  },
  "language_info": {
   "codemirror_mode": {
    "name": "ipython",
    "version": 3
   },
   "file_extension": ".py",
   "mimetype": "text/x-python",
   "name": "python",
   "nbconvert_exporter": "python",
   "pygments_lexer": "ipython3",
   "version": "3.8.10"
  },
  "orig_nbformat": 4
 },
 "nbformat": 4,
 "nbformat_minor": 2
}
